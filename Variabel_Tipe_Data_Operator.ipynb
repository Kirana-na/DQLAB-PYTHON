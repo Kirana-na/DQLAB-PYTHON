{
  "nbformat": 4,
  "nbformat_minor": 0,
  "metadata": {
    "colab": {
      "provenance": []
    },
    "kernelspec": {
      "name": "python3",
      "display_name": "Python 3"
    },
    "language_info": {
      "name": "python"
    }
  },
  "cells": [
    {
      "cell_type": "markdown",
      "source": [
        "# <b>A. <span style='color:#0B2F9F'><code>VARIABEL</code></span></b>\n",
        "Variabel pada bahasa pemrograman adalah tempat penyimpanan untuk data atau informasi. Variabel digunakan untuk menyimpan nilai, yang kemudian bisa diakses atau dimanipulasi dalam program.\n",
        "\n",
        "Aturan penamaan variabel (pada Python):\n",
        "- Hanya huruf, angka, dan underscore\n",
        "- Nama variabel tidak dapat diawali dengan angka\n",
        "- Usahakan nama variabel sesuai dengan kegunaannya\n",
        "- Lowercase preferred"
      ],
      "metadata": {
        "id": "KN0flVG_gSFN"
      }
    },
    {
      "cell_type": "code",
      "execution_count": null,
      "metadata": {
        "id": "Mh_MEJXjGZQn"
      },
      "outputs": [],
      "source": [
        "# Mengisi nilai 5 pada variabel x\n",
        "\n",
        "x = 5"
      ]
    },
    {
      "cell_type": "code",
      "source": [
        "# Mengisi nilai 3.14 pada variabel y\n",
        "\n",
        "y = 3.14"
      ],
      "metadata": {
        "id": "oCqJji34GZLx"
      },
      "execution_count": null,
      "outputs": []
    },
    {
      "cell_type": "markdown",
      "source": [
        "### <b>Menampilkan variabel/hasil</b></li>\n",
        "\n",
        "Dalam python, jika ingin menampilkan sesuatu, dapat langsung memanggil variabel nya atau dengan menggunakan print()."
      ],
      "metadata": {
        "id": "6rrSM36R1Nue"
      }
    },
    {
      "cell_type": "code",
      "source": [
        "# Menampilkan nilai x\n",
        "\n",
        "x"
      ],
      "metadata": {
        "colab": {
          "base_uri": "https://localhost:8080/"
        },
        "id": "9HwgwgEt1hHz",
        "outputId": "5777ad27-8c77-4747-8ce6-b46f09b942f7"
      },
      "execution_count": null,
      "outputs": [
        {
          "output_type": "execute_result",
          "data": {
            "text/plain": [
              "5"
            ]
          },
          "metadata": {},
          "execution_count": 3
        }
      ]
    },
    {
      "cell_type": "code",
      "source": [
        "# Menampilkan nilai y\n",
        "\n",
        "print(y)"
      ],
      "metadata": {
        "colab": {
          "base_uri": "https://localhost:8080/"
        },
        "id": "HLwjW85C1sqP",
        "outputId": "55f20d71-cb75-43a0-e2a1-0fb1f75a82e7"
      },
      "execution_count": null,
      "outputs": [
        {
          "output_type": "stream",
          "name": "stdout",
          "text": [
            "3.14\n"
          ]
        }
      ]
    },
    {
      "cell_type": "markdown",
      "source": [
        "# <b>B. <span style='color:#0B2F9F'><code>TIPE DATA</code></span></b>"
      ],
      "metadata": {
        "id": "pH-e5ieC3CSK"
      }
    },
    {
      "cell_type": "markdown",
      "source": [
        "<a id=\"A.1.\"></a>\n",
        "## <b>B.1. <span style='color:#A0C4FF'>Numerik : Integer & Float</span></b>\n",
        "\n",
        "Integer (int) merupakan tipe data untuk menyimpan bilangan bulat. Integer tidak memiliki bagian desimal dan dapat berupa bilangan positif, negatif, atau nol.\n",
        "\n",
        "Float (float) merupakan tipe data untuk menyimpan bilangan desimal. Float digunakan untuk operasi matematika yang melibatkan angka pecahan."
      ],
      "metadata": {
        "id": "owoJn72dGP6v"
      }
    },
    {
      "cell_type": "code",
      "source": [
        "# Tipe data dari x adalah integer\n",
        "print(x)\n",
        "type(x)"
      ],
      "metadata": {
        "id": "pdsceARNGndX",
        "colab": {
          "base_uri": "https://localhost:8080/"
        },
        "outputId": "1c1a8df1-cf33-454e-bd85-b862934f12c5"
      },
      "execution_count": null,
      "outputs": [
        {
          "output_type": "stream",
          "name": "stdout",
          "text": [
            "5\n"
          ]
        },
        {
          "output_type": "execute_result",
          "data": {
            "text/plain": [
              "int"
            ]
          },
          "metadata": {},
          "execution_count": 5
        }
      ]
    },
    {
      "cell_type": "code",
      "source": [
        "# Tipe data dari y adalah float\n",
        "print(y)\n",
        "type(y)"
      ],
      "metadata": {
        "colab": {
          "base_uri": "https://localhost:8080/"
        },
        "id": "F-jdt-V8GcAh",
        "outputId": "2ca57101-552c-4709-ffca-a5dd8b6878ed"
      },
      "execution_count": null,
      "outputs": [
        {
          "output_type": "stream",
          "name": "stdout",
          "text": [
            "3.14\n"
          ]
        },
        {
          "output_type": "execute_result",
          "data": {
            "text/plain": [
              "float"
            ]
          },
          "metadata": {},
          "execution_count": 6
        }
      ]
    },
    {
      "cell_type": "markdown",
      "source": [
        "<a id=\"A.1.\"></a>\n",
        "## <b>B.2. <span style='color:#A0C4FF'>Boolean</span></b>\n",
        "\n",
        "\n",
        "Boolean (bool) merupakan tipe data yang hanya memiliki dua nilai: True (1) atau False (0). Tipe ini sering digunakan untuk operasi logika dan pengkondisian."
      ],
      "metadata": {
        "id": "lI_d6EQWHQN-"
      }
    },
    {
      "cell_type": "code",
      "source": [
        "# Cara penulisan nilai True yang benar\n",
        "True"
      ],
      "metadata": {
        "colab": {
          "base_uri": "https://localhost:8080/"
        },
        "id": "F5I2uZtCG4my",
        "outputId": "2452ba35-a8a2-45b5-fbb1-1ac6a690b723"
      },
      "execution_count": null,
      "outputs": [
        {
          "output_type": "execute_result",
          "data": {
            "text/plain": [
              "True"
            ]
          },
          "metadata": {},
          "execution_count": 7
        }
      ]
    },
    {
      "cell_type": "code",
      "source": [
        "# Cara penulisan nilai False yang benar\n",
        "False"
      ],
      "metadata": {
        "colab": {
          "base_uri": "https://localhost:8080/"
        },
        "id": "fGqLEQWgHUV3",
        "outputId": "b25c1770-88a1-44b3-d812-9412eb8eeb46"
      },
      "execution_count": null,
      "outputs": [
        {
          "output_type": "execute_result",
          "data": {
            "text/plain": [
              "False"
            ]
          },
          "metadata": {},
          "execution_count": 8
        }
      ]
    },
    {
      "cell_type": "code",
      "source": [
        "# Penulisan true yang salah, colab akan menganggap 'true' sebagai nama variabel\n",
        "true"
      ],
      "metadata": {
        "colab": {
          "base_uri": "https://localhost:8080/",
          "height": 164
        },
        "id": "qOWemTWVHVCv",
        "outputId": "141bdaad-0bc8-470d-ae79-a58d6a51e989"
      },
      "execution_count": null,
      "outputs": [
        {
          "output_type": "error",
          "ename": "NameError",
          "evalue": "name 'true' is not defined",
          "traceback": [
            "\u001b[0;31m---------------------------------------------------------------------------\u001b[0m",
            "\u001b[0;31mNameError\u001b[0m                                 Traceback (most recent call last)",
            "\u001b[0;32m<ipython-input-9-aff177ad8315>\u001b[0m in \u001b[0;36m<cell line: 0>\u001b[0;34m()\u001b[0m\n\u001b[1;32m      1\u001b[0m \u001b[0;31m# Penulisan true yang salah, colab akan menganggap 'true' sebagai nama variabel\u001b[0m\u001b[0;34m\u001b[0m\u001b[0;34m\u001b[0m\u001b[0m\n\u001b[0;32m----> 2\u001b[0;31m \u001b[0mtrue\u001b[0m\u001b[0;34m\u001b[0m\u001b[0;34m\u001b[0m\u001b[0m\n\u001b[0m",
            "\u001b[0;31mNameError\u001b[0m: name 'true' is not defined"
          ]
        }
      ]
    },
    {
      "cell_type": "code",
      "source": [
        "# Kondisi yang dihubungkan dengan operator and akan bernilai benar jika semua kondisi benar\n",
        "True and True"
      ],
      "metadata": {
        "colab": {
          "base_uri": "https://localhost:8080/"
        },
        "id": "7s8uP4fRHVwK",
        "outputId": "fb2cb664-c9b9-47d1-d031-1bdccce8e92e"
      },
      "execution_count": null,
      "outputs": [
        {
          "output_type": "execute_result",
          "data": {
            "text/plain": [
              "True"
            ]
          },
          "metadata": {},
          "execution_count": 10
        }
      ]
    },
    {
      "cell_type": "code",
      "source": [
        "# Kondisi yang dihubungkan dengan operator and akan bernilai salah jika ada atau semua kondisi salah\n",
        "True and False"
      ],
      "metadata": {
        "colab": {
          "base_uri": "https://localhost:8080/"
        },
        "id": "ad0i85PVHoxX",
        "outputId": "7ee5a4bd-f075-4756-e9e1-e79f27e1c9e5"
      },
      "execution_count": null,
      "outputs": [
        {
          "output_type": "execute_result",
          "data": {
            "text/plain": [
              "False"
            ]
          },
          "metadata": {},
          "execution_count": 11
        }
      ]
    },
    {
      "cell_type": "code",
      "source": [
        "False and False"
      ],
      "metadata": {
        "colab": {
          "base_uri": "https://localhost:8080/"
        },
        "id": "ZhrMXk5NHqvm",
        "outputId": "f0cd01b9-44f3-409d-d0f1-6f40d3c9d9a0"
      },
      "execution_count": null,
      "outputs": [
        {
          "output_type": "execute_result",
          "data": {
            "text/plain": [
              "False"
            ]
          },
          "metadata": {},
          "execution_count": 12
        }
      ]
    },
    {
      "cell_type": "code",
      "source": [
        "# Contoh: seseorang akan mendapatkan pekerjaan jika rajin dan upgrade skill\n",
        "is_rajin = True\n",
        "is_upgrade_skill = True\n",
        "\n",
        "get_job = is_rajin and is_upgrade_skill\n",
        "\n",
        "get_job"
      ],
      "metadata": {
        "colab": {
          "base_uri": "https://localhost:8080/"
        },
        "id": "lM2b5IqbHuYh",
        "outputId": "b1843460-99a8-4265-c4e9-3d68d648b7ee"
      },
      "execution_count": null,
      "outputs": [
        {
          "output_type": "execute_result",
          "data": {
            "text/plain": [
              "True"
            ]
          },
          "metadata": {},
          "execution_count": 13
        }
      ]
    },
    {
      "cell_type": "code",
      "source": [
        "# Kondisi yang dihubungkan dengan operator or akan bernilai benar jika salah satu kondisi benar\n",
        "True or True"
      ],
      "metadata": {
        "colab": {
          "base_uri": "https://localhost:8080/"
        },
        "id": "fXFmyC35IFu8",
        "outputId": "ba090f90-dfae-4405-8cd7-8348c5e2f47c"
      },
      "execution_count": null,
      "outputs": [
        {
          "output_type": "execute_result",
          "data": {
            "text/plain": [
              "True"
            ]
          },
          "metadata": {},
          "execution_count": 14
        }
      ]
    },
    {
      "cell_type": "code",
      "source": [
        "True or False"
      ],
      "metadata": {
        "colab": {
          "base_uri": "https://localhost:8080/"
        },
        "id": "g3tVyz5YIOuv",
        "outputId": "4cca0568-935f-426b-9438-44ff9bddf206"
      },
      "execution_count": null,
      "outputs": [
        {
          "output_type": "execute_result",
          "data": {
            "text/plain": [
              "True"
            ]
          },
          "metadata": {},
          "execution_count": 15
        }
      ]
    },
    {
      "cell_type": "code",
      "source": [
        "# Kondisi yang dihubungkan dengan operator or akan bernilai salah jika semua kondisi salah\n",
        "False or False"
      ],
      "metadata": {
        "colab": {
          "base_uri": "https://localhost:8080/"
        },
        "id": "SOs9oXZ1IPxs",
        "outputId": "80c882f9-9996-4ed7-8d3c-9ba45a4e5370"
      },
      "execution_count": null,
      "outputs": [
        {
          "output_type": "execute_result",
          "data": {
            "text/plain": [
              "False"
            ]
          },
          "metadata": {},
          "execution_count": 16
        }
      ]
    },
    {
      "cell_type": "code",
      "source": [
        "# Seseorang dikatakan dari fakultas mipa jika dia dari jurusan matematika atau dari jurusan IPA\n",
        "is_matematika = True\n",
        "is_ipa = False\n",
        "\n",
        "is_mipa = is_matematika or is_ipa\n",
        "\n",
        "is_mipa"
      ],
      "metadata": {
        "colab": {
          "base_uri": "https://localhost:8080/"
        },
        "id": "liq7SYsiIRGj",
        "outputId": "0c18b112-32ec-4641-8782-2b85e2528a62"
      },
      "execution_count": null,
      "outputs": [
        {
          "output_type": "execute_result",
          "data": {
            "text/plain": [
              "True"
            ]
          },
          "metadata": {},
          "execution_count": 17
        }
      ]
    },
    {
      "cell_type": "code",
      "source": [
        "int(True)"
      ],
      "metadata": {
        "colab": {
          "base_uri": "https://localhost:8080/"
        },
        "id": "aJir-PJVLeqW",
        "outputId": "e497b8c2-e68f-4344-ab21-f9878ff4b07f"
      },
      "execution_count": null,
      "outputs": [
        {
          "output_type": "execute_result",
          "data": {
            "text/plain": [
              "1"
            ]
          },
          "metadata": {},
          "execution_count": 18
        }
      ]
    },
    {
      "cell_type": "code",
      "source": [
        "int(False)"
      ],
      "metadata": {
        "colab": {
          "base_uri": "https://localhost:8080/"
        },
        "id": "_0F9wIOgLgdm",
        "outputId": "ec5852ed-7fbd-4b3b-c56d-9c1531ef6b24"
      },
      "execution_count": null,
      "outputs": [
        {
          "output_type": "execute_result",
          "data": {
            "text/plain": [
              "0"
            ]
          },
          "metadata": {},
          "execution_count": 19
        }
      ]
    },
    {
      "cell_type": "code",
      "source": [
        "True + True"
      ],
      "metadata": {
        "colab": {
          "base_uri": "https://localhost:8080/"
        },
        "id": "FbWAT8KcLN1C",
        "outputId": "367ef8ab-faf5-49ce-d693-a02a5c7c34ec"
      },
      "execution_count": null,
      "outputs": [
        {
          "output_type": "execute_result",
          "data": {
            "text/plain": [
              "2"
            ]
          },
          "metadata": {},
          "execution_count": 20
        }
      ]
    },
    {
      "cell_type": "code",
      "source": [
        "False + False"
      ],
      "metadata": {
        "colab": {
          "base_uri": "https://localhost:8080/"
        },
        "id": "B75xGNHILP9f",
        "outputId": "ed828f27-d821-4ccc-a233-969df89bf4c1"
      },
      "execution_count": null,
      "outputs": [
        {
          "output_type": "execute_result",
          "data": {
            "text/plain": [
              "0"
            ]
          },
          "metadata": {},
          "execution_count": 21
        }
      ]
    },
    {
      "cell_type": "code",
      "source": [
        "True + False"
      ],
      "metadata": {
        "colab": {
          "base_uri": "https://localhost:8080/"
        },
        "id": "nZQpWcpZOMzp",
        "outputId": "b021edca-4e70-44ff-c5c0-2fd23252a856"
      },
      "execution_count": null,
      "outputs": [
        {
          "output_type": "execute_result",
          "data": {
            "text/plain": [
              "1"
            ]
          },
          "metadata": {},
          "execution_count": 22
        }
      ]
    },
    {
      "cell_type": "code",
      "source": [
        "3 * True"
      ],
      "metadata": {
        "colab": {
          "base_uri": "https://localhost:8080/"
        },
        "id": "OAToqm3OLSd7",
        "outputId": "c2d7b92b-65a7-43c5-f7c1-399d0af92d35"
      },
      "execution_count": null,
      "outputs": [
        {
          "output_type": "execute_result",
          "data": {
            "text/plain": [
              "3"
            ]
          },
          "metadata": {},
          "execution_count": 23
        }
      ]
    },
    {
      "cell_type": "markdown",
      "source": [
        "<a id=\"A.1.\"></a>\n",
        "## <b>B.3. <span style='color:#A0C4FF'>String</span></b>\n",
        "\n",
        "String (string) merupakan tipe data yang digunakan untuk menyimpan teks atau urutan karakter. String dapat didefinisikan dengan menggunakan tanda kutip tunggal (') atau ganda (\")."
      ],
      "metadata": {
        "id": "Oqk7wPjCLxY3"
      }
    },
    {
      "cell_type": "code",
      "source": [
        "# Nilai string diapit oleh tanda kutip\n",
        "'Hello world'"
      ],
      "metadata": {
        "id": "l-fDf8_xLFCC",
        "colab": {
          "base_uri": "https://localhost:8080/",
          "height": 36
        },
        "outputId": "bcb00d04-020b-495d-c8a4-c20ab95fd962"
      },
      "execution_count": null,
      "outputs": [
        {
          "output_type": "execute_result",
          "data": {
            "text/plain": [
              "'Hello world'"
            ],
            "application/vnd.google.colaboratory.intrinsic+json": {
              "type": "string"
            }
          },
          "metadata": {},
          "execution_count": 24
        }
      ]
    },
    {
      "cell_type": "code",
      "source": [
        "nama_depan = 'Elon'\n",
        "nama_belakang = 'Musk'\n",
        "\n",
        "nama_depan + ' ' + nama_belakang"
      ],
      "metadata": {
        "colab": {
          "base_uri": "https://localhost:8080/",
          "height": 36
        },
        "id": "Epb5IE2ZL1T4",
        "outputId": "314e7944-6e9d-4e84-cd58-420e339e4ebc"
      },
      "execution_count": null,
      "outputs": [
        {
          "output_type": "execute_result",
          "data": {
            "text/plain": [
              "'Elon Musk'"
            ],
            "application/vnd.google.colaboratory.intrinsic+json": {
              "type": "string"
            }
          },
          "metadata": {},
          "execution_count": 25
        }
      ]
    },
    {
      "cell_type": "code",
      "source": [
        "'Python' * 10"
      ],
      "metadata": {
        "colab": {
          "base_uri": "https://localhost:8080/",
          "height": 36
        },
        "id": "1xhDDxV9MNEp",
        "outputId": "ec474068-f0ef-4915-8d15-3f80a25961a7"
      },
      "execution_count": null,
      "outputs": [
        {
          "output_type": "execute_result",
          "data": {
            "text/plain": [
              "'PythonPythonPythonPythonPythonPythonPythonPythonPythonPython'"
            ],
            "application/vnd.google.colaboratory.intrinsic+json": {
              "type": "string"
            }
          },
          "metadata": {},
          "execution_count": 26
        }
      ]
    },
    {
      "cell_type": "code",
      "source": [
        "# Membuat string menjadi huruf besar (uppercase)\n",
        "'PyTHon'.upper()"
      ],
      "metadata": {
        "colab": {
          "base_uri": "https://localhost:8080/",
          "height": 36
        },
        "id": "vmUWd3P6Mkt_",
        "outputId": "16cb9f4d-de79-42c8-b5e2-6dd1ca550c6d"
      },
      "execution_count": null,
      "outputs": [
        {
          "output_type": "execute_result",
          "data": {
            "text/plain": [
              "'PYTHON'"
            ],
            "application/vnd.google.colaboratory.intrinsic+json": {
              "type": "string"
            }
          },
          "metadata": {},
          "execution_count": 27
        }
      ]
    },
    {
      "cell_type": "code",
      "source": [
        "# Membuat string menjadi huruf kecil (lowercase)\n",
        "'PyThon'.lower()"
      ],
      "metadata": {
        "colab": {
          "base_uri": "https://localhost:8080/",
          "height": 36
        },
        "id": "VrawS_mWMsuI",
        "outputId": "08074654-19d6-4d6c-81f9-8cfff8f9eb91"
      },
      "execution_count": null,
      "outputs": [
        {
          "output_type": "execute_result",
          "data": {
            "text/plain": [
              "'python'"
            ],
            "application/vnd.google.colaboratory.intrinsic+json": {
              "type": "string"
            }
          },
          "metadata": {},
          "execution_count": 28
        }
      ]
    },
    {
      "cell_type": "code",
      "source": [
        "# Membuat huruf pertama dalam string menjadi huruf besar (uppercase)\n",
        "'pyTHon'.capitalize()"
      ],
      "metadata": {
        "colab": {
          "base_uri": "https://localhost:8080/",
          "height": 36
        },
        "id": "BPUcvB0gbTvl",
        "outputId": "8b80753b-1a49-4e78-b893-66d74b708cab"
      },
      "execution_count": null,
      "outputs": [
        {
          "output_type": "execute_result",
          "data": {
            "text/plain": [
              "'Python'"
            ],
            "application/vnd.google.colaboratory.intrinsic+json": {
              "type": "string"
            }
          },
          "metadata": {},
          "execution_count": 29
        }
      ]
    },
    {
      "cell_type": "code",
      "source": [
        "# Menukar string huruf besar (uppercase) ke huruf kecil (lowercase)\n",
        "'PyThon'.swapcase()"
      ],
      "metadata": {
        "colab": {
          "base_uri": "https://localhost:8080/",
          "height": 36
        },
        "id": "5_AwzOJeMwWe",
        "outputId": "73d0ba72-9351-4691-dbc1-8a9d188f46af"
      },
      "execution_count": null,
      "outputs": [
        {
          "output_type": "execute_result",
          "data": {
            "text/plain": [
              "'pYtHON'"
            ],
            "application/vnd.google.colaboratory.intrinsic+json": {
              "type": "string"
            }
          },
          "metadata": {},
          "execution_count": 30
        }
      ]
    },
    {
      "cell_type": "code",
      "source": [
        "# Menghitung jumlah huruf dalam suatu string\n",
        "'Aku suka belajar Python'.count('u')"
      ],
      "metadata": {
        "colab": {
          "base_uri": "https://localhost:8080/"
        },
        "id": "HBFnGtcsMzdg",
        "outputId": "fd34a48b-8d72-4965-aad7-aa68eb12f033"
      },
      "execution_count": null,
      "outputs": [
        {
          "output_type": "execute_result",
          "data": {
            "text/plain": [
              "2"
            ]
          },
          "metadata": {},
          "execution_count": 31
        }
      ]
    },
    {
      "cell_type": "code",
      "source": [
        "# Mengganti suatu huruf menjadi huruf yang lain dalam suatu string\n",
        "'Aku suka belajar Python'.replace('u','i')"
      ],
      "metadata": {
        "colab": {
          "base_uri": "https://localhost:8080/",
          "height": 36
        },
        "id": "KSw4xwk9M39I",
        "outputId": "c37a32f4-2cbf-4941-be36-feb8fe7702de"
      },
      "execution_count": null,
      "outputs": [
        {
          "output_type": "execute_result",
          "data": {
            "text/plain": [
              "'Aki sika belajar Python'"
            ],
            "application/vnd.google.colaboratory.intrinsic+json": {
              "type": "string"
            }
          },
          "metadata": {},
          "execution_count": 32
        }
      ]
    },
    {
      "cell_type": "code",
      "source": [
        "# Menghapus spasi atau karakter tertentu di awal dan akhir string\n",
        "'      Aku suka belajar Python        '.strip()"
      ],
      "metadata": {
        "colab": {
          "base_uri": "https://localhost:8080/",
          "height": 36
        },
        "id": "00XokUFRM_IW",
        "outputId": "ec9ede33-e8b7-4746-c43e-1e559b515eb9"
      },
      "execution_count": null,
      "outputs": [
        {
          "output_type": "execute_result",
          "data": {
            "text/plain": [
              "'Aku suka belajar Python'"
            ],
            "application/vnd.google.colaboratory.intrinsic+json": {
              "type": "string"
            }
          },
          "metadata": {},
          "execution_count": 33
        }
      ]
    },
    {
      "cell_type": "code",
      "source": [
        "# Mengakses suatu karakter dalam suatu string\n",
        "#    0123456 8910  (indeks)\n",
        "z = 'Python. Sql'\n",
        "print(z[8])\n",
        "print(z[0:6])"
      ],
      "metadata": {
        "colab": {
          "base_uri": "https://localhost:8080/"
        },
        "id": "W87rSCyqcHLz",
        "outputId": "3913ba56-7eac-4584-d34d-6dec33353f77"
      },
      "execution_count": null,
      "outputs": [
        {
          "output_type": "stream",
          "name": "stdout",
          "text": [
            "S\n",
            "Python\n"
          ]
        }
      ]
    },
    {
      "cell_type": "markdown",
      "source": [
        "# <b>C. <span style='color:#0B2F9F'><code>OPERATOR</code></span></b>"
      ],
      "metadata": {
        "id": "G7m6HJ193aYe"
      }
    },
    {
      "cell_type": "markdown",
      "source": [
        "<a id=\"A.1.\"></a>\n",
        "## <b>C.1. <span style='color:#A0C4FF'>Operasi Dasar Matematika</span></b>\n",
        "\n",
        "Operasi matematika dasar dapat dilakukan dengan menggunakan operator-operator berikut:\n",
        "<br><br>\n",
        "<table border=\"1\">\n",
        "    <tr>\n",
        "        <th>Simbol</th>\n",
        "        <th>Operasi</th>\n",
        "    </tr>\n",
        "    <tr>\n",
        "        <td>+</td>\n",
        "        <td>Penjumlahan</td>\n",
        "    </tr>\n",
        "    <tr>\n",
        "        <td>-</td>\n",
        "        <td>Pengurangan</td>\n",
        "    </tr>\n",
        "    <tr>\n",
        "        <td>*</td>\n",
        "        <td>Perkalian</td>\n",
        "    </tr>\n",
        "    <tr>\n",
        "        <td>/</td>\n",
        "        <td>Pembagian</td>\n",
        "    </tr>\n",
        "    <tr>\n",
        "        <td>//</td>\n",
        "        <td>Pembagian (dibulatkan ke bawah)</td>\n",
        "    </tr>\n",
        "    <tr>\n",
        "        <td>%</td>\n",
        "        <td>Modulo (sisa hasil bagi)</td>\n",
        "    </tr>\n",
        "     <tr>\n",
        "        <td>-</td>\n",
        "        <td>Negasi (mengubah simbol)</td>\n",
        "    </tr>\n",
        "     <tr>\n",
        "        <td>**</td>\n",
        "        <td>Pangkat</td>\n",
        "    </tr>\n",
        "</table>"
      ],
      "metadata": {
        "id": "yrguYJ3-JtjD"
      }
    },
    {
      "cell_type": "code",
      "source": [
        "a = 10\n",
        "b = 3\n",
        "c = 4"
      ],
      "metadata": {
        "id": "JfsOeYimGl4a"
      },
      "execution_count": null,
      "outputs": []
    },
    {
      "cell_type": "code",
      "source": [
        "a + b"
      ],
      "metadata": {
        "colab": {
          "base_uri": "https://localhost:8080/"
        },
        "id": "NVg4-6eFGc6j",
        "outputId": "6746ca46-eb5d-4997-87c0-356eacb97ec2"
      },
      "execution_count": null,
      "outputs": [
        {
          "output_type": "execute_result",
          "data": {
            "text/plain": [
              "13"
            ]
          },
          "metadata": {},
          "execution_count": 36
        }
      ]
    },
    {
      "cell_type": "code",
      "source": [
        "a - b"
      ],
      "metadata": {
        "colab": {
          "base_uri": "https://localhost:8080/"
        },
        "id": "G4hHBedpGh7f",
        "outputId": "0a46f52f-3535-4786-faba-c36c55ca9718"
      },
      "execution_count": null,
      "outputs": [
        {
          "output_type": "execute_result",
          "data": {
            "text/plain": [
              "7"
            ]
          },
          "metadata": {},
          "execution_count": 37
        }
      ]
    },
    {
      "cell_type": "code",
      "source": [
        "a * b"
      ],
      "metadata": {
        "colab": {
          "base_uri": "https://localhost:8080/"
        },
        "id": "O_Y2SezVGkkt",
        "outputId": "2496c816-0e33-452d-cd2b-104bc81bfe76"
      },
      "execution_count": null,
      "outputs": [
        {
          "output_type": "execute_result",
          "data": {
            "text/plain": [
              "30"
            ]
          },
          "metadata": {},
          "execution_count": 38
        }
      ]
    },
    {
      "cell_type": "code",
      "source": [
        "a / b"
      ],
      "metadata": {
        "colab": {
          "base_uri": "https://localhost:8080/"
        },
        "id": "0QafaK3mGw-M",
        "outputId": "f90f7d92-a751-4c99-d946-aa83727e3f2c"
      },
      "execution_count": null,
      "outputs": [
        {
          "output_type": "execute_result",
          "data": {
            "text/plain": [
              "3.3333333333333335"
            ]
          },
          "metadata": {},
          "execution_count": 39
        }
      ]
    },
    {
      "cell_type": "code",
      "source": [
        "a // b"
      ],
      "metadata": {
        "colab": {
          "base_uri": "https://localhost:8080/"
        },
        "id": "SqByomU2Gx2_",
        "outputId": "1dc428eb-625b-4a63-8aa6-b3515dacc9f7"
      },
      "execution_count": null,
      "outputs": [
        {
          "output_type": "execute_result",
          "data": {
            "text/plain": [
              "3"
            ]
          },
          "metadata": {},
          "execution_count": 40
        }
      ]
    },
    {
      "cell_type": "code",
      "source": [
        "# Cara lain pembagian disertai pembulatan ke bawah\n",
        "import math\n",
        "print(math.floor(a/b))"
      ],
      "metadata": {
        "colab": {
          "base_uri": "https://localhost:8080/"
        },
        "id": "UQHhpzglNTNJ",
        "outputId": "41067aa7-4670-4bca-a443-64b467b97a7c"
      },
      "execution_count": null,
      "outputs": [
        {
          "output_type": "stream",
          "name": "stdout",
          "text": [
            "3\n"
          ]
        }
      ]
    },
    {
      "cell_type": "code",
      "source": [
        "# Pembagian disertai pembulatan ke atas\n",
        "import math\n",
        "print(math.ceil(a/b))"
      ],
      "metadata": {
        "colab": {
          "base_uri": "https://localhost:8080/"
        },
        "id": "JmL_-lD6MaPq",
        "outputId": "59d256ab-911f-4e48-bfc9-874df42e2b58"
      },
      "execution_count": null,
      "outputs": [
        {
          "output_type": "stream",
          "name": "stdout",
          "text": [
            "4\n"
          ]
        }
      ]
    },
    {
      "cell_type": "code",
      "source": [
        "a % b"
      ],
      "metadata": {
        "colab": {
          "base_uri": "https://localhost:8080/"
        },
        "id": "lkGGdugeGy1o",
        "outputId": "7adfa88b-180a-4403-e9ce-3d2c28440f88"
      },
      "execution_count": null,
      "outputs": [
        {
          "output_type": "execute_result",
          "data": {
            "text/plain": [
              "1"
            ]
          },
          "metadata": {},
          "execution_count": 43
        }
      ]
    },
    {
      "cell_type": "code",
      "source": [
        "-a"
      ],
      "metadata": {
        "colab": {
          "base_uri": "https://localhost:8080/"
        },
        "id": "s7TU0DCkG0qk",
        "outputId": "f8b27854-fb58-476e-8c71-2385072c11c4"
      },
      "execution_count": null,
      "outputs": [
        {
          "output_type": "execute_result",
          "data": {
            "text/plain": [
              "-10"
            ]
          },
          "metadata": {},
          "execution_count": 44
        }
      ]
    },
    {
      "cell_type": "code",
      "source": [
        "a ** b"
      ],
      "metadata": {
        "colab": {
          "base_uri": "https://localhost:8080/"
        },
        "id": "kmNynqbbG2UW",
        "outputId": "5f0ed716-b26f-4afa-be0a-8beca751b5c5"
      },
      "execution_count": null,
      "outputs": [
        {
          "output_type": "execute_result",
          "data": {
            "text/plain": [
              "1000"
            ]
          },
          "metadata": {},
          "execution_count": 45
        }
      ]
    },
    {
      "cell_type": "code",
      "source": [
        "# Akar kuadrat\n",
        "c**(1/2)"
      ],
      "metadata": {
        "colab": {
          "base_uri": "https://localhost:8080/"
        },
        "id": "zo8W7kilN20r",
        "outputId": "a3c2f9bb-9ac6-496f-d87c-11b07da054d5"
      },
      "execution_count": null,
      "outputs": [
        {
          "output_type": "execute_result",
          "data": {
            "text/plain": [
              "2.0"
            ]
          },
          "metadata": {},
          "execution_count": 46
        }
      ]
    },
    {
      "cell_type": "markdown",
      "source": [
        "<a id=\"A.1.\"></a>\n",
        "## <b>C.2. <span style='color:#A0C4FF'>Operasi Perbandingan</span></b>\n",
        "\n",
        "Operasi perbandingan digunakan untuk membandingkan dua nilai dan mengembalikan True atau False.\n",
        "<br><br>\n",
        "<table border=\"1\">\n",
        "    <tr>\n",
        "        <th>Simbol</th>\n",
        "        <th>Operasi</th>\n",
        "    </tr>\n",
        "    <tr>\n",
        "        <td><</td>\n",
        "        <td>Kurang dari</td>\n",
        "    </tr>\n",
        "    <tr>\n",
        "        <td>></td>\n",
        "        <td>Lebih dari</td>\n",
        "    </tr>\n",
        "    <tr>\n",
        "        <td><=</td>\n",
        "        <td>Kurang dari atau sama dengan</td>\n",
        "    </tr>\n",
        "    <tr>\n",
        "        <td>>=</td>\n",
        "        <td>Lebih dari atau sama dengan</td>\n",
        "    </tr>\n",
        "    <tr>\n",
        "        <td>==</td>\n",
        "        <td>Sama dengan</td>\n",
        "    </tr>\n",
        "    <tr>\n",
        "        <td>!=</td>\n",
        "        <td>Tidak sama dengan</td>\n",
        "    </tr>\n",
        "</table>"
      ],
      "metadata": {
        "id": "_XdG6oXhKmcc"
      }
    },
    {
      "cell_type": "code",
      "source": [
        "a = 3\n",
        "b = 4"
      ],
      "metadata": {
        "id": "sr15SQneKp3u"
      },
      "execution_count": null,
      "outputs": []
    },
    {
      "cell_type": "code",
      "source": [
        "a > b"
      ],
      "metadata": {
        "colab": {
          "base_uri": "https://localhost:8080/"
        },
        "id": "R1udm4zmK-yw",
        "outputId": "87888e14-00e0-4450-f8ad-f18e047d3968"
      },
      "execution_count": null,
      "outputs": [
        {
          "output_type": "execute_result",
          "data": {
            "text/plain": [
              "False"
            ]
          },
          "metadata": {},
          "execution_count": 48
        }
      ]
    },
    {
      "cell_type": "code",
      "source": [
        "a < b"
      ],
      "metadata": {
        "colab": {
          "base_uri": "https://localhost:8080/"
        },
        "id": "sIJozRMmK_5O",
        "outputId": "a259337c-bbfd-42bb-cf5d-badc3be7a2a7"
      },
      "execution_count": null,
      "outputs": [
        {
          "output_type": "execute_result",
          "data": {
            "text/plain": [
              "True"
            ]
          },
          "metadata": {},
          "execution_count": 49
        }
      ]
    },
    {
      "cell_type": "code",
      "source": [
        "a == 5"
      ],
      "metadata": {
        "colab": {
          "base_uri": "https://localhost:8080/"
        },
        "id": "iRD-OX9dLA9z",
        "outputId": "6179f88c-2120-437e-a840-a74cd1320a87"
      },
      "execution_count": null,
      "outputs": [
        {
          "output_type": "execute_result",
          "data": {
            "text/plain": [
              "False"
            ]
          },
          "metadata": {},
          "execution_count": 50
        }
      ]
    },
    {
      "cell_type": "code",
      "source": [
        "a != b"
      ],
      "metadata": {
        "colab": {
          "base_uri": "https://localhost:8080/"
        },
        "id": "v2ValuEeLC8P",
        "outputId": "0017e01e-3229-41c6-a8b9-fed62f2871d2"
      },
      "execution_count": null,
      "outputs": [
        {
          "output_type": "execute_result",
          "data": {
            "text/plain": [
              "True"
            ]
          },
          "metadata": {},
          "execution_count": 51
        }
      ]
    },
    {
      "cell_type": "markdown",
      "source": [
        "# <b>D. <span style='color:#0B2F9F'><code>LATIHAN</code></span></b>"
      ],
      "metadata": {
        "id": "K2d5v3WCpYz7"
      }
    },
    {
      "cell_type": "code",
      "source": [
        "# 1\n",
        "\n",
        "x = int(input(\"Masukan nilai x: \"))\n",
        "if x > 4:\n",
        "  print(\"Nilai x lebih dari 4\")\n",
        "elif x == 4:\n",
        "  print(\"Nilai x sama dengan 4\")\n",
        "else:\n",
        "  print(\"Nilai x kurang dari 4\")"
      ],
      "metadata": {
        "colab": {
          "base_uri": "https://localhost:8080/"
        },
        "id": "4Mnps6-8RYb_",
        "outputId": "c2417555-2921-4b3e-f528-134491015c8d"
      },
      "execution_count": null,
      "outputs": [
        {
          "output_type": "stream",
          "name": "stdout",
          "text": [
            "Masukan nilai x: 3\n",
            "Nilai x kurang dari 4\n"
          ]
        }
      ]
    },
    {
      "cell_type": "code",
      "source": [
        "# 2\n",
        "\n",
        "x = int(input(\"Masukan nilai x: \"))\n",
        "if x % 2 == 0:\n",
        "  print(\"x bilangan genap\")\n",
        "else:\n",
        "  print(\"x bilangan ganjil\")"
      ],
      "metadata": {
        "colab": {
          "base_uri": "https://localhost:8080/"
        },
        "id": "rYMeuu0eRjcV",
        "outputId": "6b7ac7eb-792a-460b-c130-060661c7e991"
      },
      "execution_count": null,
      "outputs": [
        {
          "output_type": "stream",
          "name": "stdout",
          "text": [
            "Masukan nilai x: 7\n",
            "x bilangan ganjil\n"
          ]
        }
      ]
    },
    {
      "cell_type": "code",
      "source": [
        "# 3\n",
        "\n",
        "x = int(input(\"Masukan nilai x: \"))\n",
        "y = int(input(\"Masukan nilai y: \"))\n",
        "if (x % 2 == 0) and (y % 3 == 0):\n",
        "  print(\"x dan y bilangan yang habis dibagi 2 dan 3\")\n",
        "else:\n",
        "  print(\"Salah satu dari x atau y adalah bilangan yang tidak habis dibagi 2 dan 3\")"
      ],
      "metadata": {
        "colab": {
          "base_uri": "https://localhost:8080/"
        },
        "id": "_VRBjiuzRkAl",
        "outputId": "7ff65cdd-2851-404a-98c2-ad1356175a22"
      },
      "execution_count": null,
      "outputs": [
        {
          "output_type": "stream",
          "name": "stdout",
          "text": [
            "Masukan nilai x: 5\n",
            "Masukan nilai y: 6\n",
            "Salah satu dari x atau y adalah bilangan yang tidak habis dibagi 2 dan 3\n"
          ]
        }
      ]
    },
    {
      "cell_type": "code",
      "source": [
        "# 4\n",
        "\n",
        "w = float(input(\"Masukan berat badan anda (kg): \"))\n",
        "h = float(input(\"Masukan tinggi badan anda (cm): \"))\n",
        "bmi = (w/((h/100)**2))\n",
        "if bmi < 18.5:\n",
        "  print(f\"Nilai BMI Anda: {bmi:.2f}, maka Anda underweight\")\n",
        "elif bmi >= 18.5 and bmi < 24.9 :\n",
        "  print(f\"Nilai BMI Anda: {bmi:.2f}, maka Anda healthy\")\n",
        "elif bmi >= 24.9 and bmi < 29.9:\n",
        "  print(f\"Nilai BMI Anda: {bmi:.2f}, maka Anda overweight\")\n",
        "else:\n",
        "  print(f\"Nilai BMI Anda: {bmi:.2f}, maka Anda obesitas\")"
      ],
      "metadata": {
        "colab": {
          "base_uri": "https://localhost:8080/"
        },
        "id": "62NvmZzOVkys",
        "outputId": "0b0fd69f-6839-4ffb-f529-7f495df1bf6a"
      },
      "execution_count": null,
      "outputs": [
        {
          "output_type": "stream",
          "name": "stdout",
          "text": [
            "Masukan berat badan anda (kg): 53.4\n",
            "Masukan tinggi badan anda (cm): 164.7\n",
            "Nilai BMI Anda: 19.69, maka Anda healthy\n"
          ]
        }
      ]
    },
    {
      "cell_type": "code",
      "source": [
        "# 5 (membuat segitiga siku-siku)\n",
        "\n",
        "for i in range(1,6):\n",
        "  print('*' * i)"
      ],
      "metadata": {
        "id": "_Qv4k3HwWyk3",
        "colab": {
          "base_uri": "https://localhost:8080/"
        },
        "outputId": "0a523cca-884e-42f0-911d-6b538f967d17"
      },
      "execution_count": null,
      "outputs": [
        {
          "output_type": "stream",
          "name": "stdout",
          "text": [
            "*\n",
            "**\n",
            "***\n",
            "****\n",
            "*****\n"
          ]
        }
      ]
    },
    {
      "cell_type": "markdown",
      "source": [
        "\n",
        "---\n",
        "Powered by : <br>\n",
        "<img src=\"https://lh3.googleusercontent.com/ayfbbgvQolM_Ys9VYRVFD6FjDJXSebI9sN1VtY4ppp65dXepA6JCKgKMM_porWAErGQmc8l-L_RXq080SJ3FbYTIsyxYqWWTuAX8A3VtafWLUwAnnxNnjR1s-3BMCUlF34fYnViLuutxrLm3nEpoix0\" width=\"20%\">\n",
        "<br><br>\n",
        "<a href=\"https://www.linkedin.com/in/kiranafara/\"><img src=\"https://img.shields.io/badge/-© 2025 Kirana Fara L-417DAC?style=for-the-badge&logoColor=white\"/></a>"
      ],
      "metadata": {
        "id": "xhdC7RnsKs3m"
      }
    }
  ]
}