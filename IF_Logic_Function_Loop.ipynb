{
  "nbformat": 4,
  "nbformat_minor": 0,
  "metadata": {
    "colab": {
      "provenance": []
    },
    "kernelspec": {
      "name": "python3",
      "display_name": "Python 3"
    },
    "language_info": {
      "name": "python"
    }
  },
  "cells": [
    {
      "cell_type": "markdown",
      "source": [
        "# <b>A. <span style='color:#0B2F9F'><code>IF LOGIC</code></span></b>\n"
      ],
      "metadata": {
        "id": "Gvgi4NzAJwnE"
      }
    },
    {
      "cell_type": "markdown",
      "source": [
        "## <b>A.1. <span style='color:#A0C4FF'>If</span></b>\n",
        "Kondisi If merupakan struktur pengambilan keputusan yang digunakan untuk mengeksekusi kode berdasarkan kondisi tertentu. Dengan menggunakan pernyataan if, program dapat mengevaluasi apakah suatu kondisi bernilai True atau False. Jika kondisi bernilai True, maka blok kode dalam if akan dijalankan.\n",
        "\n",
        "Bentuk umum fungsi if adalah sebagai berikut:\n",
        "   \n",
        "    if(kondisi):\n",
        "        pernyataan yang akan dieksekusi jika kondisi terpenuhi"
      ],
      "metadata": {
        "id": "Wol7kLjIc1Lu"
      }
    },
    {
      "cell_type": "code",
      "execution_count": 1,
      "metadata": {
        "id": "_1X9xQ9ocUQQ"
      },
      "outputs": [],
      "source": [
        "# Ganti nilai kebenaran dari varible lapar\n",
        "# Karena kondisi bernilai False maka \"Makan\" tidak ditampilkan\n",
        "\n",
        "lapar = False\n",
        "\n",
        "if lapar == True:\n",
        "  print(\"Makan\")"
      ]
    },
    {
      "cell_type": "code",
      "source": [
        "bilangan = 10\n",
        "\n",
        "if bilangan == 10:\n",
        "  print(\"Bilangan = 10\")"
      ],
      "metadata": {
        "colab": {
          "base_uri": "https://localhost:8080/"
        },
        "id": "P6fIAY7pJVzC",
        "outputId": "d4c06eb3-9fe5-4840-cd4e-e1673126fff7"
      },
      "execution_count": 2,
      "outputs": [
        {
          "output_type": "stream",
          "name": "stdout",
          "text": [
            "Bilangan = 10\n"
          ]
        }
      ]
    },
    {
      "cell_type": "markdown",
      "source": [
        "## <b>A.2. <span style='color:#A0C4FF'>If Else</span></b>\n",
        "Jika kondisi dalam pernyataan if bernilai True, maka blok kode di dalamnya akan dijalankan. Namun, jika kondisi tersebut False, maka program akan mengeksekusi blok kode dalam else.\n",
        "\n",
        "Bentuk umum fungsi if else adalah sebagai berikut:\n",
        "\n",
        "    if(kondisi pertama):\n",
        "        pernyataan yang akan dieksekusi jika kondisi terpenuhi\n",
        "    else:\n",
        "        pernyataan default akan dieksekusi jika tidak ada pernyataan diatas yang terpenuhi"
      ],
      "metadata": {
        "id": "N1IXlZkcis6r"
      }
    },
    {
      "cell_type": "code",
      "source": [
        "# Jika lapar bernilai True maka 'Makan' akan ditampilkan\n",
        "# Jika kondisi lapar tidak terpenuhi maka 'Terus belajar' akan ditampilkan\n",
        "\n",
        "lapar = False\n",
        "\n",
        "if lapar == True:\n",
        "  print(\"Makan\")\n",
        "else:\n",
        "  print(\"Terus belajar\")"
      ],
      "metadata": {
        "colab": {
          "base_uri": "https://localhost:8080/"
        },
        "id": "ENtnUT4acY_B",
        "outputId": "97a70edb-ddd9-4a1b-a576-e2e67684ab56"
      },
      "execution_count": 3,
      "outputs": [
        {
          "output_type": "stream",
          "name": "stdout",
          "text": [
            "Terus belajar\n"
          ]
        }
      ]
    },
    {
      "cell_type": "code",
      "source": [
        "bilangan = 10.5\n",
        "\n",
        "if bilangan == 10:\n",
        "  print(\"Bilangan = 10\")\n",
        "else:\n",
        "  print(\"Bilangan tidak diketahui\")"
      ],
      "metadata": {
        "colab": {
          "base_uri": "https://localhost:8080/"
        },
        "id": "R-12hbXDJ9ws",
        "outputId": "c22ef725-aa41-4103-d988-4d568134e93e"
      },
      "execution_count": 4,
      "outputs": [
        {
          "output_type": "stream",
          "name": "stdout",
          "text": [
            "Bilangan tidak diketahui\n"
          ]
        }
      ]
    },
    {
      "cell_type": "markdown",
      "source": [
        "## <b>A.3. <span style='color:#A0C4FF'>If Elif Else</span></b>\n",
        "Jika kondisi pertama (if) bernilai True, maka blok kode dalam if akan dijalankan. Jika tidak, program akan mengecek kondisi berikutnya dalam elif. Jika tidak ada kondisi yang terpenuhi, maka blok else akan dieksekusi sebagai opsi terakhir.\n",
        "\n",
        "Bentuk umum fungsi if else adalah sebagai berikut:\n",
        "\n",
        "    if(kondisi pertama):\n",
        "        pernyataan yang akan dieksekusi jika kondisi terpenuhi\n",
        "    elif(kondisi kedua):\n",
        "        pernyataan yang akan dieksekusi jika kondisi terpenuhi\n",
        "     ...\n",
        "\n",
        "    else:\n",
        "        pernyataan default akan dieksekusi jika tidak ada pernyataan diatas yang terpenuhi"
      ],
      "metadata": {
        "id": "AWpWHOVHix3m"
      }
    },
    {
      "cell_type": "code",
      "source": [
        "# Akan menampilkan action berdasarkan kondisi\n",
        "# Jika tidak ada kondisi yang didaftarkan maka 'Terus belajar' akan ditampilkan\n",
        "kondisi = 'capek'\n",
        "\n",
        "if kondisi == 'lapar' :\n",
        "  print(\"Makan\")\n",
        "elif kondisi == 'capek' :\n",
        "  print(\"Istirahat\")\n",
        "elif kondisi == 'ngantuk' :\n",
        "  print(\"Tidur\")\n",
        "else :\n",
        "  print(\"Terus belajar\")"
      ],
      "metadata": {
        "colab": {
          "base_uri": "https://localhost:8080/"
        },
        "id": "MyN3MIpegFZ-",
        "outputId": "e966f2f6-b191-4063-9084-0799c1610ac6"
      },
      "execution_count": 5,
      "outputs": [
        {
          "output_type": "stream",
          "name": "stdout",
          "text": [
            "Istirahat\n"
          ]
        }
      ]
    },
    {
      "cell_type": "code",
      "source": [
        " bilangan = 100\n",
        "\n",
        "if bilangan < 100 :\n",
        "  print(\"Bilangan di bawah 100\")\n",
        "elif bilangan == 100 :\n",
        "  print(\"Bilangan = 100\")\n",
        "elif bilangan > 100 :\n",
        "  print(\"Bilangan di atas 100\")\n",
        "else :\n",
        "  print(\"Error\")"
      ],
      "metadata": {
        "colab": {
          "base_uri": "https://localhost:8080/"
        },
        "id": "GUWPjgAuKQMg",
        "outputId": "14b0cac7-a51e-47f1-cc93-04c28e46c8af"
      },
      "execution_count": 6,
      "outputs": [
        {
          "output_type": "stream",
          "name": "stdout",
          "text": [
            "Bilangan = 100\n"
          ]
        }
      ]
    },
    {
      "cell_type": "markdown",
      "source": [
        "# <b>B. <span style='color:#0B2F9F'><code>FUNGSI</code></span></b>\n",
        "Fungsi merupakan sekelompok pernyataan (kode) yang dikemas menjadi satu blok dan dapat digunakan kembali untuk menjalankan tugas tertentu.\n",
        "\n",
        "Bentuk umum fungsi adalah sebagai berikut:\n",
        "\n",
        "    def nama_fungsi(argumen):\n",
        "      isi_fungsi\n",
        "      return (hasil)\n",
        "\n",
        "\n",
        "argumen dan return (nilai kembalian) salah satu atau keduanya bersifat opsional.\n",
        "\n",
        "*Notes:*\n",
        "\n",
        "- Sebuah fungsi dapat dipanggil berulang kali\n",
        "- Penamaan fungsi mirip dengan aturan penamaan variabel"
      ],
      "metadata": {
        "id": "9rzPbPwhqJjn"
      }
    },
    {
      "cell_type": "code",
      "source": [
        "def tulis_hello():\n",
        "  print('Hello')"
      ],
      "metadata": {
        "id": "T0Hz5eG7jQrz"
      },
      "execution_count": 7,
      "outputs": []
    },
    {
      "cell_type": "code",
      "source": [
        "tulis_hello()"
      ],
      "metadata": {
        "colab": {
          "base_uri": "https://localhost:8080/"
        },
        "id": "x8V6-PWbqOhT",
        "outputId": "72814c10-a991-440c-94a3-a1debb8368f6"
      },
      "execution_count": 8,
      "outputs": [
        {
          "output_type": "stream",
          "name": "stdout",
          "text": [
            "Hello\n"
          ]
        }
      ]
    },
    {
      "cell_type": "code",
      "source": [
        "z = 2 # Variabel global, bisa diakses di luar function\n",
        "def f():\n",
        "  y = 1 # Variabel lokal, hanya bisa diakses di dalam function\n",
        "  return y\n",
        "\n",
        "f()"
      ],
      "metadata": {
        "colab": {
          "base_uri": "https://localhost:8080/"
        },
        "id": "6V-NNxPhK2Py",
        "outputId": "62a86d66-5d9d-4934-804a-f00998f6c913"
      },
      "execution_count": 9,
      "outputs": [
        {
          "output_type": "execute_result",
          "data": {
            "text/plain": [
              "1"
            ]
          },
          "metadata": {},
          "execution_count": 9
        }
      ]
    },
    {
      "cell_type": "code",
      "source": [
        "# Hasil akan error, karena variabel yang dipanggil adalah variabel lokal\n",
        "print(y)"
      ],
      "metadata": {
        "colab": {
          "base_uri": "https://localhost:8080/",
          "height": 164
        },
        "id": "WdYSL9wwMFFz",
        "outputId": "ae0150a9-cd45-458e-9471-84cdb2862429"
      },
      "execution_count": 10,
      "outputs": [
        {
          "output_type": "error",
          "ename": "NameError",
          "evalue": "name 'y' is not defined",
          "traceback": [
            "\u001b[0;31m---------------------------------------------------------------------------\u001b[0m",
            "\u001b[0;31mNameError\u001b[0m                                 Traceback (most recent call last)",
            "\u001b[0;32m<ipython-input-10-801536d65e2b>\u001b[0m in \u001b[0;36m<cell line: 0>\u001b[0;34m()\u001b[0m\n\u001b[1;32m      1\u001b[0m \u001b[0;31m# Hasil akan error, karena variabel yang dipanggil adalah variabel lokal\u001b[0m\u001b[0;34m\u001b[0m\u001b[0;34m\u001b[0m\u001b[0m\n\u001b[0;32m----> 2\u001b[0;31m \u001b[0mprint\u001b[0m\u001b[0;34m(\u001b[0m\u001b[0my\u001b[0m\u001b[0;34m)\u001b[0m\u001b[0;34m\u001b[0m\u001b[0;34m\u001b[0m\u001b[0m\n\u001b[0m",
            "\u001b[0;31mNameError\u001b[0m: name 'y' is not defined"
          ]
        }
      ]
    },
    {
      "cell_type": "code",
      "source": [
        "print(z)"
      ],
      "metadata": {
        "colab": {
          "base_uri": "https://localhost:8080/"
        },
        "id": "9iX8Ah06MfqH",
        "outputId": "ca179a25-cd65-40c9-c3ab-6337f3333a41"
      },
      "execution_count": 11,
      "outputs": [
        {
          "output_type": "stream",
          "name": "stdout",
          "text": [
            "2\n"
          ]
        }
      ]
    },
    {
      "cell_type": "code",
      "source": [
        "# Membuat fungsi untuk menghitung luas persegi (panjang x lebar)\n",
        "# Nilai hasil perhitungan dikembalikan sebagai nilai dari fungsi\n",
        "def luas_persegi(panjang, lebar):\n",
        "  return panjang*lebar"
      ],
      "metadata": {
        "id": "0KQxWpCYqU_2"
      },
      "execution_count": 12,
      "outputs": []
    },
    {
      "cell_type": "code",
      "source": [
        "# L akan memiliki nilai karena fungsi luas_persegi mengembalikan nilai\n",
        "L = luas_persegi(10,50)\n",
        "print(L)"
      ],
      "metadata": {
        "colab": {
          "base_uri": "https://localhost:8080/"
        },
        "id": "JiDAVpmrq9i9",
        "outputId": "e8c9627d-002b-4291-d783-3a64b920439c"
      },
      "execution_count": 13,
      "outputs": [
        {
          "output_type": "stream",
          "name": "stdout",
          "text": [
            "500\n"
          ]
        }
      ]
    },
    {
      "cell_type": "code",
      "source": [
        "# Fungsi ini hanya menampilkan hasil perkalian panjang dengan lebar\n",
        "# Fungsi ini tidak mengembalikan nilai\n",
        "def luas_persegi(panjang, lebar):\n",
        "  print(panjang*lebar)"
      ],
      "metadata": {
        "id": "veqSF0heP-1S"
      },
      "execution_count": 14,
      "outputs": []
    },
    {
      "cell_type": "code",
      "source": [
        "luas_persegi(3,4)"
      ],
      "metadata": {
        "colab": {
          "base_uri": "https://localhost:8080/"
        },
        "id": "hx6xfONFQDea",
        "outputId": "016a267a-88d1-474a-826f-c7a9c60e4567"
      },
      "execution_count": 15,
      "outputs": [
        {
          "output_type": "stream",
          "name": "stdout",
          "text": [
            "12\n"
          ]
        }
      ]
    },
    {
      "cell_type": "code",
      "source": [
        "L = luas_persegi(3,4)"
      ],
      "metadata": {
        "colab": {
          "base_uri": "https://localhost:8080/"
        },
        "id": "aInzO6sDQGCd",
        "outputId": "1afa1c0d-0741-4a6c-8b9c-f55f4e2d09b6"
      },
      "execution_count": 16,
      "outputs": [
        {
          "output_type": "stream",
          "name": "stdout",
          "text": [
            "12\n"
          ]
        }
      ]
    },
    {
      "cell_type": "code",
      "source": [
        "# L bernilai None atau tidak memiliki nilai karena L diperoleh dari fungsi yang tidak mengembalikan nilai\n",
        "print(L)"
      ],
      "metadata": {
        "colab": {
          "base_uri": "https://localhost:8080/"
        },
        "id": "Oeb_B-kpQNsC",
        "outputId": "8eab0292-dc81-478c-cec9-41eabae879c3"
      },
      "execution_count": 17,
      "outputs": [
        {
          "output_type": "stream",
          "name": "stdout",
          "text": [
            "None\n"
          ]
        }
      ]
    },
    {
      "cell_type": "markdown",
      "source": [
        "# <b>C. <span style='color:#0B2F9F'><code>LOOP</code></span></b>\n",
        "Loop (perulangan) adalah mekanisme untuk mengulang eksekusi kode hingga kondisi tertentu terpenuhi. Dengan loop, kita bisa menghindari penulisan kode berulang dan membuat program lebih efisien.\n"
      ],
      "metadata": {
        "id": "nyOVq2eByGB8"
      }
    },
    {
      "cell_type": "markdown",
      "source": [
        "## <b>C.1. <span style='color:#A0C4FF'>For Loop</span></b>\n",
        "\n",
        "For loop adalah perulangan yang digunakan untuk mengiterasi elemen dalam sebuah iterable (seperti list, tuple, string, dictionary, atau range). Dalam for loop, jumlah iterasi harus ditentukan sebelumnya.\n",
        "\n",
        "Bentuk umum for loop adalah sebagai berikut:\n",
        "\n",
        "    for variabel in iterable:\n",
        "      pernyataan yang akan dieksekusi setiap iterasi\n"
      ],
      "metadata": {
        "id": "edsY4jlpyIm8"
      }
    },
    {
      "cell_type": "code",
      "source": [
        "# Iterasi menggunakan list\n",
        "for buah in ['apel','mangga','anggur']:\n",
        "  print(buah)"
      ],
      "metadata": {
        "colab": {
          "base_uri": "https://localhost:8080/"
        },
        "id": "GcuQOz_MrCRd",
        "outputId": "6bddb7b2-987c-4204-9af8-71afba884c96"
      },
      "execution_count": 18,
      "outputs": [
        {
          "output_type": "stream",
          "name": "stdout",
          "text": [
            "apel\n",
            "mangga\n",
            "anggur\n"
          ]
        }
      ]
    },
    {
      "cell_type": "code",
      "source": [
        "# Fungsi range(10) digunakan untuk membuat iterator sepanjang 10\n",
        "list(range(10))"
      ],
      "metadata": {
        "colab": {
          "base_uri": "https://localhost:8080/"
        },
        "id": "lWf46eTUyP7Q",
        "outputId": "1604dc23-961d-4a92-ce36-874f6abff1c6"
      },
      "execution_count": 19,
      "outputs": [
        {
          "output_type": "execute_result",
          "data": {
            "text/plain": [
              "[0, 1, 2, 3, 4, 5, 6, 7, 8, 9]"
            ]
          },
          "metadata": {},
          "execution_count": 19
        }
      ]
    },
    {
      "cell_type": "code",
      "source": [
        "for i in range(10):\n",
        "  print(i)"
      ],
      "metadata": {
        "colab": {
          "base_uri": "https://localhost:8080/"
        },
        "id": "-OcQRKC2PqKa",
        "outputId": "a4ce3ac0-a121-4ff9-dabc-0618adc8e857"
      },
      "execution_count": 20,
      "outputs": [
        {
          "output_type": "stream",
          "name": "stdout",
          "text": [
            "0\n",
            "1\n",
            "2\n",
            "3\n",
            "4\n",
            "5\n",
            "6\n",
            "7\n",
            "8\n",
            "9\n"
          ]
        }
      ]
    },
    {
      "cell_type": "markdown",
      "source": [
        "## <b>C.2. <span style='color:#A0C4FF'>While Loop</span></b>\n",
        "While loop digunakan untuk menjalankan kode secara berulang selama suatu kondisi masih bernilai True. Dalam while loop, wajib menambahkan sebuah increment/break untuk mencegah infinite loop.\n",
        "\n",
        "Bentuk umum while loop adalah sebagai berikut:\n",
        "\n",
        "    while kondisi:\n",
        "      pernyataan yang akan dieksekusi selama kondisi true\n",
        "\n"
      ],
      "metadata": {
        "id": "1fE8u0DxyYyF"
      }
    },
    {
      "cell_type": "code",
      "source": [
        "# Menghitung mundur x selama x lebih besar dari 0\n",
        "# Sama artinya dengan menghitung mundur x sampai x bernilai 0\n",
        "x = 100\n",
        "\n",
        "while x > 0:\n",
        "  print(x)\n",
        "  x = x - 1"
      ],
      "metadata": {
        "colab": {
          "base_uri": "https://localhost:8080/"
        },
        "id": "nYpg_jeGySF_",
        "outputId": "e311c956-ca2b-4b02-dab6-68fc749a719f"
      },
      "execution_count": 21,
      "outputs": [
        {
          "output_type": "stream",
          "name": "stdout",
          "text": [
            "100\n",
            "99\n",
            "98\n",
            "97\n",
            "96\n",
            "95\n",
            "94\n",
            "93\n",
            "92\n",
            "91\n",
            "90\n",
            "89\n",
            "88\n",
            "87\n",
            "86\n",
            "85\n",
            "84\n",
            "83\n",
            "82\n",
            "81\n",
            "80\n",
            "79\n",
            "78\n",
            "77\n",
            "76\n",
            "75\n",
            "74\n",
            "73\n",
            "72\n",
            "71\n",
            "70\n",
            "69\n",
            "68\n",
            "67\n",
            "66\n",
            "65\n",
            "64\n",
            "63\n",
            "62\n",
            "61\n",
            "60\n",
            "59\n",
            "58\n",
            "57\n",
            "56\n",
            "55\n",
            "54\n",
            "53\n",
            "52\n",
            "51\n",
            "50\n",
            "49\n",
            "48\n",
            "47\n",
            "46\n",
            "45\n",
            "44\n",
            "43\n",
            "42\n",
            "41\n",
            "40\n",
            "39\n",
            "38\n",
            "37\n",
            "36\n",
            "35\n",
            "34\n",
            "33\n",
            "32\n",
            "31\n",
            "30\n",
            "29\n",
            "28\n",
            "27\n",
            "26\n",
            "25\n",
            "24\n",
            "23\n",
            "22\n",
            "21\n",
            "20\n",
            "19\n",
            "18\n",
            "17\n",
            "16\n",
            "15\n",
            "14\n",
            "13\n",
            "12\n",
            "11\n",
            "10\n",
            "9\n",
            "8\n",
            "7\n",
            "6\n",
            "5\n",
            "4\n",
            "3\n",
            "2\n",
            "1\n"
          ]
        }
      ]
    },
    {
      "cell_type": "code",
      "source": [
        "# Potongan kode yang akan menampilkan 'jalan terus' selama tidak ada perintah 'berhenti'\n",
        "perintah = 'jalan'\n",
        "\n",
        "while perintah != 'berhenti':\n",
        "  print('jalan terus')\n",
        "  perintah = input()"
      ],
      "metadata": {
        "id": "7uostGD4zsTE",
        "colab": {
          "base_uri": "https://localhost:8080/"
        },
        "outputId": "9f274768-c731-469d-cc79-6791a08f40a2"
      },
      "execution_count": 22,
      "outputs": [
        {
          "name": "stdout",
          "output_type": "stream",
          "text": [
            "jalan terus\n",
            "jalan\n",
            "jalan terus\n",
            "stop\n",
            "jalan terus\n",
            "berhenti\n"
          ]
        }
      ]
    },
    {
      "cell_type": "markdown",
      "source": [
        "## <b>C.3. <span style='color:#A0C4FF'>Break, Continue, Pass</span></b>\n",
        "\n",
        "- Break digunakan untuk keluar dari looping\n",
        "\n",
        "- Continue digunakan untuk melewati iterasi yang sedang berlangsung, loncat ke iterasi selanjutnya\n",
        "\n",
        "- Pass hanya sebagai placeholder yang digunakan jika kita tidak memiliki apapun untuk dimasukkan ke dalam looping"
      ],
      "metadata": {
        "id": "Py8DuCjkQ8qN"
      }
    },
    {
      "cell_type": "code",
      "source": [
        "# Contoh: looping akan berhenti saat i bernilai 6\n",
        "for i in range(10):\n",
        "  print(i)\n",
        "  if i == 6:\n",
        "    break"
      ],
      "metadata": {
        "colab": {
          "base_uri": "https://localhost:8080/"
        },
        "id": "F3o3RRAjQp7N",
        "outputId": "33bef21e-e326-405b-ba0b-7ab082923544"
      },
      "execution_count": 23,
      "outputs": [
        {
          "output_type": "stream",
          "name": "stdout",
          "text": [
            "0\n",
            "1\n",
            "2\n",
            "3\n",
            "4\n",
            "5\n",
            "6\n"
          ]
        }
      ]
    },
    {
      "cell_type": "code",
      "source": [
        "for i in range(10):\n",
        "  if i % 2 == 0:\n",
        "    print(i)\n",
        "  else:\n",
        "    break"
      ],
      "metadata": {
        "colab": {
          "base_uri": "https://localhost:8080/"
        },
        "id": "AHynjkkfN-av",
        "outputId": "6befa7cb-c45c-425a-bf65-a0f35bf426e1"
      },
      "execution_count": 24,
      "outputs": [
        {
          "output_type": "stream",
          "name": "stdout",
          "text": [
            "0\n"
          ]
        }
      ]
    },
    {
      "cell_type": "code",
      "source": [
        "# Contoh: saat i bernilai 7, nilai i tidak ditulis tapi langsung loncat ke iterasi selanjutnya\n",
        "for i in range(10):\n",
        "  if i == 7:\n",
        "    continue\n",
        "  print(i)"
      ],
      "metadata": {
        "colab": {
          "base_uri": "https://localhost:8080/"
        },
        "id": "TjBCcQS6RUZe",
        "outputId": "33f1b6e3-a7a5-45e6-d9cc-9df1e9e5358e"
      },
      "execution_count": 25,
      "outputs": [
        {
          "output_type": "stream",
          "name": "stdout",
          "text": [
            "0\n",
            "1\n",
            "2\n",
            "3\n",
            "4\n",
            "5\n",
            "6\n",
            "8\n",
            "9\n"
          ]
        }
      ]
    },
    {
      "cell_type": "code",
      "source": [
        "for i in range(10):\n",
        "  if i % 2 == 0:\n",
        "    continue\n",
        "  else:\n",
        "    print(i)"
      ],
      "metadata": {
        "colab": {
          "base_uri": "https://localhost:8080/"
        },
        "id": "DsFkFmwANnF4",
        "outputId": "71b2d2f6-ddb8-4361-ef0b-a8bd19c019c5"
      },
      "execution_count": 26,
      "outputs": [
        {
          "output_type": "stream",
          "name": "stdout",
          "text": [
            "1\n",
            "3\n",
            "5\n",
            "7\n",
            "9\n"
          ]
        }
      ]
    },
    {
      "cell_type": "code",
      "source": [
        "for i in range(10):\n",
        "  pass"
      ],
      "metadata": {
        "id": "2ebQ-_stRcMp"
      },
      "execution_count": 27,
      "outputs": []
    },
    {
      "cell_type": "markdown",
      "source": [
        "# <b>D. <span style='color:#0B2F9F'><code>LATIHAN</code></span></b>"
      ],
      "metadata": {
        "id": "eF0zPoLXOIPo"
      }
    },
    {
      "cell_type": "code",
      "source": [
        "# 1\n",
        "\n",
        "## Cara 1\n",
        "bil = [2, 4, 3, 6, 7, 9]\n",
        "bil_baru = []\n",
        "for i in bil:\n",
        "  if i % 2 == 0:\n",
        "    bil_baru.append(i + 1)\n",
        "  else:\n",
        "    bil_baru.append(i + 2)\n",
        "print(bil_baru)"
      ],
      "metadata": {
        "id": "vIoiiwwaR1Kk",
        "colab": {
          "base_uri": "https://localhost:8080/"
        },
        "outputId": "80f4872c-61e4-4810-f892-a92461ab099e"
      },
      "execution_count": 28,
      "outputs": [
        {
          "output_type": "stream",
          "name": "stdout",
          "text": [
            "[3, 5, 5, 7, 9, 11]\n"
          ]
        }
      ]
    },
    {
      "cell_type": "code",
      "source": [
        "## Cara 2\n",
        "def ganjil_genap(angka):\n",
        "  bil_baru = []\n",
        "\n",
        "  for i in bil:\n",
        "    if i % 2 == 0:\n",
        "      bil_baru.append(i + 1)\n",
        "    else:\n",
        "      bil_baru.append(i + 2)\n",
        "  return bil_baru\n",
        "\n",
        "print(ganjil_genap(bil))"
      ],
      "metadata": {
        "colab": {
          "base_uri": "https://localhost:8080/"
        },
        "id": "_By2ioMzOQ-6",
        "outputId": "386b4464-d37b-4692-d326-08ef86ccbddb"
      },
      "execution_count": 30,
      "outputs": [
        {
          "output_type": "stream",
          "name": "stdout",
          "text": [
            "[3, 5, 5, 7, 9, 11]\n"
          ]
        }
      ]
    },
    {
      "cell_type": "code",
      "source": [
        "## Cara 3\n",
        "def ganjil_genap(i):\n",
        "  if i % 2 == 0:\n",
        "    return i + 1\n",
        "  else:\n",
        "    return i + 2\n",
        "\n",
        "bil_baru = list(map(ganjil_genap, bil))\n",
        "print(bil_baru)"
      ],
      "metadata": {
        "colab": {
          "base_uri": "https://localhost:8080/"
        },
        "id": "VpMAH7qJOU36",
        "outputId": "7069c8e2-29ca-41ca-d79a-46b82a4c6b95"
      },
      "execution_count": 31,
      "outputs": [
        {
          "output_type": "stream",
          "name": "stdout",
          "text": [
            "[3, 5, 5, 7, 9, 11]\n"
          ]
        }
      ]
    }
  ]
}