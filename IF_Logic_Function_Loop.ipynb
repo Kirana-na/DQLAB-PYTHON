{
  "nbformat": 4,
  "nbformat_minor": 0,
  "metadata": {
    "colab": {
      "provenance": []
    },
    "kernelspec": {
      "name": "python3",
      "display_name": "Python 3"
    },
    "language_info": {
      "name": "python"
    }
  },
  "cells": [
    {
      "cell_type": "markdown",
      "source": [
        "# <b>A. <span style='color:#0B2F9F'><code>IF LOGIC</code></span></b>\n"
      ],
      "metadata": {
        "id": "Gvgi4NzAJwnE"
      }
    },
    {
      "cell_type": "markdown",
      "source": [
        "## <b>A.1. <span style='color:#A0C4FF'>If</span></b>\n",
        "Kondisi If merupakan struktur pengambilan keputusan yang digunakan untuk mengeksekusi kode berdasarkan kondisi tertentu. Dengan menggunakan pernyataan if, program dapat mengevaluasi apakah suatu kondisi bernilai True atau False. Jika kondisi bernilai True, maka blok kode dalam if akan dijalankan.\n",
        "\n",
        "Bentuk umum fungsi if adalah sebagai berikut:\n",
        "   \n",
        "    if(kondisi):\n",
        "        pernyataan yang akan dieksekusi jika kondisi terpenuhi"
      ],
      "metadata": {
        "id": "Wol7kLjIc1Lu"
      }
    },
    {
      "cell_type": "code",
      "execution_count": 1,
      "metadata": {
        "id": "_1X9xQ9ocUQQ"
      },
      "outputs": [],
      "source": [
        "# Ganti nilai kebenaran dari varible lapar\n",
        "# Karena kondisi bernilai False maka \"Makan\" tidak ditampilkan\n",
        "\n",
        "lapar = False\n",
        "\n",
        "if lapar == True:\n",
        "  print(\"Makan\")"
      ]
    },
    {
      "cell_type": "code",
      "source": [
        "bilangan = 10\n",
        "\n",
        "if bilangan == 10:\n",
        "  print(\"Bilangan = 10\")"
      ],
      "metadata": {
        "colab": {
          "base_uri": "https://localhost:8080/"
        },
        "id": "P6fIAY7pJVzC",
        "outputId": "c97eb9b3-fccb-4a3c-cc87-4defec42d550"
      },
      "execution_count": 2,
      "outputs": [
        {
          "output_type": "stream",
          "name": "stdout",
          "text": [
            "Bilangan = 10\n"
          ]
        }
      ]
    },
    {
      "cell_type": "markdown",
      "source": [
        "## <b>A.2. <span style='color:#A0C4FF'>If Else</span></b>\n",
        "Jika kondisi dalam pernyataan if bernilai True, maka blok kode di dalamnya akan dijalankan. Namun, jika kondisi tersebut False, maka program akan mengeksekusi blok kode dalam else.\n",
        "\n",
        "Bentuk umum fungsi if else adalah sebagai berikut:\n",
        "\n",
        "    if(kondisi pertama):\n",
        "        pernyataan yang akan dieksekusi jika kondisi terpenuhi\n",
        "    else:\n",
        "        pernyataan default akan dieksekusi jika tidak ada pernyataan diatas yang terpenuhi"
      ],
      "metadata": {
        "id": "N1IXlZkcis6r"
      }
    },
    {
      "cell_type": "code",
      "source": [
        "# Jika lapar bernilai True maka 'Makan' akan ditampilkan\n",
        "# Jika kondisi lapar tidak terpenuhi maka 'Terus belajar' akan ditampilkan\n",
        "\n",
        "lapar = False\n",
        "\n",
        "if lapar == True:\n",
        "  print(\"Makan\")\n",
        "else:\n",
        "  print(\"Terus belajar\")"
      ],
      "metadata": {
        "colab": {
          "base_uri": "https://localhost:8080/"
        },
        "id": "ENtnUT4acY_B",
        "outputId": "3e050566-2fd3-460f-f671-db2a9304965a"
      },
      "execution_count": 3,
      "outputs": [
        {
          "output_type": "stream",
          "name": "stdout",
          "text": [
            "Terus belajar\n"
          ]
        }
      ]
    },
    {
      "cell_type": "code",
      "source": [
        "bilangan = 10.5\n",
        "\n",
        "if bilangan == 10:\n",
        "  print(\"Bilangan = 10\")\n",
        "else:\n",
        "  print(\"Bilangan tidak diketahui\")"
      ],
      "metadata": {
        "colab": {
          "base_uri": "https://localhost:8080/"
        },
        "id": "R-12hbXDJ9ws",
        "outputId": "0be47a33-3189-4152-8231-ed290c314e83"
      },
      "execution_count": 4,
      "outputs": [
        {
          "output_type": "stream",
          "name": "stdout",
          "text": [
            "Bilangan tidak diketahui\n"
          ]
        }
      ]
    },
    {
      "cell_type": "markdown",
      "source": [
        "## <b>A.3. <span style='color:#A0C4FF'>If Elif Else</span></b>\n",
        "Jika kondisi pertama (if) bernilai True, maka blok kode dalam if akan dijalankan. Jika tidak, program akan mengecek kondisi berikutnya dalam elif. Jika tidak ada kondisi yang terpenuhi, maka blok else akan dieksekusi sebagai opsi terakhir.\n",
        "\n",
        "Bentuk umum fungsi if else adalah sebagai berikut:\n",
        "\n",
        "    if(kondisi pertama):\n",
        "        pernyataan yang akan dieksekusi jika kondisi terpenuhi\n",
        "    elif(kondisi kedua):\n",
        "        pernyataan yang akan dieksekusi jika kondisi terpenuhi\n",
        "     ...\n",
        "\n",
        "    else:\n",
        "        pernyataan default akan dieksekusi jika tidak ada pernyataan diatas yang terpenuhi"
      ],
      "metadata": {
        "id": "AWpWHOVHix3m"
      }
    },
    {
      "cell_type": "code",
      "source": [
        "# Akan menampilkan action berdasarkan kondisi\n",
        "# Jika tidak ada kondisi yang didaftarkan maka 'Terus belajar' akan ditampilkan\n",
        "kondisi = 'capek'\n",
        "\n",
        "if kondisi == 'lapar' :\n",
        "  print(\"Makan\")\n",
        "elif kondisi == 'capek' :\n",
        "  print(\"Istirahat\")\n",
        "elif kondisi == 'ngantuk' :\n",
        "  print(\"Tidur\")\n",
        "else :\n",
        "  print(\"Terus belajar\")"
      ],
      "metadata": {
        "colab": {
          "base_uri": "https://localhost:8080/"
        },
        "id": "MyN3MIpegFZ-",
        "outputId": "bf252217-4489-4ee3-8cb5-2dd3081481c4"
      },
      "execution_count": 5,
      "outputs": [
        {
          "output_type": "stream",
          "name": "stdout",
          "text": [
            "Istirahat\n"
          ]
        }
      ]
    },
    {
      "cell_type": "code",
      "source": [
        " bilangan = 100\n",
        "\n",
        "if bilangan < 100 :\n",
        "  print(\"Bilangan di bawah 100\")\n",
        "elif bilangan == 100 :\n",
        "  print(\"Bilangan = 100\")\n",
        "elif bilangan > 100 :\n",
        "  print(\"Bilangan di atas 100\")\n",
        "else :\n",
        "  print(\"Error\")"
      ],
      "metadata": {
        "colab": {
          "base_uri": "https://localhost:8080/"
        },
        "id": "GUWPjgAuKQMg",
        "outputId": "b97a05c8-0e97-4ab8-8a9d-436f2009ab2e"
      },
      "execution_count": 6,
      "outputs": [
        {
          "output_type": "stream",
          "name": "stdout",
          "text": [
            "Bilangan = 100\n"
          ]
        }
      ]
    },
    {
      "cell_type": "markdown",
      "source": [
        "# <b>B. <span style='color:#0B2F9F'><code>FUNGSI</code></span></b>\n",
        "Fungsi merupakan sekelompok pernyataan (kode) yang dikemas menjadi satu blok dan dapat digunakan kembali untuk menjalankan tugas tertentu.\n",
        "\n",
        "Bentuk umum fungsi adalah sebagai berikut:\n",
        "\n",
        "    def nama_fungsi(argumen):\n",
        "      isi_fungsi\n",
        "      return (hasil)\n",
        "\n",
        "\n",
        "Argumen dan return (nilai kembalian) salah satu atau keduanya bersifat opsional.\n",
        "\n",
        "Dalam pengisian argumen, terdapat 2 cara yaitu:\n",
        "1. Positional Argument (sesuai urutan yang ditentukan saat fungsi dipanggil)\n",
        "2. Keyword Argument (sesuai penyebutan nama parameternya, sehingga urutan tidak menjadi masalah)\n",
        "\n",
        "*Notes:*\n",
        "\n",
        "- Sebuah fungsi dapat dipanggil berulang kali\n",
        "- Penamaan fungsi mirip dengan aturan penamaan variabel"
      ],
      "metadata": {
        "id": "9rzPbPwhqJjn"
      }
    },
    {
      "cell_type": "code",
      "source": [
        "def tulis_hello():\n",
        "  print('Hello')"
      ],
      "metadata": {
        "id": "T0Hz5eG7jQrz"
      },
      "execution_count": 7,
      "outputs": []
    },
    {
      "cell_type": "code",
      "source": [
        "tulis_hello()"
      ],
      "metadata": {
        "colab": {
          "base_uri": "https://localhost:8080/"
        },
        "id": "x8V6-PWbqOhT",
        "outputId": "135df6f7-6912-441b-96a5-60fcb8982c0f"
      },
      "execution_count": 8,
      "outputs": [
        {
          "output_type": "stream",
          "name": "stdout",
          "text": [
            "Hello\n"
          ]
        }
      ]
    },
    {
      "cell_type": "code",
      "source": [
        "z = 2 # Variabel global, bisa diakses di luar function\n",
        "def f():\n",
        "  y = 1 # Variabel lokal, hanya bisa diakses di dalam function\n",
        "  return y\n",
        "\n",
        "f()"
      ],
      "metadata": {
        "colab": {
          "base_uri": "https://localhost:8080/"
        },
        "id": "6V-NNxPhK2Py",
        "outputId": "57b40252-2de2-44b8-c601-694400eaad57"
      },
      "execution_count": 9,
      "outputs": [
        {
          "output_type": "execute_result",
          "data": {
            "text/plain": [
              "1"
            ]
          },
          "metadata": {},
          "execution_count": 9
        }
      ]
    },
    {
      "cell_type": "code",
      "source": [
        "# Hasil akan error, karena variabel yang dipanggil adalah variabel lokal\n",
        "print(y)"
      ],
      "metadata": {
        "colab": {
          "base_uri": "https://localhost:8080/",
          "height": 164
        },
        "id": "WdYSL9wwMFFz",
        "outputId": "664bb5b5-087b-4aac-bd13-3842de0e6a56"
      },
      "execution_count": 10,
      "outputs": [
        {
          "output_type": "error",
          "ename": "NameError",
          "evalue": "name 'y' is not defined",
          "traceback": [
            "\u001b[0;31m---------------------------------------------------------------------------\u001b[0m",
            "\u001b[0;31mNameError\u001b[0m                                 Traceback (most recent call last)",
            "\u001b[0;32m<ipython-input-10-801536d65e2b>\u001b[0m in \u001b[0;36m<cell line: 0>\u001b[0;34m()\u001b[0m\n\u001b[1;32m      1\u001b[0m \u001b[0;31m# Hasil akan error, karena variabel yang dipanggil adalah variabel lokal\u001b[0m\u001b[0;34m\u001b[0m\u001b[0;34m\u001b[0m\u001b[0m\n\u001b[0;32m----> 2\u001b[0;31m \u001b[0mprint\u001b[0m\u001b[0;34m(\u001b[0m\u001b[0my\u001b[0m\u001b[0;34m)\u001b[0m\u001b[0;34m\u001b[0m\u001b[0;34m\u001b[0m\u001b[0m\n\u001b[0m",
            "\u001b[0;31mNameError\u001b[0m: name 'y' is not defined"
          ]
        }
      ]
    },
    {
      "cell_type": "code",
      "source": [
        "print(z)"
      ],
      "metadata": {
        "colab": {
          "base_uri": "https://localhost:8080/"
        },
        "id": "9iX8Ah06MfqH",
        "outputId": "9c340f70-985d-4b2b-dae5-02a38ffaf3a0"
      },
      "execution_count": 11,
      "outputs": [
        {
          "output_type": "stream",
          "name": "stdout",
          "text": [
            "2\n"
          ]
        }
      ]
    },
    {
      "cell_type": "code",
      "source": [
        "# Membuat fungsi untuk menghitung luas persegi (panjang x lebar)\n",
        "# Nilai hasil perhitungan dikembalikan sebagai nilai dari fungsi\n",
        "def luas_persegi(panjang, lebar):\n",
        "  return panjang*lebar"
      ],
      "metadata": {
        "id": "0KQxWpCYqU_2"
      },
      "execution_count": 12,
      "outputs": []
    },
    {
      "cell_type": "code",
      "source": [
        "# L akan memiliki nilai karena fungsi luas_persegi mengembalikan nilai\n",
        "L = luas_persegi(10,50)\n",
        "print(L)"
      ],
      "metadata": {
        "colab": {
          "base_uri": "https://localhost:8080/"
        },
        "id": "JiDAVpmrq9i9",
        "outputId": "acf337f8-3c31-4bf3-be2b-3af9d2be596a"
      },
      "execution_count": 13,
      "outputs": [
        {
          "output_type": "stream",
          "name": "stdout",
          "text": [
            "500\n"
          ]
        }
      ]
    },
    {
      "cell_type": "code",
      "source": [
        "# Fungsi ini hanya menampilkan hasil perkalian panjang dengan lebar\n",
        "# Fungsi ini tidak mengembalikan nilai\n",
        "def luas_persegi(panjang, lebar):\n",
        "  print(panjang*lebar)"
      ],
      "metadata": {
        "id": "veqSF0heP-1S"
      },
      "execution_count": 14,
      "outputs": []
    },
    {
      "cell_type": "code",
      "source": [
        "# Contoh positional argument\n",
        "luas_persegi(3,4)"
      ],
      "metadata": {
        "colab": {
          "base_uri": "https://localhost:8080/"
        },
        "id": "hx6xfONFQDea",
        "outputId": "a53298b1-82db-4158-c787-b2db1c162ca3"
      },
      "execution_count": 15,
      "outputs": [
        {
          "output_type": "stream",
          "name": "stdout",
          "text": [
            "12\n"
          ]
        }
      ]
    },
    {
      "cell_type": "code",
      "source": [
        "# Contoh keyword argument\n",
        "luas_persegi(lebar=4, panjang=3)"
      ],
      "metadata": {
        "colab": {
          "base_uri": "https://localhost:8080/"
        },
        "id": "ICE9bRHOiGdc",
        "outputId": "cae477ce-4f48-400a-c1ec-0ac2e6a47b58"
      },
      "execution_count": 16,
      "outputs": [
        {
          "output_type": "stream",
          "name": "stdout",
          "text": [
            "12\n"
          ]
        }
      ]
    },
    {
      "cell_type": "code",
      "source": [
        "L = luas_persegi(3,4)"
      ],
      "metadata": {
        "colab": {
          "base_uri": "https://localhost:8080/"
        },
        "id": "aInzO6sDQGCd",
        "outputId": "516d6a26-078f-47e8-d6b5-7b7e81e17e31"
      },
      "execution_count": 17,
      "outputs": [
        {
          "output_type": "stream",
          "name": "stdout",
          "text": [
            "12\n"
          ]
        }
      ]
    },
    {
      "cell_type": "code",
      "source": [
        "# L bernilai None atau tidak memiliki nilai karena L diperoleh dari fungsi yang tidak mengembalikan nilai\n",
        "print(L)"
      ],
      "metadata": {
        "colab": {
          "base_uri": "https://localhost:8080/"
        },
        "id": "Oeb_B-kpQNsC",
        "outputId": "aa19d3df-3eb0-4a1a-8350-7ef740fc4053"
      },
      "execution_count": 18,
      "outputs": [
        {
          "output_type": "stream",
          "name": "stdout",
          "text": [
            "None\n"
          ]
        }
      ]
    },
    {
      "cell_type": "markdown",
      "source": [
        "# <b>C. <span style='color:#0B2F9F'><code>LOOP</code></span></b>\n",
        "Loop (perulangan) adalah mekanisme untuk mengulang eksekusi kode hingga kondisi tertentu terpenuhi. Dengan loop, kita bisa menghindari penulisan kode berulang dan membuat program lebih efisien.\n"
      ],
      "metadata": {
        "id": "nyOVq2eByGB8"
      }
    },
    {
      "cell_type": "markdown",
      "source": [
        "## <b>C.1. <span style='color:#A0C4FF'>For Loop</span></b>\n",
        "\n",
        "For loop adalah perulangan yang digunakan untuk mengiterasi elemen dalam sebuah iterable (seperti list, tuple, string, dictionary, atau range). Dalam for loop, jumlah iterasi harus ditentukan sebelumnya.\n",
        "\n",
        "Bentuk umum for loop adalah sebagai berikut:\n",
        "\n",
        "    for variabel in iterable:\n",
        "      pernyataan yang akan dieksekusi setiap iterasi\n"
      ],
      "metadata": {
        "id": "edsY4jlpyIm8"
      }
    },
    {
      "cell_type": "code",
      "source": [
        "# Iterasi menggunakan list\n",
        "for buah in ['apel','mangga','anggur']:\n",
        "  print(buah)"
      ],
      "metadata": {
        "colab": {
          "base_uri": "https://localhost:8080/"
        },
        "id": "GcuQOz_MrCRd",
        "outputId": "768a1a04-1ea7-46ea-cdd4-ff7080d85871"
      },
      "execution_count": 19,
      "outputs": [
        {
          "output_type": "stream",
          "name": "stdout",
          "text": [
            "apel\n",
            "mangga\n",
            "anggur\n"
          ]
        }
      ]
    },
    {
      "cell_type": "code",
      "source": [
        "# Fungsi range(10) digunakan untuk membuat iterator sepanjang 10\n",
        "list(range(10))"
      ],
      "metadata": {
        "colab": {
          "base_uri": "https://localhost:8080/"
        },
        "id": "lWf46eTUyP7Q",
        "outputId": "1f801d3d-84f5-4c46-f63a-5511168f7af4"
      },
      "execution_count": 20,
      "outputs": [
        {
          "output_type": "execute_result",
          "data": {
            "text/plain": [
              "[0, 1, 2, 3, 4, 5, 6, 7, 8, 9]"
            ]
          },
          "metadata": {},
          "execution_count": 20
        }
      ]
    },
    {
      "cell_type": "code",
      "source": [
        "for i in range(10):\n",
        "  print(i)"
      ],
      "metadata": {
        "colab": {
          "base_uri": "https://localhost:8080/"
        },
        "id": "-OcQRKC2PqKa",
        "outputId": "af142e54-e1f2-4ef4-eb6b-826c1cce9be5"
      },
      "execution_count": 21,
      "outputs": [
        {
          "output_type": "stream",
          "name": "stdout",
          "text": [
            "0\n",
            "1\n",
            "2\n",
            "3\n",
            "4\n",
            "5\n",
            "6\n",
            "7\n",
            "8\n",
            "9\n"
          ]
        }
      ]
    },
    {
      "cell_type": "markdown",
      "source": [
        "## <b>C.2. <span style='color:#A0C4FF'>While Loop</span></b>\n",
        "While loop digunakan untuk menjalankan kode secara berulang selama suatu kondisi masih bernilai True. Dalam while loop, wajib menambahkan sebuah increment/break untuk mencegah infinite loop.\n",
        "\n",
        "Bentuk umum while loop adalah sebagai berikut:\n",
        "\n",
        "    while kondisi:\n",
        "      pernyataan yang akan dieksekusi selama kondisi true\n",
        "\n"
      ],
      "metadata": {
        "id": "1fE8u0DxyYyF"
      }
    },
    {
      "cell_type": "code",
      "source": [
        "# Menghitung mundur x selama x lebih besar dari 0\n",
        "# Sama artinya dengan menghitung mundur x sampai x bernilai 0\n",
        "x = 100\n",
        "\n",
        "while x > 0:\n",
        "  print(x)\n",
        "  x = x - 1"
      ],
      "metadata": {
        "colab": {
          "base_uri": "https://localhost:8080/"
        },
        "id": "nYpg_jeGySF_",
        "outputId": "81fb8c4f-53b3-4e8f-b67d-6b354b1518d6"
      },
      "execution_count": 22,
      "outputs": [
        {
          "output_type": "stream",
          "name": "stdout",
          "text": [
            "100\n",
            "99\n",
            "98\n",
            "97\n",
            "96\n",
            "95\n",
            "94\n",
            "93\n",
            "92\n",
            "91\n",
            "90\n",
            "89\n",
            "88\n",
            "87\n",
            "86\n",
            "85\n",
            "84\n",
            "83\n",
            "82\n",
            "81\n",
            "80\n",
            "79\n",
            "78\n",
            "77\n",
            "76\n",
            "75\n",
            "74\n",
            "73\n",
            "72\n",
            "71\n",
            "70\n",
            "69\n",
            "68\n",
            "67\n",
            "66\n",
            "65\n",
            "64\n",
            "63\n",
            "62\n",
            "61\n",
            "60\n",
            "59\n",
            "58\n",
            "57\n",
            "56\n",
            "55\n",
            "54\n",
            "53\n",
            "52\n",
            "51\n",
            "50\n",
            "49\n",
            "48\n",
            "47\n",
            "46\n",
            "45\n",
            "44\n",
            "43\n",
            "42\n",
            "41\n",
            "40\n",
            "39\n",
            "38\n",
            "37\n",
            "36\n",
            "35\n",
            "34\n",
            "33\n",
            "32\n",
            "31\n",
            "30\n",
            "29\n",
            "28\n",
            "27\n",
            "26\n",
            "25\n",
            "24\n",
            "23\n",
            "22\n",
            "21\n",
            "20\n",
            "19\n",
            "18\n",
            "17\n",
            "16\n",
            "15\n",
            "14\n",
            "13\n",
            "12\n",
            "11\n",
            "10\n",
            "9\n",
            "8\n",
            "7\n",
            "6\n",
            "5\n",
            "4\n",
            "3\n",
            "2\n",
            "1\n"
          ]
        }
      ]
    },
    {
      "cell_type": "code",
      "source": [
        "# Potongan kode yang akan menampilkan 'jalan terus' selama tidak ada perintah 'berhenti'\n",
        "perintah = 'jalan'\n",
        "\n",
        "while perintah != 'berhenti':\n",
        "  print('jalan terus')\n",
        "  perintah = input()"
      ],
      "metadata": {
        "id": "7uostGD4zsTE",
        "colab": {
          "base_uri": "https://localhost:8080/"
        },
        "outputId": "3ec76cdf-6f25-460f-86e6-d6b2f2e09bf2"
      },
      "execution_count": 23,
      "outputs": [
        {
          "name": "stdout",
          "output_type": "stream",
          "text": [
            "jalan terus\n",
            "jalan\n",
            "jalan terus\n",
            "stop\n",
            "jalan terus\n",
            "berhenti\n"
          ]
        }
      ]
    },
    {
      "cell_type": "markdown",
      "source": [
        "## <b>C.3. <span style='color:#A0C4FF'>Break, Continue, Pass</span></b>\n",
        "\n",
        "- Break digunakan untuk keluar dari looping\n",
        "\n",
        "- Continue digunakan untuk melewati iterasi yang sedang berlangsung, loncat ke iterasi selanjutnya\n",
        "\n",
        "- Pass hanya sebagai placeholder yang digunakan jika kita tidak memiliki apapun untuk dimasukkan ke dalam looping"
      ],
      "metadata": {
        "id": "Py8DuCjkQ8qN"
      }
    },
    {
      "cell_type": "code",
      "source": [
        "# Contoh: looping akan berhenti saat i bernilai 6\n",
        "for i in range(10):\n",
        "  print(i)\n",
        "  if i == 6:\n",
        "    break"
      ],
      "metadata": {
        "colab": {
          "base_uri": "https://localhost:8080/"
        },
        "id": "F3o3RRAjQp7N",
        "outputId": "575d6136-27a1-4640-ea57-cf8fc61cf0df"
      },
      "execution_count": 24,
      "outputs": [
        {
          "output_type": "stream",
          "name": "stdout",
          "text": [
            "0\n",
            "1\n",
            "2\n",
            "3\n",
            "4\n",
            "5\n",
            "6\n"
          ]
        }
      ]
    },
    {
      "cell_type": "code",
      "source": [
        "for i in range(10):\n",
        "  if i % 2 == 0:\n",
        "    print(i)\n",
        "  else:\n",
        "    break"
      ],
      "metadata": {
        "colab": {
          "base_uri": "https://localhost:8080/"
        },
        "id": "AHynjkkfN-av",
        "outputId": "ffdcd449-bf67-42b1-ffb3-87e90ac8cba1"
      },
      "execution_count": 25,
      "outputs": [
        {
          "output_type": "stream",
          "name": "stdout",
          "text": [
            "0\n"
          ]
        }
      ]
    },
    {
      "cell_type": "code",
      "source": [
        "# Contoh: saat i bernilai 7, nilai i tidak ditulis tapi langsung loncat ke iterasi selanjutnya\n",
        "for i in range(10):\n",
        "  if i == 7:\n",
        "    continue\n",
        "  print(i)"
      ],
      "metadata": {
        "colab": {
          "base_uri": "https://localhost:8080/"
        },
        "id": "TjBCcQS6RUZe",
        "outputId": "255f4591-503f-4e11-b4ae-b04a6a5fed86"
      },
      "execution_count": 26,
      "outputs": [
        {
          "output_type": "stream",
          "name": "stdout",
          "text": [
            "0\n",
            "1\n",
            "2\n",
            "3\n",
            "4\n",
            "5\n",
            "6\n",
            "8\n",
            "9\n"
          ]
        }
      ]
    },
    {
      "cell_type": "code",
      "source": [
        "for i in range(10):\n",
        "  if i % 2 == 0:\n",
        "    continue\n",
        "  else:\n",
        "    print(i)"
      ],
      "metadata": {
        "colab": {
          "base_uri": "https://localhost:8080/"
        },
        "id": "DsFkFmwANnF4",
        "outputId": "e71547ba-0198-4db7-d58b-c9abc3b1899f"
      },
      "execution_count": 27,
      "outputs": [
        {
          "output_type": "stream",
          "name": "stdout",
          "text": [
            "1\n",
            "3\n",
            "5\n",
            "7\n",
            "9\n"
          ]
        }
      ]
    },
    {
      "cell_type": "code",
      "source": [
        "for i in range(10):\n",
        "  pass"
      ],
      "metadata": {
        "id": "2ebQ-_stRcMp"
      },
      "execution_count": 28,
      "outputs": []
    },
    {
      "cell_type": "markdown",
      "source": [
        "# <b>D. <span style='color:#0B2F9F'><code>LATIHAN</code></span></b>"
      ],
      "metadata": {
        "id": "eF0zPoLXOIPo"
      }
    },
    {
      "cell_type": "code",
      "source": [
        "# 1\n",
        "\n",
        "## Cara 1\n",
        "bil = [2, 4, 3, 6, 7, 9]\n",
        "bil_baru = []\n",
        "for i in bil:\n",
        "  if i % 2 == 0:\n",
        "    bil_baru.append(i + 1)\n",
        "  else:\n",
        "    bil_baru.append(i + 2)\n",
        "print(bil_baru)"
      ],
      "metadata": {
        "id": "vIoiiwwaR1Kk",
        "colab": {
          "base_uri": "https://localhost:8080/"
        },
        "outputId": "7969a381-ae63-43d8-e351-4cadfeb12645"
      },
      "execution_count": 29,
      "outputs": [
        {
          "output_type": "stream",
          "name": "stdout",
          "text": [
            "[3, 5, 5, 7, 9, 11]\n"
          ]
        }
      ]
    },
    {
      "cell_type": "code",
      "source": [
        "## Cara 2\n",
        "def ganjil_genap(angka):\n",
        "  bil_baru = []\n",
        "\n",
        "  for i in bil:\n",
        "    if i % 2 == 0:\n",
        "      bil_baru.append(i + 1)\n",
        "    else:\n",
        "      bil_baru.append(i + 2)\n",
        "  return bil_baru\n",
        "\n",
        "print(ganjil_genap(bil))"
      ],
      "metadata": {
        "colab": {
          "base_uri": "https://localhost:8080/"
        },
        "id": "_By2ioMzOQ-6",
        "outputId": "8e3a1501-d6a6-4416-e786-101d4af9d2a3"
      },
      "execution_count": 30,
      "outputs": [
        {
          "output_type": "stream",
          "name": "stdout",
          "text": [
            "[3, 5, 5, 7, 9, 11]\n"
          ]
        }
      ]
    },
    {
      "cell_type": "code",
      "source": [
        "## Cara 3\n",
        "def ganjil_genap(i):\n",
        "  if i % 2 == 0:\n",
        "    return i + 1\n",
        "  else:\n",
        "    return i + 2\n",
        "\n",
        "bil_baru = list(map(ganjil_genap, bil))\n",
        "print(bil_baru)"
      ],
      "metadata": {
        "colab": {
          "base_uri": "https://localhost:8080/"
        },
        "id": "VpMAH7qJOU36",
        "outputId": "a096c4c2-818e-4832-bb4e-cab3760cf965"
      },
      "execution_count": 31,
      "outputs": [
        {
          "output_type": "stream",
          "name": "stdout",
          "text": [
            "[3, 5, 5, 7, 9, 11]\n"
          ]
        }
      ]
    },
    {
      "cell_type": "markdown",
      "source": [
        "\n",
        "---\n",
        "Powered by : <br>\n",
        "<img src=\"https://lh3.googleusercontent.com/ayfbbgvQolM_Ys9VYRVFD6FjDJXSebI9sN1VtY4ppp65dXepA6JCKgKMM_porWAErGQmc8l-L_RXq080SJ3FbYTIsyxYqWWTuAX8A3VtafWLUwAnnxNnjR1s-3BMCUlF34fYnViLuutxrLm3nEpoix0\" width=\"20%\">\n",
        "<br><br>\n",
        "<a href=\"https://www.linkedin.com/in/kiranafara/\"><img src=\"https://img.shields.io/badge/-© 2025 Kirana Fara L-417DAC?style=for-the-badge&logoColor=white\"/></a>"
      ],
      "metadata": {
        "id": "V61W0G9yi2j_"
      }
    }
  ]
}