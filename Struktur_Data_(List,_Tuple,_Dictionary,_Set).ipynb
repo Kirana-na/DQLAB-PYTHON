{
  "nbformat": 4,
  "nbformat_minor": 0,
  "metadata": {
    "colab": {
      "provenance": []
    },
    "kernelspec": {
      "name": "python3",
      "display_name": "Python 3"
    },
    "language_info": {
      "name": "python"
    }
  },
  "cells": [
    {
      "cell_type": "markdown",
      "source": [
        "# <b>A. <span style='color:#0B2F9F'><code>LIST</code></span></b>\n",
        "List merupakan tipe data yang digunakan untuk menyimpan kumpulan nilai dalam satu variabel. Elemen dalam list ditulis dengan tanda kurung siku [ ] dan dipisahkan dengan koma.\n",
        "\n",
        "Sifat- sifat dalam list yaitu:\n",
        "- Terurut (ordered) dan mengenal indeks\n",
        "\n",
        "- Elemen dapat diubah (mutable)\n",
        "\n",
        "- Elemen dapat berulang/duplikat\n",
        "\n",
        "- Dapat berisi berbagai tipe data seperti integer, string, float, bahkan yang lain"
      ],
      "metadata": {
        "id": "H9erdds8gmb2"
      }
    },
    {
      "cell_type": "code",
      "execution_count": 8,
      "metadata": {
        "colab": {
          "base_uri": "https://localhost:8080/"
        },
        "id": "mgBwIe3LL6Wu",
        "outputId": "cd5f26db-9fb6-439a-ae12-3fd95ae7b43b"
      },
      "outputs": [
        {
          "output_type": "stream",
          "name": "stdout",
          "text": [
            "['Amir', 'Budi', 'Cinta', 'Dimas', 'Edi']\n"
          ]
        }
      ],
      "source": [
        "# Variabel nama_teman (list) berisi lima nama teman\n",
        "\n",
        "nama_teman = ['Amir', 'Budi', 'Cinta', 'Dimas', 'Edi']\n",
        "print(nama_teman)"
      ]
    },
    {
      "cell_type": "code",
      "source": [
        "# List berisi nilai dengan tipe data berbeda\n",
        "\n",
        "acak = ['Amir', 18, 0.75, 'Jeruk']\n",
        "print(acak)"
      ],
      "metadata": {
        "colab": {
          "base_uri": "https://localhost:8080/"
        },
        "id": "7JtTgxqRPP-e",
        "outputId": "9f2ca477-49e4-4be8-adbc-bcf3a4efd33c"
      },
      "execution_count": 9,
      "outputs": [
        {
          "output_type": "stream",
          "name": "stdout",
          "text": [
            "['Amir', 18, 0.75, 'Jeruk']\n"
          ]
        }
      ]
    },
    {
      "cell_type": "code",
      "source": [
        "# List berisi elemen duplikat\n",
        "\n",
        "buah = ['Jeruk', 'Melon', 'Apel', 'Jeruk']\n",
        "print(buah)"
      ],
      "metadata": {
        "colab": {
          "base_uri": "https://localhost:8080/"
        },
        "id": "hB3zThcOgl_T",
        "outputId": "66769f7f-39cf-4d5a-a2af-d8c398065928"
      },
      "execution_count": 10,
      "outputs": [
        {
          "output_type": "stream",
          "name": "stdout",
          "text": [
            "['Jeruk', 'Melon', 'Apel', 'Jeruk']\n"
          ]
        }
      ]
    },
    {
      "cell_type": "code",
      "source": [
        "# Menampilkan panjang nama_teman\n",
        "\n",
        "len(nama_teman)"
      ],
      "metadata": {
        "colab": {
          "base_uri": "https://localhost:8080/"
        },
        "id": "M3C5VDzGjvIB",
        "outputId": "d758620a-8f15-42aa-bfcc-7f138eba692d"
      },
      "execution_count": 11,
      "outputs": [
        {
          "output_type": "execute_result",
          "data": {
            "text/plain": [
              "5"
            ]
          },
          "metadata": {},
          "execution_count": 11
        }
      ]
    },
    {
      "cell_type": "markdown",
      "source": [
        "###<b><span style='color:#A0C4FF'>Indeks</span></b>\n",
        "\n",
        "Indeks merupakan nilai yang menyatakan posisi atau nomor urut suatu elemen dalam struktur data yang terurut, seperti string, list, dan tuple. Indeks dimulai dari 0 dan dapat dibaca dari depan maupun belakang. Contoh:"
      ],
      "metadata": {
        "id": "r6kksROYkkqX"
      }
    },
    {
      "cell_type": "code",
      "source": [
        "# Indeks (depan)         0       1       2        3       4\n",
        "# Indeks (belakang)     -5      -4      -3       -2      -1\n",
        "#nama_teman       =  ['Amir', 'Budi', 'Cinta', 'Dimas', 'Edi']"
      ],
      "metadata": {
        "id": "sGZXTiGjlVYd"
      },
      "execution_count": 12,
      "outputs": []
    },
    {
      "cell_type": "code",
      "source": [
        "# Memanggil elemen berdasarkan indeks\n",
        "\n",
        "nama_teman[1]"
      ],
      "metadata": {
        "colab": {
          "base_uri": "https://localhost:8080/",
          "height": 36
        },
        "id": "KyWiAJmoUHit",
        "outputId": "0b1471e0-4345-4473-8dd8-f5ef8443f890"
      },
      "execution_count": 13,
      "outputs": [
        {
          "output_type": "execute_result",
          "data": {
            "text/plain": [
              "'Budi'"
            ],
            "application/vnd.google.colaboratory.intrinsic+json": {
              "type": "string"
            }
          },
          "metadata": {},
          "execution_count": 13
        }
      ]
    },
    {
      "cell_type": "code",
      "source": [
        "nama_teman[-1]"
      ],
      "metadata": {
        "colab": {
          "base_uri": "https://localhost:8080/",
          "height": 36
        },
        "id": "H1K5hXCzy98o",
        "outputId": "1b8f1787-8a00-46fd-d1bf-842a87045bdd"
      },
      "execution_count": 14,
      "outputs": [
        {
          "output_type": "execute_result",
          "data": {
            "text/plain": [
              "'Edi'"
            ],
            "application/vnd.google.colaboratory.intrinsic+json": {
              "type": "string"
            }
          },
          "metadata": {},
          "execution_count": 14
        }
      ]
    },
    {
      "cell_type": "code",
      "source": [
        "# Mengganti elemen pada indeks tertentu\n",
        "# Budi akan digantikan dengan Beni\n",
        "\n",
        "nama_teman[1] = 'Beni'\n",
        "print(nama_teman)"
      ],
      "metadata": {
        "colab": {
          "base_uri": "https://localhost:8080/"
        },
        "id": "oS2T-Ny_UJl4",
        "outputId": "264bfa95-c013-436e-d975-4f6b6df3c183"
      },
      "execution_count": 15,
      "outputs": [
        {
          "output_type": "stream",
          "name": "stdout",
          "text": [
            "['Amir', 'Beni', 'Cinta', 'Dimas', 'Edi']\n"
          ]
        }
      ]
    },
    {
      "cell_type": "code",
      "source": [
        "# Menambahkan elemen baru pada akhir list\n",
        "\n",
        "nama_teman.append('Farhan')\n",
        "print(nama_teman)"
      ],
      "metadata": {
        "colab": {
          "base_uri": "https://localhost:8080/"
        },
        "id": "Bhut-OTQhHAT",
        "outputId": "cf5e17b4-b23f-4b5d-a7d6-7845cb49b506"
      },
      "execution_count": 16,
      "outputs": [
        {
          "output_type": "stream",
          "name": "stdout",
          "text": [
            "['Amir', 'Beni', 'Cinta', 'Dimas', 'Edi', 'Farhan']\n"
          ]
        }
      ]
    },
    {
      "cell_type": "code",
      "source": [
        "# Menghitung banyaknya kemunculan suatu elemen\n",
        "\n",
        "nama_teman.count('Beni')"
      ],
      "metadata": {
        "colab": {
          "base_uri": "https://localhost:8080/"
        },
        "id": "tc6DZ73OkGla",
        "outputId": "997c6888-fe83-4e30-d59b-4085c60b242c"
      },
      "execution_count": 17,
      "outputs": [
        {
          "output_type": "execute_result",
          "data": {
            "text/plain": [
              "1"
            ]
          },
          "metadata": {},
          "execution_count": 17
        }
      ]
    },
    {
      "cell_type": "code",
      "source": [
        "# Menampilkan indeks dari suatu elemen\n",
        "# jika elemen memiliki duplikat maka indeks yang ditampilkan adalah indeks terkecil\n",
        "\n",
        "nama_teman.index('Dimas')"
      ],
      "metadata": {
        "colab": {
          "base_uri": "https://localhost:8080/"
        },
        "id": "gC9tnRsJkbh9",
        "outputId": "6c77a183-57a3-4b2e-dd76-f95f5ba97cd6"
      },
      "execution_count": 18,
      "outputs": [
        {
          "output_type": "execute_result",
          "data": {
            "text/plain": [
              "3"
            ]
          },
          "metadata": {},
          "execution_count": 18
        }
      ]
    },
    {
      "cell_type": "code",
      "source": [
        "# Menyisipkan elemen pada indeks tertentu\n",
        "\n",
        "nama_teman.insert(2, 'Canda')\n",
        "print(nama_teman)"
      ],
      "metadata": {
        "colab": {
          "base_uri": "https://localhost:8080/"
        },
        "id": "VAvBlTqGk6iT",
        "outputId": "a3b068a7-8d8f-4093-b0cc-5f2d0f904b5b"
      },
      "execution_count": 19,
      "outputs": [
        {
          "output_type": "stream",
          "name": "stdout",
          "text": [
            "['Amir', 'Beni', 'Canda', 'Cinta', 'Dimas', 'Edi', 'Farhan']\n"
          ]
        }
      ]
    },
    {
      "cell_type": "code",
      "source": [
        "# Memindahkan elemen pada indeks tertentu ke tempat yang tidak diketahui\n",
        "\n",
        "nama_teman.pop(2)\n",
        "print(nama_teman)"
      ],
      "metadata": {
        "colab": {
          "base_uri": "https://localhost:8080/"
        },
        "id": "wBUDNtMHmKOK",
        "outputId": "22583e32-b453-426c-8c42-da7a487148a6"
      },
      "execution_count": 20,
      "outputs": [
        {
          "output_type": "stream",
          "name": "stdout",
          "text": [
            "['Amir', 'Beni', 'Cinta', 'Dimas', 'Edi', 'Farhan']\n"
          ]
        }
      ]
    },
    {
      "cell_type": "code",
      "source": [
        "# Menghapus elemen tertentu\n",
        "# Jika terdapat elemen duplikat maka yang dihapus adalah elemen yang muncul pertama kali\n",
        "\n",
        "nama_teman.remove('Cinta')\n",
        "print(nama_teman)"
      ],
      "metadata": {
        "colab": {
          "base_uri": "https://localhost:8080/"
        },
        "id": "7rtOiNMJmzqe",
        "outputId": "9493dd2e-f9a5-4144-f79a-beff12232a6c"
      },
      "execution_count": 21,
      "outputs": [
        {
          "output_type": "stream",
          "name": "stdout",
          "text": [
            "['Amir', 'Beni', 'Dimas', 'Edi', 'Farhan']\n"
          ]
        }
      ]
    },
    {
      "cell_type": "code",
      "source": [
        "# Mengurutkan elemen pada list\n",
        "\n",
        "# Ascending/menaik\n",
        "nama_teman.sort()\n",
        "print('Menaik')\n",
        "print(nama_teman)\n",
        "print('\\n')\n",
        "\n",
        "# Descending/menurun\n",
        "print('Menurun')\n",
        "nama_teman.sort(reverse=True)\n",
        "print(nama_teman)"
      ],
      "metadata": {
        "colab": {
          "base_uri": "https://localhost:8080/"
        },
        "id": "9AjnYrC8nWRe",
        "outputId": "2491e5e7-cbb5-4e86-8182-f5c18d2959db"
      },
      "execution_count": 22,
      "outputs": [
        {
          "output_type": "stream",
          "name": "stdout",
          "text": [
            "Menaik\n",
            "['Amir', 'Beni', 'Dimas', 'Edi', 'Farhan']\n",
            "\n",
            "\n",
            "Menurun\n",
            "['Farhan', 'Edi', 'Dimas', 'Beni', 'Amir']\n"
          ]
        }
      ]
    },
    {
      "cell_type": "code",
      "source": [
        "# Membalikkan list\n",
        "\n",
        "nama_teman.reverse()\n",
        "print(nama_teman)"
      ],
      "metadata": {
        "colab": {
          "base_uri": "https://localhost:8080/"
        },
        "id": "vyVqUO5vnwyU",
        "outputId": "a4c8e7aa-7a75-41d8-ae7c-2ce49a56322a"
      },
      "execution_count": 23,
      "outputs": [
        {
          "output_type": "stream",
          "name": "stdout",
          "text": [
            "['Amir', 'Beni', 'Dimas', 'Edi', 'Farhan']\n"
          ]
        }
      ]
    },
    {
      "cell_type": "code",
      "source": [
        "# Menyalin list\n",
        "\n",
        "teman_baru = nama_teman.copy()\n",
        "print(teman_baru)"
      ],
      "metadata": {
        "colab": {
          "base_uri": "https://localhost:8080/"
        },
        "id": "vN7_O9egpw5e",
        "outputId": "bcb2f6b1-b6da-4056-d189-f9d40d3b00a0"
      },
      "execution_count": 24,
      "outputs": [
        {
          "output_type": "stream",
          "name": "stdout",
          "text": [
            "['Amir', 'Beni', 'Dimas', 'Edi', 'Farhan']\n"
          ]
        }
      ]
    },
    {
      "cell_type": "code",
      "source": [
        "# Mengosongkan list\n",
        "\n",
        "nama_teman.clear()\n",
        "print(nama_teman)"
      ],
      "metadata": {
        "colab": {
          "base_uri": "https://localhost:8080/"
        },
        "id": "BmZ1HqighMV1",
        "outputId": "7f159dbc-7ac2-4fb8-e60d-99211d52b27c"
      },
      "execution_count": 25,
      "outputs": [
        {
          "output_type": "stream",
          "name": "stdout",
          "text": [
            "[]\n"
          ]
        }
      ]
    },
    {
      "cell_type": "code",
      "source": [
        "# List nama_teman sekarang menjadi kosong\n",
        "\n",
        "nama_teman"
      ],
      "metadata": {
        "colab": {
          "base_uri": "https://localhost:8080/"
        },
        "id": "ytq2s8dGj_TJ",
        "outputId": "77303aa8-679a-4df9-e464-b88d171ac2e0"
      },
      "execution_count": 26,
      "outputs": [
        {
          "output_type": "execute_result",
          "data": {
            "text/plain": [
              "[]"
            ]
          },
          "metadata": {},
          "execution_count": 26
        }
      ]
    },
    {
      "cell_type": "markdown",
      "source": [
        "###<b><span style='color:#A0C4FF'>Slicing</span></b>\n",
        "Slicing adalah teknik untuk mengambil bagian dari suatu urutan (seperti string, list, atau tuple) menggunakan indeks. Penulisannya sebagai berikut.\n",
        "\n",
        "Nama_list [indeks_awal:indeks_akhir:step]\n",
        "\n",
        "● Jika nilai step tidak didefinisikan, maka step akan bernilai 1 (maju 1\n",
        "hitungan)\n",
        "\n",
        "● Jika step bernilai -1 maka step akan mundur satu hitungan\n",
        "\n",
        "● Elemen yang terakhir dicetak adalah di indeks_akhir - 1"
      ],
      "metadata": {
        "id": "vv5M1duWjzPW"
      }
    },
    {
      "cell_type": "code",
      "source": [
        "# Slicing pada list\n",
        "\n",
        "nama_teman = ['Amir', 'Beni', 'Cinta', 'Dimas', 'Edi']\n",
        "\n",
        "print(nama_teman[0:3])\n",
        "\n",
        "print(nama_teman[::2])\n",
        "\n",
        "print(nama_teman[::-1])\n"
      ],
      "metadata": {
        "colab": {
          "base_uri": "https://localhost:8080/"
        },
        "id": "PrsKuErQg2Kj",
        "outputId": "660cde39-5105-499f-f20d-e5571d268138"
      },
      "execution_count": 27,
      "outputs": [
        {
          "output_type": "stream",
          "name": "stdout",
          "text": [
            "['Amir', 'Beni', 'Cinta']\n",
            "['Amir', 'Cinta', 'Edi']\n",
            "['Edi', 'Dimas', 'Cinta', 'Beni', 'Amir']\n"
          ]
        }
      ]
    },
    {
      "cell_type": "code",
      "source": [
        "# Mengganti elemen pada indeks tertentu\n",
        "# Amir akan digantikan dengan Asep dan Beni digantikan dengan Bobby\n",
        "nama_teman[0:2] = ['Asep', 'Bobby']\n",
        "print(nama_teman)"
      ],
      "metadata": {
        "colab": {
          "base_uri": "https://localhost:8080/"
        },
        "id": "pozIYePCmSOQ",
        "outputId": "66a80496-4a1b-466e-fdba-22f0491b148a"
      },
      "execution_count": 28,
      "outputs": [
        {
          "output_type": "stream",
          "name": "stdout",
          "text": [
            "['Asep', 'Bobby', 'Cinta', 'Dimas', 'Edi']\n"
          ]
        }
      ]
    },
    {
      "cell_type": "markdown",
      "source": [
        "###<b><span style='color:#A0C4FF'>Append</span></b>\n",
        "\n",
        "Append adalah metode dalam list yang digunakan untuk menambahkan satu elemen ke akhir list."
      ],
      "metadata": {
        "id": "kPUXpX3ooH10"
      }
    },
    {
      "cell_type": "code",
      "source": [
        "# Menambahkan elemen baru di akhir list\n",
        "\n",
        "nama_teman.append('Farhan')\n",
        "print(nama_teman)"
      ],
      "metadata": {
        "colab": {
          "base_uri": "https://localhost:8080/"
        },
        "id": "d49O7RIhn89d",
        "outputId": "302b04c4-fd96-444a-a38b-072cacfb22d4"
      },
      "execution_count": 29,
      "outputs": [
        {
          "output_type": "stream",
          "name": "stdout",
          "text": [
            "['Asep', 'Bobby', 'Cinta', 'Dimas', 'Edi', 'Farhan']\n"
          ]
        }
      ]
    },
    {
      "cell_type": "markdown",
      "source": [
        "# <b>B. <span style='color:#0B2F9F'><code>TUPLE</code></span></b>\n",
        "Tuple adalah tipe data yang digunakan untuk menyimpan kumpulan nilai seperti list, tetapi elemen dalam tuple ditulis dengan tanda kurung ( ) dan dipisahkan dengan koma.\n",
        "\n",
        "Sifat- sifat dalam tuple yaitu:\n",
        "- Terurut (ordered) dan mengenal indeks\n",
        "\n",
        "- Elemen tidak dapat diubah (immutable)\n",
        "\n",
        "- Elemen dapat berulang/duplikat\n",
        "\n",
        "- Dapat berisi berbagai tipe data seperti integer, string, float, bahkan yang lain"
      ],
      "metadata": {
        "id": "EZwrwL1khVPh"
      }
    },
    {
      "cell_type": "code",
      "source": [
        "# Mendefinisikan tuple dengan tanda kurung\n",
        "\n",
        "bil_tuple = (10,20,30,40,50)"
      ],
      "metadata": {
        "id": "-Qv2yHdnwCNj"
      },
      "execution_count": 30,
      "outputs": []
    },
    {
      "cell_type": "code",
      "source": [
        "# Menampilkan panjang tuple\n",
        "\n",
        "len(bil_tuple)"
      ],
      "metadata": {
        "colab": {
          "base_uri": "https://localhost:8080/"
        },
        "id": "7kOdOIElwOrD",
        "outputId": "15e208e2-9f94-4483-cef5-a37985a2138e"
      },
      "execution_count": 31,
      "outputs": [
        {
          "output_type": "execute_result",
          "data": {
            "text/plain": [
              "5"
            ]
          },
          "metadata": {},
          "execution_count": 31
        }
      ]
    },
    {
      "cell_type": "code",
      "source": [
        "# Menampilkan kemunculan bilangan 10 pada tuple\n",
        "\n",
        "bil_tuple.count(10)"
      ],
      "metadata": {
        "colab": {
          "base_uri": "https://localhost:8080/"
        },
        "id": "z0JRHxQVwQvv",
        "outputId": "4dd46d01-c8a9-4202-ef9e-7a0e1ea9a36b"
      },
      "execution_count": 32,
      "outputs": [
        {
          "output_type": "execute_result",
          "data": {
            "text/plain": [
              "1"
            ]
          },
          "metadata": {},
          "execution_count": 32
        }
      ]
    },
    {
      "cell_type": "code",
      "source": [
        "# Menampilkan indeks dari elemen 30 pada tuple\n",
        "\n",
        "bil_tuple.index(30)"
      ],
      "metadata": {
        "colab": {
          "base_uri": "https://localhost:8080/"
        },
        "id": "KBqkEABRwT3u",
        "outputId": "96effda8-de97-419c-e80a-e15baade875b"
      },
      "execution_count": 33,
      "outputs": [
        {
          "output_type": "execute_result",
          "data": {
            "text/plain": [
              "2"
            ]
          },
          "metadata": {},
          "execution_count": 33
        }
      ]
    },
    {
      "cell_type": "code",
      "source": [
        "# Menampilkan elemen dengan indeks ke 3 pada tuple\n",
        "\n",
        "bil_tuple[3]"
      ],
      "metadata": {
        "colab": {
          "base_uri": "https://localhost:8080/"
        },
        "id": "lBixP0HLwF7T",
        "outputId": "a934e97b-b2db-45d0-dedf-6f343ef3c9ba"
      },
      "execution_count": 34,
      "outputs": [
        {
          "output_type": "execute_result",
          "data": {
            "text/plain": [
              "40"
            ]
          },
          "metadata": {},
          "execution_count": 34
        }
      ]
    },
    {
      "cell_type": "code",
      "source": [
        "# Slicing pada tuple\n",
        "\n",
        "bil_tuple[::2]"
      ],
      "metadata": {
        "colab": {
          "base_uri": "https://localhost:8080/"
        },
        "id": "9AU1z6_rwJbG",
        "outputId": "b9f8138e-539e-40bb-e306-38b4b397e652"
      },
      "execution_count": 35,
      "outputs": [
        {
          "output_type": "execute_result",
          "data": {
            "text/plain": [
              "(10, 30, 50)"
            ]
          },
          "metadata": {},
          "execution_count": 35
        }
      ]
    },
    {
      "cell_type": "code",
      "source": [
        "# Membuat list dari tuple\n",
        "\n",
        "bilangan = list(bil_tuple)\n",
        "bilangan"
      ],
      "metadata": {
        "colab": {
          "base_uri": "https://localhost:8080/"
        },
        "id": "lSKTI5Mt2vB1",
        "outputId": "4451dcca-524d-41d4-ddd7-14d179fa971d"
      },
      "execution_count": 36,
      "outputs": [
        {
          "output_type": "execute_result",
          "data": {
            "text/plain": [
              "[10, 20, 30, 40, 50]"
            ]
          },
          "metadata": {},
          "execution_count": 36
        }
      ]
    },
    {
      "cell_type": "code",
      "source": [
        "# Membuat tuple dari list\n",
        "\n",
        "bil_list = [50, 70, 90, 30, 20, 10, 60, 70, 30, 50]\n",
        "\n",
        "bil = tuple(bil_list)\n",
        "print(bil)"
      ],
      "metadata": {
        "colab": {
          "base_uri": "https://localhost:8080/"
        },
        "id": "-JW5IZVDwMNY",
        "outputId": "ea57ca1c-dfd3-4b47-ce9f-3c22033bbee5"
      },
      "execution_count": 37,
      "outputs": [
        {
          "output_type": "stream",
          "name": "stdout",
          "text": [
            "(50, 70, 90, 30, 20, 10, 60, 70, 30, 50)\n"
          ]
        }
      ]
    },
    {
      "cell_type": "markdown",
      "source": [
        "# <b>C. <span style='color:#0B2F9F'><code>SET</code></span></b>\n",
        "Set adalah tipe data yang digunakan untuk menyimpan kumpulan elemen,\n",
        "elemen ditulis dengan tanda kurung kurawal { } dan dipisahkan dengan koma.\n",
        "\n",
        "Sifat-sifat dalam set yaitu:\n",
        "- Tidak berurutan (unordered) dan tidak mengenal indeks\n",
        "\n",
        "- Elemen dapat diubah (mutable)\n",
        "\n",
        "- Tidak ada elemen duplikat\n",
        "\n",
        "- Dapat berisi berbagai tipe data seperti integer, string, float, kecuali list dan dict\n",
        "\n"
      ],
      "metadata": {
        "id": "oy3_6YQjiar0"
      }
    },
    {
      "cell_type": "code",
      "source": [
        "# Mendefinisikan set bernama buah\n",
        "\n",
        "buah = {'apel','jeruk','mangga','melon','semangka','anggur'}\n",
        "buah"
      ],
      "metadata": {
        "id": "wgnrjwk_A4rN",
        "colab": {
          "base_uri": "https://localhost:8080/"
        },
        "outputId": "1f664158-4e64-4c8a-ec0b-7d87063dd131"
      },
      "execution_count": 38,
      "outputs": [
        {
          "output_type": "execute_result",
          "data": {
            "text/plain": [
              "{'anggur', 'apel', 'jeruk', 'mangga', 'melon', 'semangka'}"
            ]
          },
          "metadata": {},
          "execution_count": 38
        }
      ]
    },
    {
      "cell_type": "code",
      "source": [
        "# Menampilkan ukuran himpunan\n",
        "\n",
        "len(buah)"
      ],
      "metadata": {
        "colab": {
          "base_uri": "https://localhost:8080/"
        },
        "id": "tN4Y8B-xCdhN",
        "outputId": "6bf694ee-4fab-4302-c3d3-3652f3f5183a"
      },
      "execution_count": 39,
      "outputs": [
        {
          "output_type": "execute_result",
          "data": {
            "text/plain": [
              "6"
            ]
          },
          "metadata": {},
          "execution_count": 39
        }
      ]
    },
    {
      "cell_type": "code",
      "source": [
        "# Menambahkan anggota himpunan\n",
        "\n",
        "buah.add('pepaya')\n",
        "\n",
        "print(buah)"
      ],
      "metadata": {
        "colab": {
          "base_uri": "https://localhost:8080/"
        },
        "id": "1avBu_oLChMl",
        "outputId": "8442829d-bf2a-4b77-82b9-aa88b16cdc7f"
      },
      "execution_count": 40,
      "outputs": [
        {
          "output_type": "stream",
          "name": "stdout",
          "text": [
            "{'melon', 'pepaya', 'semangka', 'mangga', 'anggur', 'apel', 'jeruk'}\n"
          ]
        }
      ]
    },
    {
      "cell_type": "code",
      "source": [
        "# Menambahkan himpunan ke himpunan\n",
        "\n",
        "buah.update({'pisang','jambu'})\n",
        "\n",
        "print(buah)"
      ],
      "metadata": {
        "colab": {
          "base_uri": "https://localhost:8080/"
        },
        "id": "R9CmV3mCCm2j",
        "outputId": "6ec7f971-8071-4c0d-d523-82f5e64b36f3"
      },
      "execution_count": 41,
      "outputs": [
        {
          "output_type": "stream",
          "name": "stdout",
          "text": [
            "{'jambu', 'pisang', 'mangga', 'apel', 'melon', 'pepaya', 'semangka', 'anggur', 'jeruk'}\n"
          ]
        }
      ]
    },
    {
      "cell_type": "code",
      "source": [
        "# Menghapus 'pisang' dari himpunan\n",
        "\n",
        "buah.remove('pisang')\n",
        "\n",
        "print(buah)"
      ],
      "metadata": {
        "colab": {
          "base_uri": "https://localhost:8080/"
        },
        "id": "BbEohvJVCt6h",
        "outputId": "fdda775b-e5b2-4424-bd37-89943e0c748e"
      },
      "execution_count": 42,
      "outputs": [
        {
          "output_type": "stream",
          "name": "stdout",
          "text": [
            "{'jambu', 'mangga', 'apel', 'melon', 'pepaya', 'semangka', 'anggur', 'jeruk'}\n"
          ]
        }
      ]
    },
    {
      "cell_type": "code",
      "source": [
        "# Akan menghasilkan error karena sirsak tidak ada di dalam himpunan\n",
        "buah.remove('sirsak')"
      ],
      "metadata": {
        "colab": {
          "base_uri": "https://localhost:8080/",
          "height": 164
        },
        "id": "fY40xiHiC2f3",
        "outputId": "31047f9e-afd7-4fd5-a682-3a3e798fee01"
      },
      "execution_count": 43,
      "outputs": [
        {
          "output_type": "error",
          "ename": "KeyError",
          "evalue": "'sirsak'",
          "traceback": [
            "\u001b[0;31m---------------------------------------------------------------------------\u001b[0m",
            "\u001b[0;31mKeyError\u001b[0m                                  Traceback (most recent call last)",
            "\u001b[0;32m<ipython-input-43-2f9a4b40ba99>\u001b[0m in \u001b[0;36m<cell line: 0>\u001b[0;34m()\u001b[0m\n\u001b[1;32m      1\u001b[0m \u001b[0;31m# Akan menghasilkan error karena sirsak tidak ada di dalam himpunan\u001b[0m\u001b[0;34m\u001b[0m\u001b[0;34m\u001b[0m\u001b[0m\n\u001b[0;32m----> 2\u001b[0;31m \u001b[0mbuah\u001b[0m\u001b[0;34m.\u001b[0m\u001b[0mremove\u001b[0m\u001b[0;34m(\u001b[0m\u001b[0;34m'sirsak'\u001b[0m\u001b[0;34m)\u001b[0m\u001b[0;34m\u001b[0m\u001b[0;34m\u001b[0m\u001b[0m\n\u001b[0m",
            "\u001b[0;31mKeyError\u001b[0m: 'sirsak'"
          ]
        }
      ]
    },
    {
      "cell_type": "code",
      "source": [
        "# Menghapus 'pepaya' dari himpunan\n",
        "\n",
        "buah.discard('pepaya')\n",
        "\n",
        "print(buah)"
      ],
      "metadata": {
        "colab": {
          "base_uri": "https://localhost:8080/"
        },
        "id": "2Rhif0mLCyWQ",
        "outputId": "e3d8e6a5-95f4-4d3f-ba20-e228b5235554"
      },
      "execution_count": 46,
      "outputs": [
        {
          "output_type": "stream",
          "name": "stdout",
          "text": [
            "{'jambu', 'mangga', 'apel', 'melon', 'semangka', 'anggur', 'jeruk'}\n"
          ]
        }
      ]
    },
    {
      "cell_type": "code",
      "source": [
        "# Menguji apakah terdapat 'durian' pada himpunan buah\n",
        "\n",
        "'durian' in buah"
      ],
      "metadata": {
        "colab": {
          "base_uri": "https://localhost:8080/"
        },
        "id": "0eCkbeEsBFi3",
        "outputId": "0fc11ae7-ba21-4d64-be7a-4f33dc5b3cdb"
      },
      "execution_count": 47,
      "outputs": [
        {
          "output_type": "execute_result",
          "data": {
            "text/plain": [
              "False"
            ]
          },
          "metadata": {},
          "execution_count": 47
        }
      ]
    },
    {
      "cell_type": "code",
      "source": [
        "# Menampilkan semua anggota buah kecuali anggur, sirsak, dan melon\n",
        "\n",
        "buah.difference({'anggur','sirsak','melon'})"
      ],
      "metadata": {
        "colab": {
          "base_uri": "https://localhost:8080/"
        },
        "id": "ugqbj_qDC_gL",
        "outputId": "b4f82b86-b7be-413d-bfba-12ee5f993af5"
      },
      "execution_count": 48,
      "outputs": [
        {
          "output_type": "execute_result",
          "data": {
            "text/plain": [
              "{'apel', 'jambu', 'jeruk', 'mangga', 'semangka'}"
            ]
          },
          "metadata": {},
          "execution_count": 48
        }
      ]
    },
    {
      "cell_type": "code",
      "source": [
        "# Menampilkan irisan himpunan\n",
        "\n",
        "buah.intersection({'anggur','sirsak','melon'})"
      ],
      "metadata": {
        "colab": {
          "base_uri": "https://localhost:8080/"
        },
        "id": "dJ1lYuGHDI3G",
        "outputId": "9d234e31-de1e-46d9-e70d-adc393ba6a7f"
      },
      "execution_count": 49,
      "outputs": [
        {
          "output_type": "execute_result",
          "data": {
            "text/plain": [
              "{'anggur', 'melon'}"
            ]
          },
          "metadata": {},
          "execution_count": 49
        }
      ]
    },
    {
      "cell_type": "code",
      "source": [
        "# Menampilkan gabungan himpunan\n",
        "\n",
        "buah.union({'anggur','sirsak','melon'})"
      ],
      "metadata": {
        "colab": {
          "base_uri": "https://localhost:8080/"
        },
        "id": "l8ALKKIfDTLH",
        "outputId": "0a3adbf4-1e02-4cbd-cee2-a524aab37bc2"
      },
      "execution_count": 50,
      "outputs": [
        {
          "output_type": "execute_result",
          "data": {
            "text/plain": [
              "{'anggur', 'apel', 'jambu', 'jeruk', 'mangga', 'melon', 'semangka', 'sirsak'}"
            ]
          },
          "metadata": {},
          "execution_count": 50
        }
      ]
    },
    {
      "cell_type": "markdown",
      "source": [
        "# <b>D. <span style='color:#0B2F9F'><code>DICTIONARY</code></span></b>\n",
        "Dictionary adalah tipe data yang menyimpan data dalam bentuk key-value pair (Key : Value).\n",
        "Elemen dalam dictionary ditulis dengan tanda kurung kurawal { } dan dipisahkan dengan koma.\n",
        "\n",
        "Sifat-sifat dalam dictionary yaitu:\n",
        "\n",
        "- Sejak Python 3.7, dictionary mempertahankan urutan elemen sesuai saat dimasukkan (insertion ordered), tetapi tetap tidak bisa diakses dengan indeks numerik.\n",
        "\n",
        "- Elemen dapat diubah (Mutable)\n",
        "\n",
        "- Tidak boleh ada key yang duplikat\n",
        "\n",
        "- Dapat berisi berbagai tipe data, tetapi key harus bersifat immutable (seperti string, angka, atau tuple)\n",
        "\n"
      ],
      "metadata": {
        "id": "l38s-QMWw9N1"
      }
    },
    {
      "cell_type": "code",
      "source": [
        "# Mendefinisikan dictionary\n",
        "\n",
        "pegawai = {\n",
        "\t'Nama'\t: 'Dicky',\n",
        "\t'Usia'\t\t: 30,\n",
        "\t'Role'\t\t: 'Data Analyst',\n",
        "\t'Dept'\t\t: 'Marketing'\n",
        "}\n",
        "pegawai"
      ],
      "metadata": {
        "id": "YIXprrdEkAkX",
        "colab": {
          "base_uri": "https://localhost:8080/"
        },
        "outputId": "a96de196-38db-4fd1-9bc1-3fbaae50f3f6"
      },
      "execution_count": 51,
      "outputs": [
        {
          "output_type": "execute_result",
          "data": {
            "text/plain": [
              "{'Nama': 'Dicky', 'Usia': 30, 'Role': 'Data Analyst', 'Dept': 'Marketing'}"
            ]
          },
          "metadata": {},
          "execution_count": 51
        }
      ]
    },
    {
      "cell_type": "code",
      "source": [
        "# Memanggil value dari dictionary\n",
        "\n",
        "pegawai['Nama']"
      ],
      "metadata": {
        "colab": {
          "base_uri": "https://localhost:8080/",
          "height": 36
        },
        "id": "Li8_-BDEs7WW",
        "outputId": "d4b333db-872e-44b2-f14b-59620f24d94d"
      },
      "execution_count": 52,
      "outputs": [
        {
          "output_type": "execute_result",
          "data": {
            "text/plain": [
              "'Dicky'"
            ],
            "application/vnd.google.colaboratory.intrinsic+json": {
              "type": "string"
            }
          },
          "metadata": {},
          "execution_count": 52
        }
      ]
    },
    {
      "cell_type": "code",
      "source": [
        "# Mengganti value pada dictionary\n",
        "\n",
        "pegawai['Nama'] = 'Ricky'\n",
        "\n",
        "print(pegawai)"
      ],
      "metadata": {
        "colab": {
          "base_uri": "https://localhost:8080/"
        },
        "id": "6iyvfORls9z0",
        "outputId": "dc3adb42-fe0e-4fea-c14f-476fe085f1f8"
      },
      "execution_count": 53,
      "outputs": [
        {
          "output_type": "stream",
          "name": "stdout",
          "text": [
            "{'Nama': 'Ricky', 'Usia': 30, 'Role': 'Data Analyst', 'Dept': 'Marketing'}\n"
          ]
        }
      ]
    },
    {
      "cell_type": "code",
      "source": [
        "# Menambahkan key baru beserta valuenya\n",
        "\n",
        "pegawai['Gaji'] = 10000000\n",
        "\n",
        "print(pegawai)"
      ],
      "metadata": {
        "colab": {
          "base_uri": "https://localhost:8080/"
        },
        "id": "btXvZzcctAe_",
        "outputId": "4dd8d470-44f5-402b-8755-bfe94b80044f"
      },
      "execution_count": 54,
      "outputs": [
        {
          "output_type": "stream",
          "name": "stdout",
          "text": [
            "{'Nama': 'Ricky', 'Usia': 30, 'Role': 'Data Analyst', 'Dept': 'Marketing', 'Gaji': 10000000}\n"
          ]
        }
      ]
    },
    {
      "cell_type": "code",
      "source": [
        "# Menghapus key beserta valuenya\n",
        "\n",
        "del pegawai['Gaji']\n",
        "\n",
        "print(pegawai)"
      ],
      "metadata": {
        "colab": {
          "base_uri": "https://localhost:8080/"
        },
        "id": "j_7U3L22tBTR",
        "outputId": "27023e8d-0ebc-4213-c795-495ac6150807"
      },
      "execution_count": 55,
      "outputs": [
        {
          "output_type": "stream",
          "name": "stdout",
          "text": [
            "{'Nama': 'Ricky', 'Usia': 30, 'Role': 'Data Analyst', 'Dept': 'Marketing'}\n"
          ]
        }
      ]
    },
    {
      "cell_type": "code",
      "source": [
        "# Menampilkan daftar key dari dictionary\n",
        "\n",
        "pegawai.keys()"
      ],
      "metadata": {
        "colab": {
          "base_uri": "https://localhost:8080/"
        },
        "id": "onRJzBXktK64",
        "outputId": "4ba3e289-3ccd-42ad-e528-2372da75096c"
      },
      "execution_count": 56,
      "outputs": [
        {
          "output_type": "execute_result",
          "data": {
            "text/plain": [
              "dict_keys(['Nama', 'Usia', 'Role', 'Dept'])"
            ]
          },
          "metadata": {},
          "execution_count": 56
        }
      ]
    },
    {
      "cell_type": "code",
      "source": [
        "# Menampilkan daftar values\n",
        "\n",
        "pegawai.values()"
      ],
      "metadata": {
        "colab": {
          "base_uri": "https://localhost:8080/"
        },
        "id": "YCIxOTZMuLPk",
        "outputId": "d0ceb891-6c23-484a-e72e-b54600027ecf"
      },
      "execution_count": 57,
      "outputs": [
        {
          "output_type": "execute_result",
          "data": {
            "text/plain": [
              "dict_values(['Ricky', 30, 'Data Analyst', 'Marketing'])"
            ]
          },
          "metadata": {},
          "execution_count": 57
        }
      ]
    },
    {
      "cell_type": "code",
      "source": [
        "# Menampilkan pasangan key value dalam bentuk list of tuples\n",
        "\n",
        "pegawai.items()"
      ],
      "metadata": {
        "colab": {
          "base_uri": "https://localhost:8080/"
        },
        "id": "7wvf6JiuuMep",
        "outputId": "bf2b725c-9708-4f80-d251-588af712430f"
      },
      "execution_count": 58,
      "outputs": [
        {
          "output_type": "execute_result",
          "data": {
            "text/plain": [
              "dict_items([('Nama', 'Ricky'), ('Usia', 30), ('Role', 'Data Analyst'), ('Dept', 'Marketing')])"
            ]
          },
          "metadata": {},
          "execution_count": 58
        }
      ]
    },
    {
      "cell_type": "code",
      "source": [
        "# Menyalin dictionary\n",
        "\n",
        "copy_of_pegawai = pegawai.copy()\n",
        "copy_of_pegawai"
      ],
      "metadata": {
        "id": "-_fzyG_XuNoa",
        "colab": {
          "base_uri": "https://localhost:8080/"
        },
        "outputId": "11a6fefd-119f-48a9-b39d-09406574e336"
      },
      "execution_count": 59,
      "outputs": [
        {
          "output_type": "execute_result",
          "data": {
            "text/plain": [
              "{'Nama': 'Ricky', 'Usia': 30, 'Role': 'Data Analyst', 'Dept': 'Marketing'}"
            ]
          },
          "metadata": {},
          "execution_count": 59
        }
      ]
    },
    {
      "cell_type": "code",
      "source": [
        "# Menghapus seluruh isi dictionary\n",
        "\n",
        "copy_of_pegawai.clear()\n",
        "copy_of_pegawai"
      ],
      "metadata": {
        "id": "d0Ozu2fDOfOc",
        "colab": {
          "base_uri": "https://localhost:8080/"
        },
        "outputId": "3a149aee-774a-47e3-cb17-f6131abc1db6"
      },
      "execution_count": 60,
      "outputs": [
        {
          "output_type": "execute_result",
          "data": {
            "text/plain": [
              "{}"
            ]
          },
          "metadata": {},
          "execution_count": 60
        }
      ]
    },
    {
      "cell_type": "markdown",
      "source": [
        "# <b>E. <span style='color:#0B2F9F'><code>LATIHAN</code></span></b>"
      ],
      "metadata": {
        "id": "8C8VfXjGpDep"
      }
    },
    {
      "cell_type": "code",
      "source": [
        "# 1\n",
        "\n",
        "for i in range(len(nama_teman)):\n",
        "  print(nama_teman[i])"
      ],
      "metadata": {
        "id": "VUuZLew8Oj2x",
        "colab": {
          "base_uri": "https://localhost:8080/"
        },
        "outputId": "1a0118fe-8505-4d29-9566-a4824e01cdea"
      },
      "execution_count": 61,
      "outputs": [
        {
          "output_type": "stream",
          "name": "stdout",
          "text": [
            "Asep\n",
            "Bobby\n",
            "Cinta\n",
            "Dimas\n",
            "Edi\n",
            "Farhan\n"
          ]
        }
      ]
    },
    {
      "cell_type": "code",
      "source": [
        "# 2\n",
        "\n",
        "nama_teman.append('Gio')\n",
        "## Cara 1\n",
        "for i in range(len(nama_teman)):\n",
        "  print(f\"{i+1}, {nama_teman[i]}\")"
      ],
      "metadata": {
        "colab": {
          "base_uri": "https://localhost:8080/"
        },
        "id": "iKHZTWZhqFtK",
        "outputId": "2b96386c-ebdd-4291-c591-acd0fc184674"
      },
      "execution_count": 62,
      "outputs": [
        {
          "output_type": "stream",
          "name": "stdout",
          "text": [
            "1, Asep\n",
            "2, Bobby\n",
            "3, Cinta\n",
            "4, Dimas\n",
            "5, Edi\n",
            "6, Farhan\n",
            "7, Gio\n"
          ]
        }
      ]
    },
    {
      "cell_type": "code",
      "source": [
        "## Cara 2\n",
        "for i, nama in enumerate(nama_teman):\n",
        "  print(f\"{i+1}, {nama}\")"
      ],
      "metadata": {
        "colab": {
          "base_uri": "https://localhost:8080/"
        },
        "id": "s-ybgaxYrgvV",
        "outputId": "b7913492-4c16-4c80-d515-0129544d10c2"
      },
      "execution_count": 63,
      "outputs": [
        {
          "output_type": "stream",
          "name": "stdout",
          "text": [
            "1, Asep\n",
            "2, Bobby\n",
            "3, Cinta\n",
            "4, Dimas\n",
            "5, Edi\n",
            "6, Farhan\n",
            "7, Gio\n"
          ]
        }
      ]
    },
    {
      "cell_type": "code",
      "source": [
        "# 3 (Mengakses list berisi tuple)\n",
        "\n",
        "i_name = list(enumerate(nama_teman))\n",
        "i_name"
      ],
      "metadata": {
        "colab": {
          "base_uri": "https://localhost:8080/"
        },
        "id": "MkrNZEEEtJxT",
        "outputId": "32e308ef-e3f8-4df3-abdd-09e7bfc95dbc"
      },
      "execution_count": 64,
      "outputs": [
        {
          "output_type": "execute_result",
          "data": {
            "text/plain": [
              "[(0, 'Asep'),\n",
              " (1, 'Bobby'),\n",
              " (2, 'Cinta'),\n",
              " (3, 'Dimas'),\n",
              " (4, 'Edi'),\n",
              " (5, 'Farhan'),\n",
              " (6, 'Gio')]"
            ]
          },
          "metadata": {},
          "execution_count": 64
        }
      ]
    },
    {
      "cell_type": "code",
      "source": [
        "i_name[2][1]"
      ],
      "metadata": {
        "colab": {
          "base_uri": "https://localhost:8080/",
          "height": 36
        },
        "id": "__IYdoIit7VZ",
        "outputId": "4cf8c90f-ed5d-47c9-8f37-fc0e2c7d73fd"
      },
      "execution_count": 65,
      "outputs": [
        {
          "output_type": "execute_result",
          "data": {
            "text/plain": [
              "'Cinta'"
            ],
            "application/vnd.google.colaboratory.intrinsic+json": {
              "type": "string"
            }
          },
          "metadata": {},
          "execution_count": 65
        }
      ]
    },
    {
      "cell_type": "code",
      "source": [
        "# 4\n",
        "\n",
        "## Cara 1\n",
        "nama_teman1 = ['Asep', 'Bobby', 'Cinta', 'Dimas', 'Edi', 'Asep']\n",
        "index = [i for i, nama in enumerate(nama_teman1) if nama == 'Asep']\n",
        "print(index)"
      ],
      "metadata": {
        "colab": {
          "base_uri": "https://localhost:8080/"
        },
        "id": "b6jsfw60vzKR",
        "outputId": "f6a510ab-02f6-4fe8-dbb3-695c7bda09bf"
      },
      "execution_count": 66,
      "outputs": [
        {
          "output_type": "stream",
          "name": "stdout",
          "text": [
            "[0, 5]\n"
          ]
        }
      ]
    },
    {
      "cell_type": "code",
      "source": [
        "## Cara 2\n",
        "asep = []\n",
        "for indeks, nama in enumerate(nama_teman1):\n",
        "  if nama == 'Asep':\n",
        "   asep.append(indeks)\n",
        "print(asep)"
      ],
      "metadata": {
        "id": "Wa3Ve1-A8K7B",
        "colab": {
          "base_uri": "https://localhost:8080/"
        },
        "outputId": "0a0765e8-0aaa-48d2-a24b-736d269546e6"
      },
      "execution_count": 67,
      "outputs": [
        {
          "output_type": "stream",
          "name": "stdout",
          "text": [
            "[0, 5]\n"
          ]
        }
      ]
    },
    {
      "cell_type": "code",
      "source": [
        "## Cara 3\n",
        "asep = []\n",
        "i = 0\n",
        "for nama in nama_teman1:\n",
        "  if nama == 'Asep' :\n",
        "    asep.append(i)\n",
        "  i += 1\n",
        "print(asep)"
      ],
      "metadata": {
        "colab": {
          "base_uri": "https://localhost:8080/"
        },
        "id": "LTbU-j2pMcMy",
        "outputId": "de534d69-d7fc-4a9d-8ba6-dfee95595bb6"
      },
      "execution_count": 68,
      "outputs": [
        {
          "output_type": "stream",
          "name": "stdout",
          "text": [
            "[0, 5]\n"
          ]
        }
      ]
    },
    {
      "cell_type": "markdown",
      "source": [
        "\n",
        "---\n",
        "Powered by : <br>\n",
        "<img src=\"https://lh3.googleusercontent.com/ayfbbgvQolM_Ys9VYRVFD6FjDJXSebI9sN1VtY4ppp65dXepA6JCKgKMM_porWAErGQmc8l-L_RXq080SJ3FbYTIsyxYqWWTuAX8A3VtafWLUwAnnxNnjR1s-3BMCUlF34fYnViLuutxrLm3nEpoix0\" width=\"20%\">\n",
        "<br><br>\n",
        "<a href=\"https://www.linkedin.com/in/kiranafara/\"><img src=\"https://img.shields.io/badge/-© 2025 Kirana Fara L-417DAC?style=for-the-badge&logoColor=white\"/></a>"
      ],
      "metadata": {
        "id": "TjTtxQ8Gg1rd"
      }
    }
  ]
}