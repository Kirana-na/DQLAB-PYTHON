{
  "nbformat": 4,
  "nbformat_minor": 0,
  "metadata": {
    "colab": {
      "provenance": []
    },
    "kernelspec": {
      "name": "python3",
      "display_name": "Python 3"
    },
    "language_info": {
      "name": "python"
    }
  },
  "cells": [
    {
      "cell_type": "markdown",
      "source": [
        "# <b>A. <span style='color:#0B2F9F'><code>LIST</code></span></b>\n",
        "List merupakan tipe data yang digunakan untuk menyimpan kumpulan nilai dalam satu variabel. Elemen dalam list ditulis dengan tanda kurung siku [ ] dan dipisahkan dengan koma.\n",
        "\n",
        "Sifat- sifat dalam list yaitu:\n",
        "- Terurut (ordered) dan mengenal indeks\n",
        "\n",
        "- Elemen dapat diubah (mutable)\n",
        "\n",
        "- Elemen dapat berulang/duplikat\n",
        "\n",
        "- Dapat berisi berbagai tipe data seperti integer, string, float, bahkan yang lain"
      ],
      "metadata": {
        "id": "H9erdds8gmb2"
      }
    },
    {
      "cell_type": "code",
      "execution_count": 1,
      "metadata": {
        "colab": {
          "base_uri": "https://localhost:8080/"
        },
        "id": "mgBwIe3LL6Wu",
        "outputId": "71b66125-d619-4dce-e4db-23833f57c811"
      },
      "outputs": [
        {
          "output_type": "stream",
          "name": "stdout",
          "text": [
            "['Amir', 'Budi', 'Cinta', 'Dimas', 'Edi']\n"
          ]
        }
      ],
      "source": [
        "# Variabel nama_teman (list) berisi lima nama teman\n",
        "\n",
        "nama_teman = ['Amir', 'Budi', 'Cinta', 'Dimas', 'Edi']\n",
        "print(nama_teman)"
      ]
    },
    {
      "cell_type": "code",
      "source": [
        "# List berisi nilai dengan tipe data berbeda\n",
        "\n",
        "acak = ['Amir', 18, 0.75, 'Jeruk']\n",
        "print(acak)"
      ],
      "metadata": {
        "colab": {
          "base_uri": "https://localhost:8080/"
        },
        "id": "7JtTgxqRPP-e",
        "outputId": "36ad894b-3dbf-43f9-f75e-67c99b2a076f"
      },
      "execution_count": 2,
      "outputs": [
        {
          "output_type": "stream",
          "name": "stdout",
          "text": [
            "['Amir', 18, 0.75, 'Jeruk']\n"
          ]
        }
      ]
    },
    {
      "cell_type": "code",
      "source": [
        "# List berisi elemen duplikat\n",
        "\n",
        "buah = ['Jeruk', 'Melon', 'Apel', 'Jeruk']\n",
        "print(buah)"
      ],
      "metadata": {
        "colab": {
          "base_uri": "https://localhost:8080/"
        },
        "id": "hB3zThcOgl_T",
        "outputId": "52d407d8-8054-4c36-9c59-2a4ee3bfe8aa"
      },
      "execution_count": 3,
      "outputs": [
        {
          "output_type": "stream",
          "name": "stdout",
          "text": [
            "['Jeruk', 'Melon', 'Apel', 'Jeruk']\n"
          ]
        }
      ]
    },
    {
      "cell_type": "code",
      "source": [
        "# Menampilkan panjang nama_teman\n",
        "\n",
        "len(nama_teman)"
      ],
      "metadata": {
        "colab": {
          "base_uri": "https://localhost:8080/"
        },
        "id": "M3C5VDzGjvIB",
        "outputId": "9aa5c969-6f75-4eac-df3c-c7c2adb0ce81"
      },
      "execution_count": 4,
      "outputs": [
        {
          "output_type": "execute_result",
          "data": {
            "text/plain": [
              "5"
            ]
          },
          "metadata": {},
          "execution_count": 4
        }
      ]
    },
    {
      "cell_type": "markdown",
      "source": [
        "###<b><span style='color:#A0C4FF'>Indeks</span></b>\n",
        "\n",
        "Indeks merupakan nilai yang menyatakan posisi atau nomor urut suatu elemen dalam struktur data yang terurut, seperti string, list, dan tuple. Indeks dimulai dari 0 dan dapat dibaca dari depan maupun belakang. Contoh:"
      ],
      "metadata": {
        "id": "r6kksROYkkqX"
      }
    },
    {
      "cell_type": "code",
      "source": [
        "# Indeks (depan)         0       1       2        3       4\n",
        "# Indeks (belakang)     -5      -4      -3       -2      -1\n",
        "#nama_teman       =  ['Amir', 'Budi', 'Cinta', 'Dimas', 'Edi']"
      ],
      "metadata": {
        "id": "sGZXTiGjlVYd"
      },
      "execution_count": 8,
      "outputs": []
    },
    {
      "cell_type": "code",
      "source": [
        "# Memanggil elemen berdasarkan indeks\n",
        "\n",
        "nama_teman[1]"
      ],
      "metadata": {
        "colab": {
          "base_uri": "https://localhost:8080/",
          "height": 36
        },
        "id": "KyWiAJmoUHit",
        "outputId": "d24d69a2-13c0-4fb3-c2da-265c4b3b8a87"
      },
      "execution_count": 9,
      "outputs": [
        {
          "output_type": "execute_result",
          "data": {
            "text/plain": [
              "'Budi'"
            ],
            "application/vnd.google.colaboratory.intrinsic+json": {
              "type": "string"
            }
          },
          "metadata": {},
          "execution_count": 9
        }
      ]
    },
    {
      "cell_type": "code",
      "source": [
        "nama_teman[-1]"
      ],
      "metadata": {
        "colab": {
          "base_uri": "https://localhost:8080/",
          "height": 36
        },
        "id": "H1K5hXCzy98o",
        "outputId": "33fad7f8-f251-4dba-fed2-7a54bd375de4"
      },
      "execution_count": 10,
      "outputs": [
        {
          "output_type": "execute_result",
          "data": {
            "text/plain": [
              "'Edi'"
            ],
            "application/vnd.google.colaboratory.intrinsic+json": {
              "type": "string"
            }
          },
          "metadata": {},
          "execution_count": 10
        }
      ]
    },
    {
      "cell_type": "code",
      "source": [
        "# Mengganti elemen pada indeks tertentu\n",
        "# Budi akan digantikan dengan Beni\n",
        "\n",
        "nama_teman[1] = 'Beni'\n",
        "print(nama_teman)"
      ],
      "metadata": {
        "colab": {
          "base_uri": "https://localhost:8080/"
        },
        "id": "oS2T-Ny_UJl4",
        "outputId": "919ea70a-59a4-4bbd-c3dc-c2c7ceefb394"
      },
      "execution_count": 11,
      "outputs": [
        {
          "output_type": "stream",
          "name": "stdout",
          "text": [
            "['Amir', 'Beni', 'Cinta', 'Dimas', 'Edi']\n"
          ]
        }
      ]
    },
    {
      "cell_type": "code",
      "source": [
        "# Menambahkan elemen baru pada akhir list\n",
        "\n",
        "nama_teman.append('Farhan')\n",
        "print(nama_teman)"
      ],
      "metadata": {
        "colab": {
          "base_uri": "https://localhost:8080/"
        },
        "id": "Bhut-OTQhHAT",
        "outputId": "1c265b5e-0f60-4ae9-97c8-611d41e098e8"
      },
      "execution_count": 12,
      "outputs": [
        {
          "output_type": "stream",
          "name": "stdout",
          "text": [
            "['Amir', 'Beni', 'Cinta', 'Dimas', 'Edi', 'Farhan']\n"
          ]
        }
      ]
    },
    {
      "cell_type": "code",
      "source": [
        "# Menghitung banyaknya kemunculan suatu elemen\n",
        "\n",
        "nama_teman.count('Beni')"
      ],
      "metadata": {
        "colab": {
          "base_uri": "https://localhost:8080/"
        },
        "id": "tc6DZ73OkGla",
        "outputId": "01c58606-4f85-4996-e815-e5c5f5b6f4ac"
      },
      "execution_count": 13,
      "outputs": [
        {
          "output_type": "execute_result",
          "data": {
            "text/plain": [
              "1"
            ]
          },
          "metadata": {},
          "execution_count": 13
        }
      ]
    },
    {
      "cell_type": "code",
      "source": [
        "# Menampilkan indeks dari suatu elemen\n",
        "# jika elemen memiliki duplikat maka indeks yang ditampilkan adalah indeks terkecil\n",
        "\n",
        "nama_teman.index('Dimas')"
      ],
      "metadata": {
        "colab": {
          "base_uri": "https://localhost:8080/"
        },
        "id": "gC9tnRsJkbh9",
        "outputId": "fce25236-31cc-4af4-9877-d890a25f0c5f"
      },
      "execution_count": 14,
      "outputs": [
        {
          "output_type": "execute_result",
          "data": {
            "text/plain": [
              "3"
            ]
          },
          "metadata": {},
          "execution_count": 14
        }
      ]
    },
    {
      "cell_type": "code",
      "source": [
        "# Menyisipkan elemen pada indeks tertentu\n",
        "\n",
        "nama_teman.insert(2, 'Canda')\n",
        "print(nama_teman)"
      ],
      "metadata": {
        "colab": {
          "base_uri": "https://localhost:8080/"
        },
        "id": "VAvBlTqGk6iT",
        "outputId": "1f6fc55e-0b6e-478e-f6f1-ff7e7f7995a1"
      },
      "execution_count": 15,
      "outputs": [
        {
          "output_type": "stream",
          "name": "stdout",
          "text": [
            "['Amir', 'Beni', 'Canda', 'Cinta', 'Dimas', 'Edi', 'Farhan']\n"
          ]
        }
      ]
    },
    {
      "cell_type": "code",
      "source": [
        "# Memindahkan elemen pada indeks tertentu ke tempat yang tidak diketahui\n",
        "\n",
        "nama_teman.pop(2)\n",
        "print(nama_teman)"
      ],
      "metadata": {
        "colab": {
          "base_uri": "https://localhost:8080/"
        },
        "id": "wBUDNtMHmKOK",
        "outputId": "6709b67c-6449-4387-efd3-4328301f09a6"
      },
      "execution_count": 16,
      "outputs": [
        {
          "output_type": "stream",
          "name": "stdout",
          "text": [
            "['Amir', 'Beni', 'Cinta', 'Dimas', 'Edi', 'Farhan']\n"
          ]
        }
      ]
    },
    {
      "cell_type": "code",
      "source": [
        "# Menghapus elemen tertentu\n",
        "# Jika terdapat elemen duplikat maka yang dihapus adalah elemen yang muncul pertama kali\n",
        "\n",
        "nama_teman.remove('Cinta')\n",
        "print(nama_teman)"
      ],
      "metadata": {
        "colab": {
          "base_uri": "https://localhost:8080/"
        },
        "id": "7rtOiNMJmzqe",
        "outputId": "8d8b170a-ea79-4116-891f-1c6bc80f1ce4"
      },
      "execution_count": 17,
      "outputs": [
        {
          "output_type": "stream",
          "name": "stdout",
          "text": [
            "['Amir', 'Beni', 'Dimas', 'Edi', 'Farhan']\n"
          ]
        }
      ]
    },
    {
      "cell_type": "code",
      "source": [
        "# Mengurutkan elemen pada list\n",
        "\n",
        "# Ascending/menaik\n",
        "nama_teman.sort()\n",
        "print('Menaik')\n",
        "print(nama_teman)\n",
        "print('\\n')\n",
        "\n",
        "# Descending/menurun\n",
        "print('Menurun')\n",
        "nama_teman.sort(reverse=True)\n",
        "print(nama_teman)"
      ],
      "metadata": {
        "colab": {
          "base_uri": "https://localhost:8080/"
        },
        "id": "9AjnYrC8nWRe",
        "outputId": "25d16a42-8008-4ec8-9e8f-641e48f1f301"
      },
      "execution_count": 18,
      "outputs": [
        {
          "output_type": "stream",
          "name": "stdout",
          "text": [
            "Menaik\n",
            "['Amir', 'Beni', 'Dimas', 'Edi', 'Farhan']\n",
            "\n",
            "\n",
            "Menurun\n",
            "['Farhan', 'Edi', 'Dimas', 'Beni', 'Amir']\n"
          ]
        }
      ]
    },
    {
      "cell_type": "code",
      "source": [
        "# Membalikkan list\n",
        "\n",
        "nama_teman.reverse()\n",
        "print(nama_teman)"
      ],
      "metadata": {
        "colab": {
          "base_uri": "https://localhost:8080/"
        },
        "id": "vyVqUO5vnwyU",
        "outputId": "380952be-a277-41cb-ac87-f88d6a0c9699"
      },
      "execution_count": 20,
      "outputs": [
        {
          "output_type": "stream",
          "name": "stdout",
          "text": [
            "['Farhan', 'Edi', 'Dimas', 'Beni', 'Amir']\n"
          ]
        }
      ]
    },
    {
      "cell_type": "code",
      "source": [
        "# Menyalin list\n",
        "\n",
        "teman_baru = nama_teman.copy()\n",
        "print(teman_baru)"
      ],
      "metadata": {
        "colab": {
          "base_uri": "https://localhost:8080/"
        },
        "id": "vN7_O9egpw5e",
        "outputId": "3ddf674c-21a9-4b2a-87b8-e4be573fa78e"
      },
      "execution_count": 21,
      "outputs": [
        {
          "output_type": "stream",
          "name": "stdout",
          "text": [
            "['Farhan', 'Edi', 'Dimas', 'Beni', 'Amir']\n"
          ]
        }
      ]
    },
    {
      "cell_type": "code",
      "source": [
        "# Mengosongkan list\n",
        "\n",
        "nama_teman.clear()\n",
        "print(nama_teman)"
      ],
      "metadata": {
        "colab": {
          "base_uri": "https://localhost:8080/"
        },
        "id": "BmZ1HqighMV1",
        "outputId": "31c38adf-806f-4455-9b92-ee24fd0f0885"
      },
      "execution_count": 22,
      "outputs": [
        {
          "output_type": "stream",
          "name": "stdout",
          "text": [
            "[]\n"
          ]
        }
      ]
    },
    {
      "cell_type": "code",
      "source": [
        "# List nama_teman sekarang menjadi kosong\n",
        "\n",
        "nama_teman"
      ],
      "metadata": {
        "colab": {
          "base_uri": "https://localhost:8080/"
        },
        "id": "ytq2s8dGj_TJ",
        "outputId": "f85a8d29-48d6-4ffd-9a43-855667453ec3"
      },
      "execution_count": 24,
      "outputs": [
        {
          "output_type": "execute_result",
          "data": {
            "text/plain": [
              "[]"
            ]
          },
          "metadata": {},
          "execution_count": 24
        }
      ]
    },
    {
      "cell_type": "markdown",
      "source": [
        "###<b><span style='color:#A0C4FF'>Slicing</span></b>\n",
        "Slicing adalah teknik untuk mengambil bagian dari suatu urutan (seperti string, list, atau tuple) menggunakan indeks. Penulisannya sebagai berikut.\n",
        "\n",
        "Nama_list [indeks_awal:indeks_akhir:step]\n",
        "\n",
        "● Jika nilai step tidak didefinisikan, maka step akan bernilai 1 (maju 1\n",
        "hitungan)\n",
        "\n",
        "● Jika step bernilai -1 maka step akan mundur satu hitungan\n",
        "\n",
        "● Elemen yang terakhir dicetak adalah di indeks_akhir - 1"
      ],
      "metadata": {
        "id": "vv5M1duWjzPW"
      }
    },
    {
      "cell_type": "code",
      "source": [
        "# Slicing pada list\n",
        "\n",
        "nama_teman = ['Amir', 'Beni', 'Cinta', 'Dimas', 'Edi']\n",
        "\n",
        "print(nama_teman[0:3])\n",
        "\n",
        "print(nama_teman[::2])\n",
        "\n",
        "print(nama_teman[::-1])\n"
      ],
      "metadata": {
        "colab": {
          "base_uri": "https://localhost:8080/"
        },
        "id": "PrsKuErQg2Kj",
        "outputId": "c1f5fba4-7c2e-4491-85e0-992f0f7ea09c"
      },
      "execution_count": 25,
      "outputs": [
        {
          "output_type": "stream",
          "name": "stdout",
          "text": [
            "['Amir', 'Beni', 'Cinta']\n",
            "['Amir', 'Cinta', 'Edi']\n",
            "['Edi', 'Dimas', 'Cinta', 'Beni', 'Amir']\n"
          ]
        }
      ]
    },
    {
      "cell_type": "code",
      "source": [
        "# Mengganti elemen pada indeks tertentu\n",
        "# Amir akan digantikan dengan Asep dan Beni digantikan dengan Bobby\n",
        "nama_teman[0:2] = ['Asep', 'Bobby']\n",
        "print(nama_teman)"
      ],
      "metadata": {
        "colab": {
          "base_uri": "https://localhost:8080/"
        },
        "id": "pozIYePCmSOQ",
        "outputId": "c180361d-11d9-4a48-a1b9-04532ed948ac"
      },
      "execution_count": 27,
      "outputs": [
        {
          "output_type": "stream",
          "name": "stdout",
          "text": [
            "['Asep', 'Bobby', 'Cinta', 'Dimas', 'Edi']\n"
          ]
        }
      ]
    },
    {
      "cell_type": "markdown",
      "source": [
        "###<b><span style='color:#A0C4FF'>Append</span></b>\n",
        "\n",
        "Append adalah metode dalam list yang digunakan untuk menambahkan satu elemen ke akhir list."
      ],
      "metadata": {
        "id": "kPUXpX3ooH10"
      }
    },
    {
      "cell_type": "code",
      "source": [
        "# Menambahkan elemen baru di akhir list\n",
        "\n",
        "nama_teman.append('Farhan')\n",
        "print(nama_teman)"
      ],
      "metadata": {
        "colab": {
          "base_uri": "https://localhost:8080/"
        },
        "id": "d49O7RIhn89d",
        "outputId": "3aa3a376-d05b-44cc-ae99-a8a3769893c4"
      },
      "execution_count": 28,
      "outputs": [
        {
          "output_type": "stream",
          "name": "stdout",
          "text": [
            "['Asep', 'Bobby', 'Cinta', 'Dimas', 'Edi', 'Farhan']\n"
          ]
        }
      ]
    },
    {
      "cell_type": "markdown",
      "source": [
        "# <b>B. <span style='color:#0B2F9F'><code>TUPLE</code></span></b>\n",
        "Tuple adalah tipe data yang digunakan untuk menyimpan kumpulan nilai seperti list, tetapi elemen dalam tuple ditulis dengan tanda kurung ( ) dan dipisahkan dengan koma.\n",
        "\n",
        "Sifat- sifat dalam tuple yaitu:\n",
        "- Terurut (ordered) dan mengenal indeks\n",
        "\n",
        "- Elemen tidak dapat diubah (immutable)\n",
        "\n",
        "- Elemen dapat berulang/duplikat\n",
        "\n",
        "- Dapat berisi berbagai tipe data seperti integer, string, float, bahkan yang lain"
      ],
      "metadata": {
        "id": "EZwrwL1khVPh"
      }
    },
    {
      "cell_type": "code",
      "source": [
        "# Mendefinisikan tuple dengan tanda kurung\n",
        "\n",
        "bil_tuple = (10,20,30,40,50)"
      ],
      "metadata": {
        "id": "-Qv2yHdnwCNj"
      },
      "execution_count": 29,
      "outputs": []
    },
    {
      "cell_type": "code",
      "source": [
        "# Menampilkan panjang tuple\n",
        "\n",
        "len(bil_tuple)"
      ],
      "metadata": {
        "colab": {
          "base_uri": "https://localhost:8080/"
        },
        "id": "7kOdOIElwOrD",
        "outputId": "ffd94475-28c1-4134-f08c-3dd2612c2de6"
      },
      "execution_count": 30,
      "outputs": [
        {
          "output_type": "execute_result",
          "data": {
            "text/plain": [
              "5"
            ]
          },
          "metadata": {},
          "execution_count": 30
        }
      ]
    },
    {
      "cell_type": "code",
      "source": [
        "# Menampilkan kemunculan bilangan 10 pada tuple\n",
        "\n",
        "bil_tuple.count(10)"
      ],
      "metadata": {
        "colab": {
          "base_uri": "https://localhost:8080/"
        },
        "id": "z0JRHxQVwQvv",
        "outputId": "eadd8e03-9f12-424d-a2d7-3496cabb2436"
      },
      "execution_count": 31,
      "outputs": [
        {
          "output_type": "execute_result",
          "data": {
            "text/plain": [
              "1"
            ]
          },
          "metadata": {},
          "execution_count": 31
        }
      ]
    },
    {
      "cell_type": "code",
      "source": [
        "# Menampilkan indeks dari elemen 30 pada tuple\n",
        "\n",
        "bil_tuple.index(30)"
      ],
      "metadata": {
        "colab": {
          "base_uri": "https://localhost:8080/"
        },
        "id": "KBqkEABRwT3u",
        "outputId": "c83a402c-0f13-4d24-faec-64f9fa225ee5"
      },
      "execution_count": 33,
      "outputs": [
        {
          "output_type": "execute_result",
          "data": {
            "text/plain": [
              "2"
            ]
          },
          "metadata": {},
          "execution_count": 33
        }
      ]
    },
    {
      "cell_type": "code",
      "source": [
        "# Menampilkan elemen dengan indeks ke 3 pada tuple\n",
        "\n",
        "bil_tuple[3]"
      ],
      "metadata": {
        "colab": {
          "base_uri": "https://localhost:8080/"
        },
        "id": "lBixP0HLwF7T",
        "outputId": "e96db215-56f4-4acb-db1a-587ce3e6020a"
      },
      "execution_count": 34,
      "outputs": [
        {
          "output_type": "execute_result",
          "data": {
            "text/plain": [
              "40"
            ]
          },
          "metadata": {},
          "execution_count": 34
        }
      ]
    },
    {
      "cell_type": "code",
      "source": [
        "# Slicing pada tuple\n",
        "\n",
        "bil_tuple[::2]"
      ],
      "metadata": {
        "colab": {
          "base_uri": "https://localhost:8080/"
        },
        "id": "9AU1z6_rwJbG",
        "outputId": "535db0de-f302-4edc-8850-c8ac2c96e8a1"
      },
      "execution_count": 35,
      "outputs": [
        {
          "output_type": "execute_result",
          "data": {
            "text/plain": [
              "(10, 30, 50)"
            ]
          },
          "metadata": {},
          "execution_count": 35
        }
      ]
    },
    {
      "cell_type": "code",
      "source": [
        "# Membuat list dari tuple\n",
        "\n",
        "bilangan = list(bil_tuple)\n",
        "bilangan"
      ],
      "metadata": {
        "colab": {
          "base_uri": "https://localhost:8080/"
        },
        "id": "lSKTI5Mt2vB1",
        "outputId": "73da7903-0ae5-440f-c9ab-a53e3b448f40"
      },
      "execution_count": 36,
      "outputs": [
        {
          "output_type": "execute_result",
          "data": {
            "text/plain": [
              "[10, 20, 30, 40, 50]"
            ]
          },
          "metadata": {},
          "execution_count": 36
        }
      ]
    },
    {
      "cell_type": "code",
      "source": [
        "# Membuat tuple dari list\n",
        "\n",
        "bil_list = [50, 70, 90, 30, 20, 10, 60, 70, 30, 50]\n",
        "\n",
        "bil = tuple(bil_list)\n",
        "print(bil)"
      ],
      "metadata": {
        "colab": {
          "base_uri": "https://localhost:8080/"
        },
        "id": "-JW5IZVDwMNY",
        "outputId": "71cc1093-c856-40fb-8fa6-cc8c6865592f"
      },
      "execution_count": 37,
      "outputs": [
        {
          "output_type": "stream",
          "name": "stdout",
          "text": [
            "(50, 70, 90, 30, 20, 10, 60, 70, 30, 50)\n"
          ]
        }
      ]
    },
    {
      "cell_type": "markdown",
      "source": [
        "# <b>C. <span style='color:#0B2F9F'><code>SET</code></span></b>\n",
        "Set adalah tipe data yang digunakan untuk menyimpan kumpulan elemen,\n",
        "elemen ditulis dengan tanda kurung kurawal { } dan dipisahkan dengan koma.\n",
        "\n",
        "Sifat-sifat dalam set yaitu:\n",
        "- Tidak berurutan (unordered) dan tidak mengenal indeks\n",
        "\n",
        "- Elemen dapat diubah (mutable)\n",
        "\n",
        "- Tidak ada elemen duplikat\n",
        "\n",
        "- Dapat berisi berbagai tipe data seperti integer, string, float, kecuali list dan dict\n",
        "\n"
      ],
      "metadata": {
        "id": "oy3_6YQjiar0"
      }
    },
    {
      "cell_type": "code",
      "source": [
        "# Mendefinisikan set bernama buah\n",
        "\n",
        "buah = {'apel','jeruk','mangga','melon','semangka','anggur'}\n",
        "buah"
      ],
      "metadata": {
        "id": "wgnrjwk_A4rN",
        "colab": {
          "base_uri": "https://localhost:8080/"
        },
        "outputId": "f1ae4df5-2ef8-40ec-e49a-a5d250b1e10f"
      },
      "execution_count": 38,
      "outputs": [
        {
          "output_type": "execute_result",
          "data": {
            "text/plain": [
              "{'anggur', 'apel', 'jeruk', 'mangga', 'melon', 'semangka'}"
            ]
          },
          "metadata": {},
          "execution_count": 38
        }
      ]
    },
    {
      "cell_type": "code",
      "source": [
        "# Menampilkan ukuran himpunan\n",
        "\n",
        "len(buah)"
      ],
      "metadata": {
        "colab": {
          "base_uri": "https://localhost:8080/"
        },
        "id": "tN4Y8B-xCdhN",
        "outputId": "25d2fa7f-e947-4795-ed08-8512827e7bfb"
      },
      "execution_count": 39,
      "outputs": [
        {
          "output_type": "execute_result",
          "data": {
            "text/plain": [
              "6"
            ]
          },
          "metadata": {},
          "execution_count": 39
        }
      ]
    },
    {
      "cell_type": "code",
      "source": [
        "# Menambahkan anggota himpunan\n",
        "\n",
        "buah.add('pepaya')\n",
        "\n",
        "print(buah)"
      ],
      "metadata": {
        "colab": {
          "base_uri": "https://localhost:8080/"
        },
        "id": "1avBu_oLChMl",
        "outputId": "49325084-b487-4cb1-f554-710621dc4999"
      },
      "execution_count": 40,
      "outputs": [
        {
          "output_type": "stream",
          "name": "stdout",
          "text": [
            "{'mangga', 'apel', 'jeruk', 'pepaya', 'semangka', 'anggur', 'melon'}\n"
          ]
        }
      ]
    },
    {
      "cell_type": "code",
      "source": [
        "# Menambahkan himpunan ke himpunan\n",
        "\n",
        "buah.update({'pisang','jambu'})\n",
        "\n",
        "print(buah)"
      ],
      "metadata": {
        "colab": {
          "base_uri": "https://localhost:8080/"
        },
        "id": "R9CmV3mCCm2j",
        "outputId": "55435d32-0913-4150-8c9c-6a1c2a281c7c"
      },
      "execution_count": 41,
      "outputs": [
        {
          "output_type": "stream",
          "name": "stdout",
          "text": [
            "{'pisang', 'jeruk', 'semangka', 'anggur', 'pepaya', 'melon', 'mangga', 'jambu', 'apel'}\n"
          ]
        }
      ]
    },
    {
      "cell_type": "code",
      "source": [
        "# Menghapus 'pisang' dari himpunan\n",
        "\n",
        "buah.remove('pisang')\n",
        "\n",
        "print(buah)"
      ],
      "metadata": {
        "colab": {
          "base_uri": "https://localhost:8080/"
        },
        "id": "BbEohvJVCt6h",
        "outputId": "d0229735-6e06-469e-9427-b63a54b9544c"
      },
      "execution_count": 42,
      "outputs": [
        {
          "output_type": "stream",
          "name": "stdout",
          "text": [
            "{'jeruk', 'semangka', 'anggur', 'pepaya', 'melon', 'mangga', 'jambu', 'apel'}\n"
          ]
        }
      ]
    },
    {
      "cell_type": "code",
      "source": [
        "# Akan menghasilkan error karena sirsak tidak ada di dalam himpunan\n",
        "buah.remove('sirsak')"
      ],
      "metadata": {
        "colab": {
          "base_uri": "https://localhost:8080/",
          "height": 164
        },
        "id": "fY40xiHiC2f3",
        "outputId": "708b72fe-e0fc-4bf9-d655-1e4a304aa94a"
      },
      "execution_count": 43,
      "outputs": [
        {
          "output_type": "error",
          "ename": "KeyError",
          "evalue": "'sirsak'",
          "traceback": [
            "\u001b[0;31m---------------------------------------------------------------------------\u001b[0m",
            "\u001b[0;31mKeyError\u001b[0m                                  Traceback (most recent call last)",
            "\u001b[0;32m<ipython-input-43-2f9a4b40ba99>\u001b[0m in \u001b[0;36m<cell line: 0>\u001b[0;34m()\u001b[0m\n\u001b[1;32m      1\u001b[0m \u001b[0;31m# Akan menghasilkan error karena sirsak tidak ada di dalam himpunan\u001b[0m\u001b[0;34m\u001b[0m\u001b[0;34m\u001b[0m\u001b[0m\n\u001b[0;32m----> 2\u001b[0;31m \u001b[0mbuah\u001b[0m\u001b[0;34m.\u001b[0m\u001b[0mremove\u001b[0m\u001b[0;34m(\u001b[0m\u001b[0;34m'sirsak'\u001b[0m\u001b[0;34m)\u001b[0m\u001b[0;34m\u001b[0m\u001b[0;34m\u001b[0m\u001b[0m\n\u001b[0m",
            "\u001b[0;31mKeyError\u001b[0m: 'sirsak'"
          ]
        }
      ]
    },
    {
      "cell_type": "code",
      "source": [
        "# Menghapus 'pepaya' dari himpunan\n",
        "\n",
        "buah.discard('pepaya')\n",
        "\n",
        "print(buah)"
      ],
      "metadata": {
        "colab": {
          "base_uri": "https://localhost:8080/"
        },
        "id": "2Rhif0mLCyWQ",
        "outputId": "5e1ed212-7a2e-4c85-d0ca-e0760dbf446f"
      },
      "execution_count": 44,
      "outputs": [
        {
          "output_type": "stream",
          "name": "stdout",
          "text": [
            "{'jeruk', 'semangka', 'anggur', 'melon', 'mangga', 'jambu', 'apel'}\n"
          ]
        }
      ]
    },
    {
      "cell_type": "code",
      "source": [
        "# Menguji apakah terdapat 'durian' pada himpunan buah\n",
        "\n",
        "'durian' in buah"
      ],
      "metadata": {
        "colab": {
          "base_uri": "https://localhost:8080/"
        },
        "id": "0eCkbeEsBFi3",
        "outputId": "aac4750d-4177-4a5e-9955-48b01173da0b"
      },
      "execution_count": 45,
      "outputs": [
        {
          "output_type": "execute_result",
          "data": {
            "text/plain": [
              "False"
            ]
          },
          "metadata": {},
          "execution_count": 45
        }
      ]
    },
    {
      "cell_type": "code",
      "source": [
        "# Menampilkan semua anggota buah kecuali anggur, sirsak, dan melon\n",
        "\n",
        "buah.difference({'anggur','sirsak','melon'})"
      ],
      "metadata": {
        "colab": {
          "base_uri": "https://localhost:8080/"
        },
        "id": "ugqbj_qDC_gL",
        "outputId": "0b872d3d-f43d-4a61-f870-6802ca157d10"
      },
      "execution_count": 46,
      "outputs": [
        {
          "output_type": "execute_result",
          "data": {
            "text/plain": [
              "{'apel', 'jambu', 'jeruk', 'mangga', 'semangka'}"
            ]
          },
          "metadata": {},
          "execution_count": 46
        }
      ]
    },
    {
      "cell_type": "code",
      "source": [
        "# Menampilkan irisan himpunan\n",
        "\n",
        "buah.intersection({'anggur','sirsak','melon'})"
      ],
      "metadata": {
        "colab": {
          "base_uri": "https://localhost:8080/"
        },
        "id": "dJ1lYuGHDI3G",
        "outputId": "67e80e07-2be9-4f99-c5b7-9a3a6e5190be"
      },
      "execution_count": 47,
      "outputs": [
        {
          "output_type": "execute_result",
          "data": {
            "text/plain": [
              "{'anggur', 'melon'}"
            ]
          },
          "metadata": {},
          "execution_count": 47
        }
      ]
    },
    {
      "cell_type": "code",
      "source": [
        "# Menampilkan gabungan himpunan\n",
        "\n",
        "buah.union({'anggur','sirsak','melon'})"
      ],
      "metadata": {
        "colab": {
          "base_uri": "https://localhost:8080/"
        },
        "id": "l8ALKKIfDTLH",
        "outputId": "1d307f8c-e829-4daa-d39b-6e6400ff8f43"
      },
      "execution_count": 48,
      "outputs": [
        {
          "output_type": "execute_result",
          "data": {
            "text/plain": [
              "{'anggur', 'apel', 'jambu', 'jeruk', 'mangga', 'melon', 'semangka', 'sirsak'}"
            ]
          },
          "metadata": {},
          "execution_count": 48
        }
      ]
    },
    {
      "cell_type": "markdown",
      "source": [
        "# <b>D. <span style='color:#0B2F9F'><code>DICTIONARY</code></span></b>\n",
        "Dictionary adalah tipe data yang menyimpan data dalam bentuk key-value pair (Key : Value).\n",
        "Elemen dalam dictionary ditulis dengan tanda kurung kurawal { } dan dipisahkan dengan koma.\n",
        "\n",
        "Sifat-sifat dalam dictionary yaitu:\n",
        "\n",
        "- Sejak Python 3.7, dictionary mempertahankan urutan elemen sesuai saat dimasukkan (insertion ordered), tetapi tetap tidak bisa diakses dengan indeks numerik.\n",
        "\n",
        "- Elemen dapat diubah (Mutable)\n",
        "\n",
        "- Tidak boleh ada key yang duplikat\n",
        "\n",
        "- Dapat berisi berbagai tipe data, tetapi key harus bersifat immutable (seperti string, angka, atau tuple)\n",
        "\n"
      ],
      "metadata": {
        "id": "l38s-QMWw9N1"
      }
    },
    {
      "cell_type": "code",
      "source": [
        "# Mendefinisikan dictionary\n",
        "\n",
        "pegawai = {\n",
        "\t'Nama'\t: 'Dicky',\n",
        "\t'Usia'\t\t: 30,\n",
        "\t'Role'\t\t: 'Data Analyst',\n",
        "\t'Dept'\t\t: 'Marketing'\n",
        "}\n",
        "pegawai"
      ],
      "metadata": {
        "id": "YIXprrdEkAkX",
        "colab": {
          "base_uri": "https://localhost:8080/"
        },
        "outputId": "20dfff73-31c2-4ea9-9a88-ea8f034ee8f4"
      },
      "execution_count": 49,
      "outputs": [
        {
          "output_type": "execute_result",
          "data": {
            "text/plain": [
              "{'Nama': 'Dicky', 'Usia': 30, 'Role': 'Data Analyst', 'Dept': 'Marketing'}"
            ]
          },
          "metadata": {},
          "execution_count": 49
        }
      ]
    },
    {
      "cell_type": "code",
      "source": [
        "# Memanggil value dari dictionary\n",
        "\n",
        "pegawai['Nama']"
      ],
      "metadata": {
        "colab": {
          "base_uri": "https://localhost:8080/",
          "height": 36
        },
        "id": "Li8_-BDEs7WW",
        "outputId": "ed70f986-b58c-4736-befb-2fea98f5d8d6"
      },
      "execution_count": 54,
      "outputs": [
        {
          "output_type": "execute_result",
          "data": {
            "text/plain": [
              "'Ricky'"
            ],
            "application/vnd.google.colaboratory.intrinsic+json": {
              "type": "string"
            }
          },
          "metadata": {},
          "execution_count": 54
        }
      ]
    },
    {
      "cell_type": "code",
      "source": [
        "# Mengganti value pada dictionary\n",
        "\n",
        "pegawai['Nama'] = 'Ricky'\n",
        "\n",
        "print(pegawai)"
      ],
      "metadata": {
        "colab": {
          "base_uri": "https://localhost:8080/"
        },
        "id": "6iyvfORls9z0",
        "outputId": "fe174f9f-9ce4-4fa1-d673-06ea19fda6d5"
      },
      "execution_count": 55,
      "outputs": [
        {
          "output_type": "stream",
          "name": "stdout",
          "text": [
            "{'Nama': 'Ricky', 'Usia': 30, 'Role': 'Data Analyst', 'Dept': 'Marketing', 'Gaji': 10000000}\n"
          ]
        }
      ]
    },
    {
      "cell_type": "code",
      "source": [
        "# Menambahkan key baru beserta valuenya\n",
        "\n",
        "pegawai['Gaji'] = 10000000\n",
        "\n",
        "print(pegawai)"
      ],
      "metadata": {
        "colab": {
          "base_uri": "https://localhost:8080/"
        },
        "id": "btXvZzcctAe_",
        "outputId": "7f5c7317-b145-415e-803c-45e85835e1e6"
      },
      "execution_count": 56,
      "outputs": [
        {
          "output_type": "stream",
          "name": "stdout",
          "text": [
            "{'Nama': 'Ricky', 'Usia': 30, 'Role': 'Data Analyst', 'Dept': 'Marketing', 'Gaji': 10000000}\n"
          ]
        }
      ]
    },
    {
      "cell_type": "code",
      "source": [
        "# Menghapus key beserta valuenya\n",
        "\n",
        "del pegawai['Gaji']\n",
        "\n",
        "print(pegawai)"
      ],
      "metadata": {
        "colab": {
          "base_uri": "https://localhost:8080/"
        },
        "id": "j_7U3L22tBTR",
        "outputId": "a3439319-d2fd-4014-b010-326cdff4d9f1"
      },
      "execution_count": 57,
      "outputs": [
        {
          "output_type": "stream",
          "name": "stdout",
          "text": [
            "{'Nama': 'Ricky', 'Usia': 30, 'Role': 'Data Analyst', 'Dept': 'Marketing'}\n"
          ]
        }
      ]
    },
    {
      "cell_type": "code",
      "source": [
        "# Menampilkan daftar key dari dictionary\n",
        "\n",
        "pegawai.keys()"
      ],
      "metadata": {
        "colab": {
          "base_uri": "https://localhost:8080/"
        },
        "id": "onRJzBXktK64",
        "outputId": "cdab70d1-0278-4553-aa94-bbad2dd2a390"
      },
      "execution_count": 58,
      "outputs": [
        {
          "output_type": "execute_result",
          "data": {
            "text/plain": [
              "dict_keys(['Nama', 'Usia', 'Role', 'Dept'])"
            ]
          },
          "metadata": {},
          "execution_count": 58
        }
      ]
    },
    {
      "cell_type": "code",
      "source": [
        "# Menampilkan daftar values\n",
        "\n",
        "pegawai.values()"
      ],
      "metadata": {
        "colab": {
          "base_uri": "https://localhost:8080/"
        },
        "id": "YCIxOTZMuLPk",
        "outputId": "646f852b-5667-4a33-cdb8-ff8c76c966be"
      },
      "execution_count": 59,
      "outputs": [
        {
          "output_type": "execute_result",
          "data": {
            "text/plain": [
              "dict_values(['Ricky', 30, 'Data Analyst', 'Marketing'])"
            ]
          },
          "metadata": {},
          "execution_count": 59
        }
      ]
    },
    {
      "cell_type": "code",
      "source": [
        "# Menampilkan pasangan key value dalam bentuk list of tuples\n",
        "\n",
        "pegawai.items()"
      ],
      "metadata": {
        "colab": {
          "base_uri": "https://localhost:8080/"
        },
        "id": "7wvf6JiuuMep",
        "outputId": "064f9bdc-0e98-433b-b08a-47e91c7d7b34"
      },
      "execution_count": 60,
      "outputs": [
        {
          "output_type": "execute_result",
          "data": {
            "text/plain": [
              "dict_items([('Nama', 'Ricky'), ('Usia', 30), ('Role', 'Data Analyst'), ('Dept', 'Marketing')])"
            ]
          },
          "metadata": {},
          "execution_count": 60
        }
      ]
    },
    {
      "cell_type": "code",
      "source": [
        "# Menyalin dictionary\n",
        "\n",
        "copy_of_pegawai = pegawai.copy()\n",
        "copy_of_pegawai"
      ],
      "metadata": {
        "id": "-_fzyG_XuNoa",
        "colab": {
          "base_uri": "https://localhost:8080/"
        },
        "outputId": "0a95f062-e7a5-4881-82c4-1285efc54389"
      },
      "execution_count": 61,
      "outputs": [
        {
          "output_type": "execute_result",
          "data": {
            "text/plain": [
              "{'Nama': 'Ricky', 'Usia': 30, 'Role': 'Data Analyst', 'Dept': 'Marketing'}"
            ]
          },
          "metadata": {},
          "execution_count": 61
        }
      ]
    },
    {
      "cell_type": "code",
      "source": [
        "# Menghapus seluruh isi dictionary\n",
        "\n",
        "copy_of_pegawai.clear()\n",
        "copy_of_pegawai"
      ],
      "metadata": {
        "id": "d0Ozu2fDOfOc",
        "colab": {
          "base_uri": "https://localhost:8080/"
        },
        "outputId": "96efccc6-33a3-4181-d1af-317103e05c61"
      },
      "execution_count": 62,
      "outputs": [
        {
          "output_type": "execute_result",
          "data": {
            "text/plain": [
              "{}"
            ]
          },
          "metadata": {},
          "execution_count": 62
        }
      ]
    },
    {
      "cell_type": "markdown",
      "source": [
        "# <b>E. <span style='color:#0B2F9F'><code>LATIHAN</code></span></b>"
      ],
      "metadata": {
        "id": "8C8VfXjGpDep"
      }
    },
    {
      "cell_type": "code",
      "source": [
        "# 1\n",
        "\n",
        "for i in range(len(nama_teman)):\n",
        "  print(nama_teman[i])"
      ],
      "metadata": {
        "id": "VUuZLew8Oj2x",
        "colab": {
          "base_uri": "https://localhost:8080/"
        },
        "outputId": "18d98332-e560-4481-b468-9a22475892c7"
      },
      "execution_count": 63,
      "outputs": [
        {
          "output_type": "stream",
          "name": "stdout",
          "text": [
            "Asep\n",
            "Bobby\n",
            "Cinta\n",
            "Dimas\n",
            "Edi\n",
            "Farhan\n"
          ]
        }
      ]
    },
    {
      "cell_type": "code",
      "source": [
        "# 2\n",
        "\n",
        "nama_teman.append('Gio')\n",
        "## Cara 1\n",
        "for i in range(len(nama_teman)):\n",
        "  print(f\"{i+1}, {nama_teman[i]}\")"
      ],
      "metadata": {
        "colab": {
          "base_uri": "https://localhost:8080/"
        },
        "id": "iKHZTWZhqFtK",
        "outputId": "97ff355c-dfe1-41be-d6f5-19e1da412116"
      },
      "execution_count": 64,
      "outputs": [
        {
          "output_type": "stream",
          "name": "stdout",
          "text": [
            "1, Asep\n",
            "2, Bobby\n",
            "3, Cinta\n",
            "4, Dimas\n",
            "5, Edi\n",
            "6, Farhan\n",
            "7, Gio\n"
          ]
        }
      ]
    },
    {
      "cell_type": "code",
      "source": [
        "## Cara 2\n",
        "for i, nama in enumerate(nama_teman):\n",
        "  print(f\"{i+1}, {nama}\")"
      ],
      "metadata": {
        "colab": {
          "base_uri": "https://localhost:8080/"
        },
        "id": "s-ybgaxYrgvV",
        "outputId": "a444fdf7-e180-4067-f146-c94c6006af53"
      },
      "execution_count": 65,
      "outputs": [
        {
          "output_type": "stream",
          "name": "stdout",
          "text": [
            "1, Asep\n",
            "2, Bobby\n",
            "3, Cinta\n",
            "4, Dimas\n",
            "5, Edi\n",
            "6, Farhan\n",
            "7, Gio\n"
          ]
        }
      ]
    },
    {
      "cell_type": "code",
      "source": [
        "# 3 (Mengakses list berisi tuple)\n",
        "\n",
        "i_name = list(enumerate(nama_teman))\n",
        "i_name"
      ],
      "metadata": {
        "colab": {
          "base_uri": "https://localhost:8080/"
        },
        "id": "MkrNZEEEtJxT",
        "outputId": "4d6bce28-a3d4-4715-afde-4a0305a32a4e"
      },
      "execution_count": 66,
      "outputs": [
        {
          "output_type": "execute_result",
          "data": {
            "text/plain": [
              "[(0, 'Asep'),\n",
              " (1, 'Bobby'),\n",
              " (2, 'Cinta'),\n",
              " (3, 'Dimas'),\n",
              " (4, 'Edi'),\n",
              " (5, 'Farhan'),\n",
              " (6, 'Gio')]"
            ]
          },
          "metadata": {},
          "execution_count": 66
        }
      ]
    },
    {
      "cell_type": "code",
      "source": [
        "i_name[2][1]"
      ],
      "metadata": {
        "colab": {
          "base_uri": "https://localhost:8080/",
          "height": 36
        },
        "id": "__IYdoIit7VZ",
        "outputId": "691d738d-e126-4bf0-ef2a-6771a1ccb9ff"
      },
      "execution_count": 67,
      "outputs": [
        {
          "output_type": "execute_result",
          "data": {
            "text/plain": [
              "'Cinta'"
            ],
            "application/vnd.google.colaboratory.intrinsic+json": {
              "type": "string"
            }
          },
          "metadata": {},
          "execution_count": 67
        }
      ]
    },
    {
      "cell_type": "code",
      "source": [
        "# 4\n",
        "\n",
        "## Cara 1\n",
        "nama_teman1 = ['Asep', 'Bobby', 'Cinta', 'Dimas', 'Edi', 'Asep']\n",
        "index = [i for i, nama in enumerate(nama_teman1) if nama == 'Asep']\n",
        "print(index)"
      ],
      "metadata": {
        "colab": {
          "base_uri": "https://localhost:8080/"
        },
        "id": "b6jsfw60vzKR",
        "outputId": "342210bd-00e4-4182-f9f1-391928fbee5d"
      },
      "execution_count": 68,
      "outputs": [
        {
          "output_type": "stream",
          "name": "stdout",
          "text": [
            "[0, 5]\n"
          ]
        }
      ]
    },
    {
      "cell_type": "code",
      "source": [
        "## Cara 2\n",
        "asep = []\n",
        "for indeks, nama in enumerate(nama_teman1):\n",
        "  if nama == 'Asep':\n",
        "   asep.append(indeks)\n",
        "print(asep)"
      ],
      "metadata": {
        "id": "Wa3Ve1-A8K7B",
        "colab": {
          "base_uri": "https://localhost:8080/"
        },
        "outputId": "cbafcc5c-6808-475a-9991-965b0d62b20f"
      },
      "execution_count": 85,
      "outputs": [
        {
          "output_type": "stream",
          "name": "stdout",
          "text": [
            "[0, 5]\n"
          ]
        }
      ]
    },
    {
      "cell_type": "markdown",
      "source": [
        "\n",
        "---\n",
        "Powered by : <br>\n",
        "<img src=\"https://lh3.googleusercontent.com/ayfbbgvQolM_Ys9VYRVFD6FjDJXSebI9sN1VtY4ppp65dXepA6JCKgKMM_porWAErGQmc8l-L_RXq080SJ3FbYTIsyxYqWWTuAX8A3VtafWLUwAnnxNnjR1s-3BMCUlF34fYnViLuutxrLm3nEpoix0\" width=\"20%\">\n",
        "<br><br>\n",
        "<a href=\"https://www.linkedin.com/in/kiranafara/\"><img src=\"https://img.shields.io/badge/-© 2025 Kirana Fara L-417DAC?style=for-the-badge&logoColor=white\"/></a>"
      ],
      "metadata": {
        "id": "TjTtxQ8Gg1rd"
      }
    }
  ]
}