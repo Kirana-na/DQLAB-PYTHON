{
  "nbformat": 4,
  "nbformat_minor": 0,
  "metadata": {
    "colab": {
      "provenance": []
    },
    "kernelspec": {
      "name": "python3",
      "display_name": "Python 3"
    },
    "language_info": {
      "name": "python"
    }
  },
  "cells": [
    {
      "cell_type": "markdown",
      "source": [
        "# <b>A. <span style='color:#0B2F9F'><code>LIST</code></span></b>\n",
        "List merupakan tipe data yang digunakan untuk menyimpan kumpulan nilai dalam satu variabel. Elemen dalam list ditulis dengan tanda kurung siku [ ] dan dipisahkan dengan koma.\n",
        "\n",
        "Sifat- sifat dalam list yaitu:\n",
        "- Terurut (ordered) dan mengenal indeks\n",
        "\n",
        "- Elemen dapat diubah (mutable)\n",
        "\n",
        "- Elemen dapat berulang/duplikat\n",
        "\n",
        "- Dapat berisi berbagai tipe data seperti integer, string, float, bahkan yang lain"
      ],
      "metadata": {
        "id": "H9erdds8gmb2"
      }
    },
    {
      "cell_type": "code",
      "execution_count": 1,
      "metadata": {
        "colab": {
          "base_uri": "https://localhost:8080/"
        },
        "id": "mgBwIe3LL6Wu",
        "outputId": "acf5c354-dee4-4634-b35d-f1ad2d70aecb"
      },
      "outputs": [
        {
          "output_type": "stream",
          "name": "stdout",
          "text": [
            "['Amir', 'Budi', 'Cinta', 'Dimas', 'Edi']\n"
          ]
        }
      ],
      "source": [
        "# Variabel nama_teman (list) berisi lima nama teman\n",
        "\n",
        "nama_teman = ['Amir', 'Budi', 'Cinta', 'Dimas', 'Edi']\n",
        "print(nama_teman)"
      ]
    },
    {
      "cell_type": "code",
      "source": [
        "# List berisi nilai dengan tipe data berbeda\n",
        "\n",
        "acak = ['Amir', 18, 0.75, 'Jeruk']\n",
        "print(acak)"
      ],
      "metadata": {
        "colab": {
          "base_uri": "https://localhost:8080/"
        },
        "id": "7JtTgxqRPP-e",
        "outputId": "964f8610-d364-425a-c6e4-7ee6c75ff50b"
      },
      "execution_count": 2,
      "outputs": [
        {
          "output_type": "stream",
          "name": "stdout",
          "text": [
            "['Amir', 18, 0.75, 'Jeruk']\n"
          ]
        }
      ]
    },
    {
      "cell_type": "code",
      "source": [
        "# List berisi elemen duplikat\n",
        "\n",
        "buah = ['Jeruk', 'Melon', 'Apel', 'Jeruk']\n",
        "print(buah)"
      ],
      "metadata": {
        "colab": {
          "base_uri": "https://localhost:8080/"
        },
        "id": "hB3zThcOgl_T",
        "outputId": "b8912564-d7b1-4711-89aa-1421bbd51b80"
      },
      "execution_count": 3,
      "outputs": [
        {
          "output_type": "stream",
          "name": "stdout",
          "text": [
            "['Jeruk', 'Melon', 'Apel', 'Jeruk']\n"
          ]
        }
      ]
    },
    {
      "cell_type": "code",
      "source": [
        "# Menampilkan panjang nama_teman\n",
        "\n",
        "len(nama_teman)"
      ],
      "metadata": {
        "colab": {
          "base_uri": "https://localhost:8080/"
        },
        "id": "M3C5VDzGjvIB",
        "outputId": "f6c25f3e-d63e-4b4f-feca-10cd3f0808ad"
      },
      "execution_count": 4,
      "outputs": [
        {
          "output_type": "execute_result",
          "data": {
            "text/plain": [
              "5"
            ]
          },
          "metadata": {},
          "execution_count": 4
        }
      ]
    },
    {
      "cell_type": "markdown",
      "source": [
        "###<b><span style='color:#A0C4FF'>Indeks</span></b>\n",
        "\n",
        "Indeks merupakan nilai yang menyatakan posisi atau nomor urut suatu elemen dalam struktur data yang terurut, seperti string, list, dan tuple. Indeks dimulai dari 0 dan dapat dibaca dari depan maupun belakang. Contoh:"
      ],
      "metadata": {
        "id": "r6kksROYkkqX"
      }
    },
    {
      "cell_type": "code",
      "source": [
        "# Indeks (depan)         0       1       2        3       4\n",
        "# Indeks (belakang)     -5      -4      -3       -2      -1\n",
        "#nama_teman       =  ['Amir', 'Budi', 'Cinta', 'Dimas', 'Edi']"
      ],
      "metadata": {
        "id": "sGZXTiGjlVYd"
      },
      "execution_count": 5,
      "outputs": []
    },
    {
      "cell_type": "code",
      "source": [
        "# Memanggil elemen berdasarkan indeks\n",
        "\n",
        "nama_teman[1]"
      ],
      "metadata": {
        "colab": {
          "base_uri": "https://localhost:8080/",
          "height": 36
        },
        "id": "KyWiAJmoUHit",
        "outputId": "f125cf27-52da-4379-dbe7-e1707aac602d"
      },
      "execution_count": 6,
      "outputs": [
        {
          "output_type": "execute_result",
          "data": {
            "text/plain": [
              "'Budi'"
            ],
            "application/vnd.google.colaboratory.intrinsic+json": {
              "type": "string"
            }
          },
          "metadata": {},
          "execution_count": 6
        }
      ]
    },
    {
      "cell_type": "code",
      "source": [
        "nama_teman[-1]"
      ],
      "metadata": {
        "colab": {
          "base_uri": "https://localhost:8080/",
          "height": 36
        },
        "id": "H1K5hXCzy98o",
        "outputId": "a59c2b16-9d59-4486-af1a-66f046d93b5e"
      },
      "execution_count": 7,
      "outputs": [
        {
          "output_type": "execute_result",
          "data": {
            "text/plain": [
              "'Edi'"
            ],
            "application/vnd.google.colaboratory.intrinsic+json": {
              "type": "string"
            }
          },
          "metadata": {},
          "execution_count": 7
        }
      ]
    },
    {
      "cell_type": "code",
      "source": [
        "# Mengganti elemen pada indeks tertentu\n",
        "# Budi akan digantikan dengan Beni\n",
        "\n",
        "nama_teman[1] = 'Beni'\n",
        "print(nama_teman)"
      ],
      "metadata": {
        "colab": {
          "base_uri": "https://localhost:8080/"
        },
        "id": "oS2T-Ny_UJl4",
        "outputId": "1b235d11-6797-491f-858a-c61223581b4b"
      },
      "execution_count": 8,
      "outputs": [
        {
          "output_type": "stream",
          "name": "stdout",
          "text": [
            "['Amir', 'Beni', 'Cinta', 'Dimas', 'Edi']\n"
          ]
        }
      ]
    },
    {
      "cell_type": "code",
      "source": [
        "# Menambahkan elemen baru pada akhir list\n",
        "\n",
        "nama_teman.append('Farhan')\n",
        "print(nama_teman)"
      ],
      "metadata": {
        "colab": {
          "base_uri": "https://localhost:8080/"
        },
        "id": "Bhut-OTQhHAT",
        "outputId": "b268bde7-462e-4a28-a5c3-9e01f491f91c"
      },
      "execution_count": 9,
      "outputs": [
        {
          "output_type": "stream",
          "name": "stdout",
          "text": [
            "['Amir', 'Beni', 'Cinta', 'Dimas', 'Edi', 'Farhan']\n"
          ]
        }
      ]
    },
    {
      "cell_type": "code",
      "source": [
        "# Menghitung banyaknya kemunculan suatu elemen\n",
        "\n",
        "nama_teman.count('Beni')"
      ],
      "metadata": {
        "colab": {
          "base_uri": "https://localhost:8080/"
        },
        "id": "tc6DZ73OkGla",
        "outputId": "84edc54a-5f0f-400d-c21f-741b4832fb44"
      },
      "execution_count": 10,
      "outputs": [
        {
          "output_type": "execute_result",
          "data": {
            "text/plain": [
              "1"
            ]
          },
          "metadata": {},
          "execution_count": 10
        }
      ]
    },
    {
      "cell_type": "code",
      "source": [
        "# Menampilkan indeks dari suatu elemen\n",
        "# jika elemen memiliki duplikat maka indeks yang ditampilkan adalah indeks terkecil\n",
        "\n",
        "nama_teman.index('Dimas')"
      ],
      "metadata": {
        "colab": {
          "base_uri": "https://localhost:8080/"
        },
        "id": "gC9tnRsJkbh9",
        "outputId": "300e9bde-a596-4b5a-d281-74a38e0c55ee"
      },
      "execution_count": 11,
      "outputs": [
        {
          "output_type": "execute_result",
          "data": {
            "text/plain": [
              "3"
            ]
          },
          "metadata": {},
          "execution_count": 11
        }
      ]
    },
    {
      "cell_type": "code",
      "source": [
        "# Menyisipkan elemen pada indeks tertentu\n",
        "\n",
        "nama_teman.insert(2, 'Canda')\n",
        "print(nama_teman)"
      ],
      "metadata": {
        "colab": {
          "base_uri": "https://localhost:8080/"
        },
        "id": "VAvBlTqGk6iT",
        "outputId": "25ce0961-f0c9-4505-b66f-f6362db35189"
      },
      "execution_count": 12,
      "outputs": [
        {
          "output_type": "stream",
          "name": "stdout",
          "text": [
            "['Amir', 'Beni', 'Canda', 'Cinta', 'Dimas', 'Edi', 'Farhan']\n"
          ]
        }
      ]
    },
    {
      "cell_type": "code",
      "source": [
        "# Memindahkan elemen pada indeks tertentu ke tempat yang tidak diketahui\n",
        "\n",
        "nama_teman.pop(2)\n",
        "print(nama_teman)"
      ],
      "metadata": {
        "colab": {
          "base_uri": "https://localhost:8080/"
        },
        "id": "wBUDNtMHmKOK",
        "outputId": "5b0df5ff-ed17-4a1f-8bae-0c62436d0fb9"
      },
      "execution_count": 13,
      "outputs": [
        {
          "output_type": "stream",
          "name": "stdout",
          "text": [
            "['Amir', 'Beni', 'Cinta', 'Dimas', 'Edi', 'Farhan']\n"
          ]
        }
      ]
    },
    {
      "cell_type": "code",
      "source": [
        "# Menghapus elemen tertentu\n",
        "# Jika terdapat elemen duplikat maka yang dihapus adalah elemen yang muncul pertama kali\n",
        "\n",
        "nama_teman.remove('Cinta')\n",
        "print(nama_teman)"
      ],
      "metadata": {
        "colab": {
          "base_uri": "https://localhost:8080/"
        },
        "id": "7rtOiNMJmzqe",
        "outputId": "749a247b-d4dc-4353-a054-98daa53a5df4"
      },
      "execution_count": 14,
      "outputs": [
        {
          "output_type": "stream",
          "name": "stdout",
          "text": [
            "['Amir', 'Beni', 'Dimas', 'Edi', 'Farhan']\n"
          ]
        }
      ]
    },
    {
      "cell_type": "code",
      "source": [
        "# Mengurutkan elemen pada list\n",
        "\n",
        "# Ascending/menaik\n",
        "nama_teman.sort()\n",
        "print('Menaik')\n",
        "print(nama_teman)\n",
        "print('\\n')\n",
        "\n",
        "# Descending/menurun\n",
        "print('Menurun')\n",
        "nama_teman.sort(reverse=True)\n",
        "print(nama_teman)"
      ],
      "metadata": {
        "colab": {
          "base_uri": "https://localhost:8080/"
        },
        "id": "9AjnYrC8nWRe",
        "outputId": "d3eee628-264e-4baa-d884-8e1b3b7835a4"
      },
      "execution_count": 15,
      "outputs": [
        {
          "output_type": "stream",
          "name": "stdout",
          "text": [
            "Menaik\n",
            "['Amir', 'Beni', 'Dimas', 'Edi', 'Farhan']\n",
            "\n",
            "\n",
            "Menurun\n",
            "['Farhan', 'Edi', 'Dimas', 'Beni', 'Amir']\n"
          ]
        }
      ]
    },
    {
      "cell_type": "code",
      "source": [
        "# Membalikkan list\n",
        "\n",
        "nama_teman.reverse()\n",
        "print(nama_teman)"
      ],
      "metadata": {
        "colab": {
          "base_uri": "https://localhost:8080/"
        },
        "id": "vyVqUO5vnwyU",
        "outputId": "e8a8543b-fef2-4b92-80e8-6bfd0c88fb87"
      },
      "execution_count": 16,
      "outputs": [
        {
          "output_type": "stream",
          "name": "stdout",
          "text": [
            "['Amir', 'Beni', 'Dimas', 'Edi', 'Farhan']\n"
          ]
        }
      ]
    },
    {
      "cell_type": "code",
      "source": [
        "# Menyalin list\n",
        "\n",
        "teman_baru = nama_teman.copy()\n",
        "print(teman_baru)"
      ],
      "metadata": {
        "colab": {
          "base_uri": "https://localhost:8080/"
        },
        "id": "vN7_O9egpw5e",
        "outputId": "cba7f0b2-e245-4511-9f4c-ad6aab0b8007"
      },
      "execution_count": 17,
      "outputs": [
        {
          "output_type": "stream",
          "name": "stdout",
          "text": [
            "['Amir', 'Beni', 'Dimas', 'Edi', 'Farhan']\n"
          ]
        }
      ]
    },
    {
      "cell_type": "code",
      "source": [
        "# Mengosongkan list\n",
        "\n",
        "nama_teman.clear()\n",
        "print(nama_teman)"
      ],
      "metadata": {
        "colab": {
          "base_uri": "https://localhost:8080/"
        },
        "id": "BmZ1HqighMV1",
        "outputId": "2574b105-36f1-4ada-acc4-122f9f97f0b8"
      },
      "execution_count": 18,
      "outputs": [
        {
          "output_type": "stream",
          "name": "stdout",
          "text": [
            "[]\n"
          ]
        }
      ]
    },
    {
      "cell_type": "code",
      "source": [
        "# List nama_teman sekarang menjadi kosong\n",
        "\n",
        "nama_teman"
      ],
      "metadata": {
        "colab": {
          "base_uri": "https://localhost:8080/"
        },
        "id": "ytq2s8dGj_TJ",
        "outputId": "3cf0dc07-23f5-49a0-e4d3-894d8f9cd141"
      },
      "execution_count": 19,
      "outputs": [
        {
          "output_type": "execute_result",
          "data": {
            "text/plain": [
              "[]"
            ]
          },
          "metadata": {},
          "execution_count": 19
        }
      ]
    },
    {
      "cell_type": "markdown",
      "source": [
        "###<b><span style='color:#A0C4FF'>Slicing</span></b>\n",
        "Slicing adalah teknik untuk mengambil bagian dari suatu urutan (seperti string, list, atau tuple) menggunakan indeks. Penulisannya sebagai berikut.\n",
        "\n",
        "Nama_list [indeks_awal:indeks_akhir:step]\n",
        "\n",
        "● Jika nilai step tidak didefinisikan, maka step akan bernilai 1 (maju 1\n",
        "hitungan)\n",
        "\n",
        "● Jika step bernilai -1 maka step akan mundur satu hitungan\n",
        "\n",
        "● Elemen yang terakhir dicetak adalah di indeks_akhir - 1"
      ],
      "metadata": {
        "id": "vv5M1duWjzPW"
      }
    },
    {
      "cell_type": "code",
      "source": [
        "# Slicing pada list\n",
        "\n",
        "nama_teman = ['Amir', 'Beni', 'Cinta', 'Dimas', 'Edi']\n",
        "\n",
        "print(nama_teman[0:3])\n",
        "\n",
        "print(nama_teman[::2])\n",
        "\n",
        "print(nama_teman[::-1])\n"
      ],
      "metadata": {
        "colab": {
          "base_uri": "https://localhost:8080/"
        },
        "id": "PrsKuErQg2Kj",
        "outputId": "7c4806b5-296d-4b09-e83f-a513102dc52c"
      },
      "execution_count": 20,
      "outputs": [
        {
          "output_type": "stream",
          "name": "stdout",
          "text": [
            "['Amir', 'Beni', 'Cinta']\n",
            "['Amir', 'Cinta', 'Edi']\n",
            "['Edi', 'Dimas', 'Cinta', 'Beni', 'Amir']\n"
          ]
        }
      ]
    },
    {
      "cell_type": "code",
      "source": [
        "# Mengganti elemen pada indeks tertentu\n",
        "# Amir akan digantikan dengan Asep dan Beni digantikan dengan Bobby\n",
        "nama_teman[0:2] = ['Asep', 'Bobby']\n",
        "print(nama_teman)"
      ],
      "metadata": {
        "colab": {
          "base_uri": "https://localhost:8080/"
        },
        "id": "pozIYePCmSOQ",
        "outputId": "141191ae-b756-4f4f-c1cb-99cdf4a31265"
      },
      "execution_count": 21,
      "outputs": [
        {
          "output_type": "stream",
          "name": "stdout",
          "text": [
            "['Asep', 'Bobby', 'Cinta', 'Dimas', 'Edi']\n"
          ]
        }
      ]
    },
    {
      "cell_type": "markdown",
      "source": [
        "###<b><span style='color:#A0C4FF'>Append</span></b>\n",
        "\n",
        "Append adalah metode dalam list yang digunakan untuk menambahkan satu elemen ke akhir list."
      ],
      "metadata": {
        "id": "kPUXpX3ooH10"
      }
    },
    {
      "cell_type": "code",
      "source": [
        "# Menambahkan elemen baru di akhir list\n",
        "\n",
        "nama_teman.append('Farhan')\n",
        "print(nama_teman)"
      ],
      "metadata": {
        "colab": {
          "base_uri": "https://localhost:8080/"
        },
        "id": "d49O7RIhn89d",
        "outputId": "1c63b46b-7e87-4ce9-f10e-adfaf36f82b3"
      },
      "execution_count": 22,
      "outputs": [
        {
          "output_type": "stream",
          "name": "stdout",
          "text": [
            "['Asep', 'Bobby', 'Cinta', 'Dimas', 'Edi', 'Farhan']\n"
          ]
        }
      ]
    },
    {
      "cell_type": "markdown",
      "source": [
        "# <b>B. <span style='color:#0B2F9F'><code>TUPLE</code></span></b>\n",
        "Tuple adalah tipe data yang digunakan untuk menyimpan kumpulan nilai seperti list, tetapi elemen dalam tuple ditulis dengan tanda kurung ( ) dan dipisahkan dengan koma.\n",
        "\n",
        "Sifat- sifat dalam tuple yaitu:\n",
        "- Terurut (ordered) dan mengenal indeks\n",
        "\n",
        "- Elemen tidak dapat diubah (immutable)\n",
        "\n",
        "- Elemen dapat berulang/duplikat\n",
        "\n",
        "- Dapat berisi berbagai tipe data seperti integer, string, float, bahkan yang lain"
      ],
      "metadata": {
        "id": "EZwrwL1khVPh"
      }
    },
    {
      "cell_type": "code",
      "source": [
        "# Mendefinisikan tuple dengan tanda kurung\n",
        "\n",
        "bil_tuple = (10,20,30,40,50)"
      ],
      "metadata": {
        "id": "-Qv2yHdnwCNj"
      },
      "execution_count": 23,
      "outputs": []
    },
    {
      "cell_type": "code",
      "source": [
        "# Menampilkan panjang tuple\n",
        "\n",
        "len(bil_tuple)"
      ],
      "metadata": {
        "colab": {
          "base_uri": "https://localhost:8080/"
        },
        "id": "7kOdOIElwOrD",
        "outputId": "92ed336a-28a5-4c08-e658-2dca63902c7f"
      },
      "execution_count": 24,
      "outputs": [
        {
          "output_type": "execute_result",
          "data": {
            "text/plain": [
              "5"
            ]
          },
          "metadata": {},
          "execution_count": 24
        }
      ]
    },
    {
      "cell_type": "code",
      "source": [
        "# Menampilkan kemunculan bilangan 10 pada tuple\n",
        "\n",
        "bil_tuple.count(10)"
      ],
      "metadata": {
        "colab": {
          "base_uri": "https://localhost:8080/"
        },
        "id": "z0JRHxQVwQvv",
        "outputId": "d1268114-c0f7-4080-c8de-2b49582dd6c0"
      },
      "execution_count": 25,
      "outputs": [
        {
          "output_type": "execute_result",
          "data": {
            "text/plain": [
              "1"
            ]
          },
          "metadata": {},
          "execution_count": 25
        }
      ]
    },
    {
      "cell_type": "code",
      "source": [
        "# Menampilkan indeks dari elemen 30 pada tuple\n",
        "\n",
        "bil_tuple.index(30)"
      ],
      "metadata": {
        "colab": {
          "base_uri": "https://localhost:8080/"
        },
        "id": "KBqkEABRwT3u",
        "outputId": "231bd6a6-a8ca-489d-a26a-3ac824305714"
      },
      "execution_count": 26,
      "outputs": [
        {
          "output_type": "execute_result",
          "data": {
            "text/plain": [
              "2"
            ]
          },
          "metadata": {},
          "execution_count": 26
        }
      ]
    },
    {
      "cell_type": "code",
      "source": [
        "# Menampilkan elemen dengan indeks ke 3 pada tuple\n",
        "\n",
        "bil_tuple[3]"
      ],
      "metadata": {
        "colab": {
          "base_uri": "https://localhost:8080/"
        },
        "id": "lBixP0HLwF7T",
        "outputId": "7c8aba4b-a3ff-43d0-fe84-130ee4b99e64"
      },
      "execution_count": 27,
      "outputs": [
        {
          "output_type": "execute_result",
          "data": {
            "text/plain": [
              "40"
            ]
          },
          "metadata": {},
          "execution_count": 27
        }
      ]
    },
    {
      "cell_type": "code",
      "source": [
        "# Slicing pada tuple\n",
        "\n",
        "bil_tuple[::2]"
      ],
      "metadata": {
        "colab": {
          "base_uri": "https://localhost:8080/"
        },
        "id": "9AU1z6_rwJbG",
        "outputId": "dbdcd75e-8e05-4d7b-c384-2c4f2974829c"
      },
      "execution_count": 28,
      "outputs": [
        {
          "output_type": "execute_result",
          "data": {
            "text/plain": [
              "(10, 30, 50)"
            ]
          },
          "metadata": {},
          "execution_count": 28
        }
      ]
    },
    {
      "cell_type": "code",
      "source": [
        "# Membuat list dari tuple\n",
        "\n",
        "bilangan = list(bil_tuple)\n",
        "bilangan"
      ],
      "metadata": {
        "colab": {
          "base_uri": "https://localhost:8080/"
        },
        "id": "lSKTI5Mt2vB1",
        "outputId": "2407737e-0c79-412a-a019-d81fd1882f23"
      },
      "execution_count": 29,
      "outputs": [
        {
          "output_type": "execute_result",
          "data": {
            "text/plain": [
              "[10, 20, 30, 40, 50]"
            ]
          },
          "metadata": {},
          "execution_count": 29
        }
      ]
    },
    {
      "cell_type": "code",
      "source": [
        "# Membuat tuple dari list\n",
        "\n",
        "bil_list = [50, 70, 90, 30, 20, 10, 60, 70, 30, 50]\n",
        "\n",
        "bil = tuple(bil_list)\n",
        "print(bil)"
      ],
      "metadata": {
        "colab": {
          "base_uri": "https://localhost:8080/"
        },
        "id": "-JW5IZVDwMNY",
        "outputId": "55f8d890-e7d2-462c-b503-bd06f737b88d"
      },
      "execution_count": 30,
      "outputs": [
        {
          "output_type": "stream",
          "name": "stdout",
          "text": [
            "(50, 70, 90, 30, 20, 10, 60, 70, 30, 50)\n"
          ]
        }
      ]
    },
    {
      "cell_type": "markdown",
      "source": [
        "# <b>C. <span style='color:#0B2F9F'><code>SET</code></span></b>\n",
        "Set adalah tipe data yang digunakan untuk menyimpan kumpulan elemen,\n",
        "elemen ditulis dengan tanda kurung kurawal { } dan dipisahkan dengan koma.\n",
        "\n",
        "Sifat-sifat dalam set yaitu:\n",
        "- Tidak berurutan (unordered) dan tidak mengenal indeks\n",
        "\n",
        "- Elemen dapat diubah (mutable)\n",
        "\n",
        "- Tidak ada elemen duplikat\n",
        "\n",
        "- Dapat berisi berbagai tipe data seperti integer, string, float, kecuali list dan dict\n",
        "\n"
      ],
      "metadata": {
        "id": "oy3_6YQjiar0"
      }
    },
    {
      "cell_type": "code",
      "source": [
        "# Mendefinisikan set bernama buah\n",
        "\n",
        "buah = {'apel','jeruk','mangga','melon','semangka','anggur'}\n",
        "buah"
      ],
      "metadata": {
        "id": "wgnrjwk_A4rN",
        "colab": {
          "base_uri": "https://localhost:8080/"
        },
        "outputId": "c97839e4-1418-45d3-f346-a7c672fe427b"
      },
      "execution_count": 31,
      "outputs": [
        {
          "output_type": "execute_result",
          "data": {
            "text/plain": [
              "{'anggur', 'apel', 'jeruk', 'mangga', 'melon', 'semangka'}"
            ]
          },
          "metadata": {},
          "execution_count": 31
        }
      ]
    },
    {
      "cell_type": "code",
      "source": [
        "# Menampilkan ukuran himpunan\n",
        "\n",
        "len(buah)"
      ],
      "metadata": {
        "colab": {
          "base_uri": "https://localhost:8080/"
        },
        "id": "tN4Y8B-xCdhN",
        "outputId": "cebeb65a-c364-4e6f-ebbe-360887dff47a"
      },
      "execution_count": 32,
      "outputs": [
        {
          "output_type": "execute_result",
          "data": {
            "text/plain": [
              "6"
            ]
          },
          "metadata": {},
          "execution_count": 32
        }
      ]
    },
    {
      "cell_type": "code",
      "source": [
        "# Menambahkan anggota himpunan\n",
        "\n",
        "buah.add('pepaya')\n",
        "\n",
        "print(buah)"
      ],
      "metadata": {
        "colab": {
          "base_uri": "https://localhost:8080/"
        },
        "id": "1avBu_oLChMl",
        "outputId": "7bb31f9e-559d-47be-815c-c9b40187f4a1"
      },
      "execution_count": 33,
      "outputs": [
        {
          "output_type": "stream",
          "name": "stdout",
          "text": [
            "{'melon', 'apel', 'semangka', 'jeruk', 'mangga', 'anggur', 'pepaya'}\n"
          ]
        }
      ]
    },
    {
      "cell_type": "code",
      "source": [
        "# Menambahkan himpunan ke himpunan\n",
        "\n",
        "buah.update({'pisang','jambu'})\n",
        "\n",
        "print(buah)"
      ],
      "metadata": {
        "colab": {
          "base_uri": "https://localhost:8080/"
        },
        "id": "R9CmV3mCCm2j",
        "outputId": "57b38874-a00c-4196-9963-09a32669c4fe"
      },
      "execution_count": 34,
      "outputs": [
        {
          "output_type": "stream",
          "name": "stdout",
          "text": [
            "{'pisang', 'apel', 'semangka', 'jeruk', 'mangga', 'anggur', 'pepaya', 'jambu', 'melon'}\n"
          ]
        }
      ]
    },
    {
      "cell_type": "code",
      "source": [
        "# Menghapus 'pisang' dari himpunan\n",
        "\n",
        "buah.remove('pisang')\n",
        "\n",
        "print(buah)"
      ],
      "metadata": {
        "colab": {
          "base_uri": "https://localhost:8080/"
        },
        "id": "BbEohvJVCt6h",
        "outputId": "b36a1ba7-f4f8-4115-d2c5-076112f36f06"
      },
      "execution_count": 35,
      "outputs": [
        {
          "output_type": "stream",
          "name": "stdout",
          "text": [
            "{'apel', 'semangka', 'jeruk', 'mangga', 'anggur', 'pepaya', 'jambu', 'melon'}\n"
          ]
        }
      ]
    },
    {
      "cell_type": "code",
      "source": [
        "# Akan menghasilkan error karena sirsak tidak ada di dalam himpunan\n",
        "buah.remove('sirsak')"
      ],
      "metadata": {
        "colab": {
          "base_uri": "https://localhost:8080/",
          "height": 164
        },
        "id": "fY40xiHiC2f3",
        "outputId": "b4167f32-05b6-4c00-c3b6-5f9aca2a1c08"
      },
      "execution_count": 36,
      "outputs": [
        {
          "output_type": "error",
          "ename": "KeyError",
          "evalue": "'sirsak'",
          "traceback": [
            "\u001b[0;31m---------------------------------------------------------------------------\u001b[0m",
            "\u001b[0;31mKeyError\u001b[0m                                  Traceback (most recent call last)",
            "\u001b[0;32m<ipython-input-36-2f9a4b40ba99>\u001b[0m in \u001b[0;36m<cell line: 0>\u001b[0;34m()\u001b[0m\n\u001b[1;32m      1\u001b[0m \u001b[0;31m# Akan menghasilkan error karena sirsak tidak ada di dalam himpunan\u001b[0m\u001b[0;34m\u001b[0m\u001b[0;34m\u001b[0m\u001b[0m\n\u001b[0;32m----> 2\u001b[0;31m \u001b[0mbuah\u001b[0m\u001b[0;34m.\u001b[0m\u001b[0mremove\u001b[0m\u001b[0;34m(\u001b[0m\u001b[0;34m'sirsak'\u001b[0m\u001b[0;34m)\u001b[0m\u001b[0;34m\u001b[0m\u001b[0;34m\u001b[0m\u001b[0m\n\u001b[0m",
            "\u001b[0;31mKeyError\u001b[0m: 'sirsak'"
          ]
        }
      ]
    },
    {
      "cell_type": "code",
      "source": [
        "# Menghapus 'pepaya' dari himpunan\n",
        "\n",
        "buah.discard('pepaya')\n",
        "\n",
        "print(buah)"
      ],
      "metadata": {
        "colab": {
          "base_uri": "https://localhost:8080/"
        },
        "id": "2Rhif0mLCyWQ",
        "outputId": "02ee58a4-8f55-4e22-fdd6-a584a7290424"
      },
      "execution_count": 37,
      "outputs": [
        {
          "output_type": "stream",
          "name": "stdout",
          "text": [
            "{'apel', 'semangka', 'jeruk', 'mangga', 'anggur', 'jambu', 'melon'}\n"
          ]
        }
      ]
    },
    {
      "cell_type": "code",
      "source": [
        "# Menguji apakah terdapat 'durian' pada himpunan buah\n",
        "\n",
        "'durian' in buah"
      ],
      "metadata": {
        "colab": {
          "base_uri": "https://localhost:8080/"
        },
        "id": "0eCkbeEsBFi3",
        "outputId": "c399d328-6868-4d3f-e126-d680bb6552f8"
      },
      "execution_count": 38,
      "outputs": [
        {
          "output_type": "execute_result",
          "data": {
            "text/plain": [
              "False"
            ]
          },
          "metadata": {},
          "execution_count": 38
        }
      ]
    },
    {
      "cell_type": "code",
      "source": [
        "# Menampilkan semua anggota buah kecuali anggur, sirsak, dan melon\n",
        "\n",
        "buah.difference({'anggur','sirsak','melon'})"
      ],
      "metadata": {
        "colab": {
          "base_uri": "https://localhost:8080/"
        },
        "id": "ugqbj_qDC_gL",
        "outputId": "47029265-c0cf-4608-f525-3e01cb3c8156"
      },
      "execution_count": 39,
      "outputs": [
        {
          "output_type": "execute_result",
          "data": {
            "text/plain": [
              "{'apel', 'jambu', 'jeruk', 'mangga', 'semangka'}"
            ]
          },
          "metadata": {},
          "execution_count": 39
        }
      ]
    },
    {
      "cell_type": "code",
      "source": [
        "# Menampilkan irisan himpunan\n",
        "\n",
        "buah.intersection({'anggur','sirsak','melon'})"
      ],
      "metadata": {
        "colab": {
          "base_uri": "https://localhost:8080/"
        },
        "id": "dJ1lYuGHDI3G",
        "outputId": "a5909dbe-5b2b-4e2e-fe26-2e7d18dad8f4"
      },
      "execution_count": 40,
      "outputs": [
        {
          "output_type": "execute_result",
          "data": {
            "text/plain": [
              "{'anggur', 'melon'}"
            ]
          },
          "metadata": {},
          "execution_count": 40
        }
      ]
    },
    {
      "cell_type": "code",
      "source": [
        "# Menampilkan gabungan himpunan\n",
        "\n",
        "buah.union({'anggur','sirsak','melon'})"
      ],
      "metadata": {
        "colab": {
          "base_uri": "https://localhost:8080/"
        },
        "id": "l8ALKKIfDTLH",
        "outputId": "581edf7a-a83b-4166-8ed2-e42b81d16daa"
      },
      "execution_count": 41,
      "outputs": [
        {
          "output_type": "execute_result",
          "data": {
            "text/plain": [
              "{'anggur', 'apel', 'jambu', 'jeruk', 'mangga', 'melon', 'semangka', 'sirsak'}"
            ]
          },
          "metadata": {},
          "execution_count": 41
        }
      ]
    },
    {
      "cell_type": "markdown",
      "source": [
        "# <b>D. <span style='color:#0B2F9F'><code>DICTIONARY</code></span></b>\n",
        "Dictionary adalah tipe data yang menyimpan data dalam bentuk key-value pair (Key : Value).\n",
        "Elemen dalam dictionary ditulis dengan tanda kurung kurawal { } dan dipisahkan dengan koma.\n",
        "\n",
        "Sifat-sifat dalam dictionary yaitu:\n",
        "\n",
        "- Sejak Python 3.7, dictionary mempertahankan urutan elemen sesuai saat dimasukkan (insertion ordered), tetapi tetap tidak bisa diakses dengan indeks numerik.\n",
        "\n",
        "- Elemen dapat diubah (Mutable)\n",
        "\n",
        "- Tidak boleh ada key yang duplikat\n",
        "\n",
        "- Dapat berisi berbagai tipe data, tetapi key harus bersifat immutable (seperti string, angka, atau tuple)\n",
        "\n"
      ],
      "metadata": {
        "id": "l38s-QMWw9N1"
      }
    },
    {
      "cell_type": "code",
      "source": [
        "# Mendefinisikan dictionary\n",
        "\n",
        "pegawai = {\n",
        "\t'Nama'\t: 'Dicky',\n",
        "\t'Usia'\t\t: 30,\n",
        "\t'Role'\t\t: 'Data Analyst',\n",
        "\t'Dept'\t\t: 'Marketing'\n",
        "}\n",
        "pegawai"
      ],
      "metadata": {
        "id": "YIXprrdEkAkX",
        "colab": {
          "base_uri": "https://localhost:8080/"
        },
        "outputId": "2d566e97-d352-4306-d0f5-f65a31f0abbb"
      },
      "execution_count": 42,
      "outputs": [
        {
          "output_type": "execute_result",
          "data": {
            "text/plain": [
              "{'Nama': 'Dicky', 'Usia': 30, 'Role': 'Data Analyst', 'Dept': 'Marketing'}"
            ]
          },
          "metadata": {},
          "execution_count": 42
        }
      ]
    },
    {
      "cell_type": "code",
      "source": [
        "# Memanggil value dari dictionary\n",
        "\n",
        "pegawai['Nama']"
      ],
      "metadata": {
        "colab": {
          "base_uri": "https://localhost:8080/",
          "height": 36
        },
        "id": "Li8_-BDEs7WW",
        "outputId": "d5a71dc8-fcff-439b-afee-bc2c9a6cb1cf"
      },
      "execution_count": 43,
      "outputs": [
        {
          "output_type": "execute_result",
          "data": {
            "text/plain": [
              "'Dicky'"
            ],
            "application/vnd.google.colaboratory.intrinsic+json": {
              "type": "string"
            }
          },
          "metadata": {},
          "execution_count": 43
        }
      ]
    },
    {
      "cell_type": "code",
      "source": [
        "# Mengganti value pada dictionary\n",
        "\n",
        "pegawai['Nama'] = 'Ricky'\n",
        "\n",
        "print(pegawai)"
      ],
      "metadata": {
        "colab": {
          "base_uri": "https://localhost:8080/"
        },
        "id": "6iyvfORls9z0",
        "outputId": "30627297-5e4e-4f28-b376-f2bbaaca418d"
      },
      "execution_count": 44,
      "outputs": [
        {
          "output_type": "stream",
          "name": "stdout",
          "text": [
            "{'Nama': 'Ricky', 'Usia': 30, 'Role': 'Data Analyst', 'Dept': 'Marketing'}\n"
          ]
        }
      ]
    },
    {
      "cell_type": "code",
      "source": [
        "# Menambahkan key baru beserta valuenya\n",
        "\n",
        "pegawai['Gaji'] = 10000000\n",
        "\n",
        "print(pegawai)"
      ],
      "metadata": {
        "colab": {
          "base_uri": "https://localhost:8080/"
        },
        "id": "btXvZzcctAe_",
        "outputId": "603dcbe9-abcf-4486-d899-259e20f4637a"
      },
      "execution_count": 45,
      "outputs": [
        {
          "output_type": "stream",
          "name": "stdout",
          "text": [
            "{'Nama': 'Ricky', 'Usia': 30, 'Role': 'Data Analyst', 'Dept': 'Marketing', 'Gaji': 10000000}\n"
          ]
        }
      ]
    },
    {
      "cell_type": "code",
      "source": [
        "# Menghapus key beserta valuenya\n",
        "\n",
        "del pegawai['Gaji']\n",
        "\n",
        "print(pegawai)"
      ],
      "metadata": {
        "colab": {
          "base_uri": "https://localhost:8080/"
        },
        "id": "j_7U3L22tBTR",
        "outputId": "235657c6-96ca-4776-bc57-5c71044a4f9f"
      },
      "execution_count": 46,
      "outputs": [
        {
          "output_type": "stream",
          "name": "stdout",
          "text": [
            "{'Nama': 'Ricky', 'Usia': 30, 'Role': 'Data Analyst', 'Dept': 'Marketing'}\n"
          ]
        }
      ]
    },
    {
      "cell_type": "code",
      "source": [
        "# Menampilkan daftar key dari dictionary\n",
        "\n",
        "pegawai.keys()"
      ],
      "metadata": {
        "colab": {
          "base_uri": "https://localhost:8080/"
        },
        "id": "onRJzBXktK64",
        "outputId": "a669b16e-4884-474d-ac56-b461b7cd4f40"
      },
      "execution_count": 47,
      "outputs": [
        {
          "output_type": "execute_result",
          "data": {
            "text/plain": [
              "dict_keys(['Nama', 'Usia', 'Role', 'Dept'])"
            ]
          },
          "metadata": {},
          "execution_count": 47
        }
      ]
    },
    {
      "cell_type": "code",
      "source": [
        "# Menampilkan daftar values\n",
        "\n",
        "pegawai.values()"
      ],
      "metadata": {
        "colab": {
          "base_uri": "https://localhost:8080/"
        },
        "id": "YCIxOTZMuLPk",
        "outputId": "84824006-4dd3-45c9-f595-cf2b5ddc4f79"
      },
      "execution_count": 48,
      "outputs": [
        {
          "output_type": "execute_result",
          "data": {
            "text/plain": [
              "dict_values(['Ricky', 30, 'Data Analyst', 'Marketing'])"
            ]
          },
          "metadata": {},
          "execution_count": 48
        }
      ]
    },
    {
      "cell_type": "code",
      "source": [
        "# Menampilkan pasangan key value dalam bentuk list of tuples\n",
        "\n",
        "pegawai.items()"
      ],
      "metadata": {
        "colab": {
          "base_uri": "https://localhost:8080/"
        },
        "id": "7wvf6JiuuMep",
        "outputId": "ed9a0700-b4c3-4b10-fe18-44547192c37f"
      },
      "execution_count": 49,
      "outputs": [
        {
          "output_type": "execute_result",
          "data": {
            "text/plain": [
              "dict_items([('Nama', 'Ricky'), ('Usia', 30), ('Role', 'Data Analyst'), ('Dept', 'Marketing')])"
            ]
          },
          "metadata": {},
          "execution_count": 49
        }
      ]
    },
    {
      "cell_type": "code",
      "source": [
        "# Menyalin dictionary\n",
        "\n",
        "copy_of_pegawai = pegawai.copy()\n",
        "copy_of_pegawai"
      ],
      "metadata": {
        "id": "-_fzyG_XuNoa",
        "colab": {
          "base_uri": "https://localhost:8080/"
        },
        "outputId": "9d4512b2-2d9c-45c2-d4b5-bdecb78cc520"
      },
      "execution_count": 50,
      "outputs": [
        {
          "output_type": "execute_result",
          "data": {
            "text/plain": [
              "{'Nama': 'Ricky', 'Usia': 30, 'Role': 'Data Analyst', 'Dept': 'Marketing'}"
            ]
          },
          "metadata": {},
          "execution_count": 50
        }
      ]
    },
    {
      "cell_type": "code",
      "source": [
        "# Menghapus seluruh isi dictionary\n",
        "\n",
        "copy_of_pegawai.clear()\n",
        "copy_of_pegawai"
      ],
      "metadata": {
        "id": "d0Ozu2fDOfOc",
        "colab": {
          "base_uri": "https://localhost:8080/"
        },
        "outputId": "94ca4a97-5b3c-438b-d298-d033fbf97ded"
      },
      "execution_count": 51,
      "outputs": [
        {
          "output_type": "execute_result",
          "data": {
            "text/plain": [
              "{}"
            ]
          },
          "metadata": {},
          "execution_count": 51
        }
      ]
    },
    {
      "cell_type": "markdown",
      "source": [
        "# <b>E. <span style='color:#0B2F9F'><code>LATIHAN</code></span></b>"
      ],
      "metadata": {
        "id": "8C8VfXjGpDep"
      }
    },
    {
      "cell_type": "code",
      "source": [
        "# 1\n",
        "\n",
        "for i in range(len(nama_teman)):\n",
        "  print(nama_teman[i])"
      ],
      "metadata": {
        "id": "VUuZLew8Oj2x",
        "colab": {
          "base_uri": "https://localhost:8080/"
        },
        "outputId": "13075fb9-d173-4dc0-853a-6d54b3a98090"
      },
      "execution_count": 52,
      "outputs": [
        {
          "output_type": "stream",
          "name": "stdout",
          "text": [
            "Asep\n",
            "Bobby\n",
            "Cinta\n",
            "Dimas\n",
            "Edi\n",
            "Farhan\n"
          ]
        }
      ]
    },
    {
      "cell_type": "code",
      "source": [
        "# 2\n",
        "\n",
        "nama_teman.append('Gio')\n",
        "## Cara 1\n",
        "for i in range(len(nama_teman)):\n",
        "  print(f\"{i+1}, {nama_teman[i]}\")"
      ],
      "metadata": {
        "colab": {
          "base_uri": "https://localhost:8080/"
        },
        "id": "iKHZTWZhqFtK",
        "outputId": "4881d91b-f31a-4146-b829-5e4f2efaf94a"
      },
      "execution_count": 53,
      "outputs": [
        {
          "output_type": "stream",
          "name": "stdout",
          "text": [
            "1, Asep\n",
            "2, Bobby\n",
            "3, Cinta\n",
            "4, Dimas\n",
            "5, Edi\n",
            "6, Farhan\n",
            "7, Gio\n"
          ]
        }
      ]
    },
    {
      "cell_type": "code",
      "source": [
        "## Cara 2\n",
        "for i, nama in enumerate(nama_teman):\n",
        "  print(f\"{i+1}, {nama}\")"
      ],
      "metadata": {
        "colab": {
          "base_uri": "https://localhost:8080/"
        },
        "id": "s-ybgaxYrgvV",
        "outputId": "5b0b6e07-1e38-4d5f-a21c-b164f0462320"
      },
      "execution_count": 54,
      "outputs": [
        {
          "output_type": "stream",
          "name": "stdout",
          "text": [
            "1, Asep\n",
            "2, Bobby\n",
            "3, Cinta\n",
            "4, Dimas\n",
            "5, Edi\n",
            "6, Farhan\n",
            "7, Gio\n"
          ]
        }
      ]
    },
    {
      "cell_type": "code",
      "source": [
        "# 3 (Mengakses list berisi tuple)\n",
        "\n",
        "i_name = list(enumerate(nama_teman))\n",
        "i_name"
      ],
      "metadata": {
        "colab": {
          "base_uri": "https://localhost:8080/"
        },
        "id": "MkrNZEEEtJxT",
        "outputId": "01089c35-a67c-4658-bc00-7df419246a91"
      },
      "execution_count": 55,
      "outputs": [
        {
          "output_type": "execute_result",
          "data": {
            "text/plain": [
              "[(0, 'Asep'),\n",
              " (1, 'Bobby'),\n",
              " (2, 'Cinta'),\n",
              " (3, 'Dimas'),\n",
              " (4, 'Edi'),\n",
              " (5, 'Farhan'),\n",
              " (6, 'Gio')]"
            ]
          },
          "metadata": {},
          "execution_count": 55
        }
      ]
    },
    {
      "cell_type": "code",
      "source": [
        "i_name[2][1]"
      ],
      "metadata": {
        "colab": {
          "base_uri": "https://localhost:8080/",
          "height": 36
        },
        "id": "__IYdoIit7VZ",
        "outputId": "e50fca2f-93c8-4b49-c208-86824d870708"
      },
      "execution_count": 56,
      "outputs": [
        {
          "output_type": "execute_result",
          "data": {
            "text/plain": [
              "'Cinta'"
            ],
            "application/vnd.google.colaboratory.intrinsic+json": {
              "type": "string"
            }
          },
          "metadata": {},
          "execution_count": 56
        }
      ]
    },
    {
      "cell_type": "code",
      "source": [
        "# 4\n",
        "\n",
        "## Cara 1\n",
        "nama_teman1 = ['Asep', 'Bobby', 'Cinta', 'Dimas', 'Edi', 'Asep']\n",
        "index = [i for i, nama in enumerate(nama_teman1) if nama == 'Asep']\n",
        "print(index)"
      ],
      "metadata": {
        "colab": {
          "base_uri": "https://localhost:8080/"
        },
        "id": "b6jsfw60vzKR",
        "outputId": "fb47a364-be15-4132-d989-98a0c5ec3021"
      },
      "execution_count": 57,
      "outputs": [
        {
          "output_type": "stream",
          "name": "stdout",
          "text": [
            "[0, 5]\n"
          ]
        }
      ]
    },
    {
      "cell_type": "code",
      "source": [
        "## Cara 2\n",
        "asep = []\n",
        "for indeks, nama in enumerate(nama_teman1):\n",
        "  if nama == 'Asep':\n",
        "   asep.append(indeks)\n",
        "print(asep)"
      ],
      "metadata": {
        "id": "Wa3Ve1-A8K7B",
        "colab": {
          "base_uri": "https://localhost:8080/"
        },
        "outputId": "00c1b2c1-e772-40bd-9e63-5c126c9e8260"
      },
      "execution_count": 58,
      "outputs": [
        {
          "output_type": "stream",
          "name": "stdout",
          "text": [
            "[0, 5]\n"
          ]
        }
      ]
    },
    {
      "cell_type": "code",
      "source": [
        "## Cara 3\n",
        "asep = []\n",
        "i = 0\n",
        "for nama in nama_teman1:\n",
        "  if nama == 'Asep' :\n",
        "    asep.append(i)\n",
        "  i += 1\n",
        "print(asep)"
      ],
      "metadata": {
        "colab": {
          "base_uri": "https://localhost:8080/"
        },
        "id": "LTbU-j2pMcMy",
        "outputId": "fbda3ebd-ef81-4c59-feb4-9a581e0ab2fa"
      },
      "execution_count": 59,
      "outputs": [
        {
          "output_type": "stream",
          "name": "stdout",
          "text": [
            "[0, 5]\n"
          ]
        }
      ]
    },
    {
      "cell_type": "markdown",
      "source": [
        "\n",
        "---\n",
        "Powered by : <br>\n",
        "<img src=\"https://lh3.googleusercontent.com/ayfbbgvQolM_Ys9VYRVFD6FjDJXSebI9sN1VtY4ppp65dXepA6JCKgKMM_porWAErGQmc8l-L_RXq080SJ3FbYTIsyxYqWWTuAX8A3VtafWLUwAnnxNnjR1s-3BMCUlF34fYnViLuutxrLm3nEpoix0\" width=\"20%\">\n",
        "<br><br>\n",
        "<a href=\"https://www.linkedin.com/in/kiranafara/\"><img src=\"https://img.shields.io/badge/-© 2025 Kirana Fara L-417DAC?style=for-the-badge&logoColor=white\"/></a>"
      ],
      "metadata": {
        "id": "TjTtxQ8Gg1rd"
      }
    }
  ]
}