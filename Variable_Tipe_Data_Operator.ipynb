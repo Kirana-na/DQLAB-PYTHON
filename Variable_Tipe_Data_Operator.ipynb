{
  "nbformat": 4,
  "nbformat_minor": 0,
  "metadata": {
    "colab": {
      "provenance": []
    },
    "kernelspec": {
      "name": "python3",
      "display_name": "Python 3"
    },
    "language_info": {
      "name": "python"
    }
  },
  "cells": [
    {
      "cell_type": "markdown",
      "source": [
        "# <b>A. <span style='color:#0B2F9F'><code>VARIABEL</code></span></b>\n",
        "Variabel pada bahasa pemrograman adalah tempat penyimpanan untuk data atau informasi. Variabel digunakan untuk menyimpan nilai, yang kemudian bisa diakses atau dimanipulasi dalam program.\n",
        "\n",
        "Aturan penamaan variabel (pada Python):\n",
        "- Hanya huruf, angka, dan underscore\n",
        "- Nama variabel tidak dapat diawali dengan angka\n",
        "- Usahakan nama variabel sesuai dengan kegunaannya\n",
        "- Lowercase preferred"
      ],
      "metadata": {
        "id": "KN0flVG_gSFN"
      }
    },
    {
      "cell_type": "code",
      "execution_count": 20,
      "metadata": {
        "id": "Mh_MEJXjGZQn"
      },
      "outputs": [],
      "source": [
        "# Mengisi nilai 5 pada variable x\n",
        "\n",
        "x = 5"
      ]
    },
    {
      "cell_type": "code",
      "source": [
        "# Mengisi nilai 3.14 pada variable y\n",
        "\n",
        "y = 3.14"
      ],
      "metadata": {
        "id": "oCqJji34GZLx"
      },
      "execution_count": 21,
      "outputs": []
    },
    {
      "cell_type": "markdown",
      "source": [
        "### <b>Menampilkan variabel/hasil</b></li>\n",
        "\n",
        "Dalam python, jika ingin menampilkan sesuatu, dapat langsung memanggil variabel nya atau dengan menggunakan print()."
      ],
      "metadata": {
        "id": "6rrSM36R1Nue"
      }
    },
    {
      "cell_type": "code",
      "source": [
        "# Menampilkan nilai x\n",
        "\n",
        "x"
      ],
      "metadata": {
        "colab": {
          "base_uri": "https://localhost:8080/"
        },
        "id": "9HwgwgEt1hHz",
        "outputId": "78fc251d-896e-4050-d307-e858e2556c82"
      },
      "execution_count": 22,
      "outputs": [
        {
          "output_type": "execute_result",
          "data": {
            "text/plain": [
              "5"
            ]
          },
          "metadata": {},
          "execution_count": 22
        }
      ]
    },
    {
      "cell_type": "code",
      "source": [
        "# Menampilkan nilai y\n",
        "\n",
        "print(y)"
      ],
      "metadata": {
        "colab": {
          "base_uri": "https://localhost:8080/"
        },
        "id": "HLwjW85C1sqP",
        "outputId": "83a4b036-64d6-4507-95cc-6b9ee555bfc0"
      },
      "execution_count": 23,
      "outputs": [
        {
          "output_type": "stream",
          "name": "stdout",
          "text": [
            "3.14\n"
          ]
        }
      ]
    },
    {
      "cell_type": "markdown",
      "source": [
        "# <b>B. <span style='color:#0B2F9F'><code>TIPE DATA</code></span></b>"
      ],
      "metadata": {
        "id": "pH-e5ieC3CSK"
      }
    },
    {
      "cell_type": "markdown",
      "source": [
        "<a id=\"A.1.\"></a>\n",
        "## <b>B.1. <span style='color:#A0C4FF'>Numerik : Integer & Float</span></b>\n",
        "\n",
        "Integer (int) merupakan tipe data untuk menyimpan bilangan bulat. Integer tidak memiliki bagian desimal dan dapat berupa bilangan positif, negatif, atau nol.\n",
        "\n",
        "Float (float) merupakan tipe data untuk menyimpan bilangan desimal. Float digunakan untuk operasi matematika yang melibatkan angka pecahan."
      ],
      "metadata": {
        "id": "owoJn72dGP6v"
      }
    },
    {
      "cell_type": "code",
      "source": [
        "# Tipe data dari x adalah integer\n",
        "print(x)\n",
        "type(x)"
      ],
      "metadata": {
        "id": "pdsceARNGndX",
        "colab": {
          "base_uri": "https://localhost:8080/"
        },
        "outputId": "35115016-19af-4820-afcb-5bf60afa1874"
      },
      "execution_count": 24,
      "outputs": [
        {
          "output_type": "stream",
          "name": "stdout",
          "text": [
            "5\n"
          ]
        },
        {
          "output_type": "execute_result",
          "data": {
            "text/plain": [
              "int"
            ]
          },
          "metadata": {},
          "execution_count": 24
        }
      ]
    },
    {
      "cell_type": "code",
      "source": [
        "# Tipe data dari y adalah float\n",
        "print(y)\n",
        "type(y)"
      ],
      "metadata": {
        "colab": {
          "base_uri": "https://localhost:8080/"
        },
        "id": "F-jdt-V8GcAh",
        "outputId": "5d66a3d5-8b4a-4cc0-aa13-7e1f6a948c47"
      },
      "execution_count": 25,
      "outputs": [
        {
          "output_type": "stream",
          "name": "stdout",
          "text": [
            "3.14\n"
          ]
        },
        {
          "output_type": "execute_result",
          "data": {
            "text/plain": [
              "float"
            ]
          },
          "metadata": {},
          "execution_count": 25
        }
      ]
    },
    {
      "cell_type": "markdown",
      "source": [
        "<a id=\"A.1.\"></a>\n",
        "## <b>B.2. <span style='color:#A0C4FF'>Boolean</span></b>\n",
        "\n",
        "\n",
        "Boolean (bool) merupakan tipe data yang hanya memiliki dua nilai: True (1) atau False (0). Tipe ini sering digunakan untuk operasi logika dan pengkondisian."
      ],
      "metadata": {
        "id": "lI_d6EQWHQN-"
      }
    },
    {
      "cell_type": "code",
      "source": [
        "# Cara penulisan nilai True yang benar\n",
        "True"
      ],
      "metadata": {
        "colab": {
          "base_uri": "https://localhost:8080/"
        },
        "id": "F5I2uZtCG4my",
        "outputId": "f5400182-c6b5-4a4d-d87e-268a36cd0970"
      },
      "execution_count": 26,
      "outputs": [
        {
          "output_type": "execute_result",
          "data": {
            "text/plain": [
              "True"
            ]
          },
          "metadata": {},
          "execution_count": 26
        }
      ]
    },
    {
      "cell_type": "code",
      "source": [
        "# Cara penulisan nilai False yang benar\n",
        "False"
      ],
      "metadata": {
        "colab": {
          "base_uri": "https://localhost:8080/"
        },
        "id": "fGqLEQWgHUV3",
        "outputId": "5f7d46c4-ac0d-4219-debe-a9e2de09d84e"
      },
      "execution_count": 27,
      "outputs": [
        {
          "output_type": "execute_result",
          "data": {
            "text/plain": [
              "False"
            ]
          },
          "metadata": {},
          "execution_count": 27
        }
      ]
    },
    {
      "cell_type": "code",
      "source": [
        "# Penulisan true yang salah, colab akan menganggap 'true' sebagai nama variabel\n",
        "true"
      ],
      "metadata": {
        "colab": {
          "base_uri": "https://localhost:8080/",
          "height": 164
        },
        "id": "qOWemTWVHVCv",
        "outputId": "5ed3ca97-20d1-4cde-cb15-8baf1a5b1cf8"
      },
      "execution_count": 28,
      "outputs": [
        {
          "output_type": "error",
          "ename": "NameError",
          "evalue": "name 'true' is not defined",
          "traceback": [
            "\u001b[0;31m---------------------------------------------------------------------------\u001b[0m",
            "\u001b[0;31mNameError\u001b[0m                                 Traceback (most recent call last)",
            "\u001b[0;32m<ipython-input-28-aff177ad8315>\u001b[0m in \u001b[0;36m<cell line: 0>\u001b[0;34m()\u001b[0m\n\u001b[1;32m      1\u001b[0m \u001b[0;31m# Penulisan true yang salah, colab akan menganggap 'true' sebagai nama variabel\u001b[0m\u001b[0;34m\u001b[0m\u001b[0;34m\u001b[0m\u001b[0m\n\u001b[0;32m----> 2\u001b[0;31m \u001b[0mtrue\u001b[0m\u001b[0;34m\u001b[0m\u001b[0;34m\u001b[0m\u001b[0m\n\u001b[0m",
            "\u001b[0;31mNameError\u001b[0m: name 'true' is not defined"
          ]
        }
      ]
    },
    {
      "cell_type": "code",
      "source": [
        "# Kondisi yang dihubungkan dengan operator and akan bernilai benar jika semua kondisi benar\n",
        "True and True"
      ],
      "metadata": {
        "colab": {
          "base_uri": "https://localhost:8080/"
        },
        "id": "7s8uP4fRHVwK",
        "outputId": "37537754-aecd-469f-bc60-3247ad961832"
      },
      "execution_count": 29,
      "outputs": [
        {
          "output_type": "execute_result",
          "data": {
            "text/plain": [
              "True"
            ]
          },
          "metadata": {},
          "execution_count": 29
        }
      ]
    },
    {
      "cell_type": "code",
      "source": [
        "# Kondisi yang dihubungkan dengan operator and akan bernilai salah jika ada atau semua kondisi salah\n",
        "True and False"
      ],
      "metadata": {
        "colab": {
          "base_uri": "https://localhost:8080/"
        },
        "id": "ad0i85PVHoxX",
        "outputId": "852cdf7e-21bf-4b71-a251-77d2fb2198c1"
      },
      "execution_count": 30,
      "outputs": [
        {
          "output_type": "execute_result",
          "data": {
            "text/plain": [
              "False"
            ]
          },
          "metadata": {},
          "execution_count": 30
        }
      ]
    },
    {
      "cell_type": "code",
      "source": [
        "False and False"
      ],
      "metadata": {
        "colab": {
          "base_uri": "https://localhost:8080/"
        },
        "id": "ZhrMXk5NHqvm",
        "outputId": "b4468a89-6328-46f4-e4b3-c41b30d28c7b"
      },
      "execution_count": 31,
      "outputs": [
        {
          "output_type": "execute_result",
          "data": {
            "text/plain": [
              "False"
            ]
          },
          "metadata": {},
          "execution_count": 31
        }
      ]
    },
    {
      "cell_type": "code",
      "source": [
        "# Contoh: seseorang akan mendapatkan pekerjaan jika rajin dan upgrade skill\n",
        "is_rajin = True\n",
        "is_upgrade_skill = True\n",
        "\n",
        "get_job = is_rajin and is_upgrade_skill\n",
        "\n",
        "get_job"
      ],
      "metadata": {
        "colab": {
          "base_uri": "https://localhost:8080/"
        },
        "id": "lM2b5IqbHuYh",
        "outputId": "c1850d8e-3d23-4b98-af85-5c424c477489"
      },
      "execution_count": 32,
      "outputs": [
        {
          "output_type": "execute_result",
          "data": {
            "text/plain": [
              "True"
            ]
          },
          "metadata": {},
          "execution_count": 32
        }
      ]
    },
    {
      "cell_type": "code",
      "source": [
        "# Kondisi yang dihubungkan dengan operator or akan bernilai benar jika salah satu kondisi benar\n",
        "True or True"
      ],
      "metadata": {
        "colab": {
          "base_uri": "https://localhost:8080/"
        },
        "id": "fXFmyC35IFu8",
        "outputId": "854a3eee-076d-45ae-bd5a-bc9904518c35"
      },
      "execution_count": 33,
      "outputs": [
        {
          "output_type": "execute_result",
          "data": {
            "text/plain": [
              "True"
            ]
          },
          "metadata": {},
          "execution_count": 33
        }
      ]
    },
    {
      "cell_type": "code",
      "source": [
        "True or False"
      ],
      "metadata": {
        "colab": {
          "base_uri": "https://localhost:8080/"
        },
        "id": "g3tVyz5YIOuv",
        "outputId": "faff52c3-8271-4d72-8b78-c79db6c0b349"
      },
      "execution_count": 34,
      "outputs": [
        {
          "output_type": "execute_result",
          "data": {
            "text/plain": [
              "True"
            ]
          },
          "metadata": {},
          "execution_count": 34
        }
      ]
    },
    {
      "cell_type": "code",
      "source": [
        "# Kondisi yang dihubungkan dengan operator or akan bernilai salah jika semua kondisi salah\n",
        "False or False"
      ],
      "metadata": {
        "colab": {
          "base_uri": "https://localhost:8080/"
        },
        "id": "SOs9oXZ1IPxs",
        "outputId": "5f134d04-5a4f-417f-85aa-b8a498e8880e"
      },
      "execution_count": 35,
      "outputs": [
        {
          "output_type": "execute_result",
          "data": {
            "text/plain": [
              "False"
            ]
          },
          "metadata": {},
          "execution_count": 35
        }
      ]
    },
    {
      "cell_type": "code",
      "source": [
        "# Seseorang dikatakan dari fakultas mipa jika dia dari jurusan matematika atau dari jurusan IPA\n",
        "is_matematika = True\n",
        "is_ipa = False\n",
        "\n",
        "is_mipa = is_matematika or is_ipa\n",
        "\n",
        "is_mipa"
      ],
      "metadata": {
        "colab": {
          "base_uri": "https://localhost:8080/"
        },
        "id": "liq7SYsiIRGj",
        "outputId": "ca9e379e-8b66-4884-b30a-ddb85705e12a"
      },
      "execution_count": 36,
      "outputs": [
        {
          "output_type": "execute_result",
          "data": {
            "text/plain": [
              "True"
            ]
          },
          "metadata": {},
          "execution_count": 36
        }
      ]
    },
    {
      "cell_type": "code",
      "source": [
        "int(True)"
      ],
      "metadata": {
        "colab": {
          "base_uri": "https://localhost:8080/"
        },
        "id": "aJir-PJVLeqW",
        "outputId": "60ffde2e-b425-4837-ba6e-f988e876ebb3"
      },
      "execution_count": 37,
      "outputs": [
        {
          "output_type": "execute_result",
          "data": {
            "text/plain": [
              "1"
            ]
          },
          "metadata": {},
          "execution_count": 37
        }
      ]
    },
    {
      "cell_type": "code",
      "source": [
        "int(False)"
      ],
      "metadata": {
        "colab": {
          "base_uri": "https://localhost:8080/"
        },
        "id": "_0F9wIOgLgdm",
        "outputId": "9aafb3a9-8966-43e0-d2ec-339fcb4e751e"
      },
      "execution_count": 38,
      "outputs": [
        {
          "output_type": "execute_result",
          "data": {
            "text/plain": [
              "0"
            ]
          },
          "metadata": {},
          "execution_count": 38
        }
      ]
    },
    {
      "cell_type": "code",
      "source": [
        "True + True"
      ],
      "metadata": {
        "colab": {
          "base_uri": "https://localhost:8080/"
        },
        "id": "FbWAT8KcLN1C",
        "outputId": "c47af598-baca-4cc5-fa9b-be941cffe368"
      },
      "execution_count": 39,
      "outputs": [
        {
          "output_type": "execute_result",
          "data": {
            "text/plain": [
              "2"
            ]
          },
          "metadata": {},
          "execution_count": 39
        }
      ]
    },
    {
      "cell_type": "code",
      "source": [
        "False + False"
      ],
      "metadata": {
        "colab": {
          "base_uri": "https://localhost:8080/"
        },
        "id": "B75xGNHILP9f",
        "outputId": "01411ba9-1464-4627-94b4-b8d02893ea38"
      },
      "execution_count": 40,
      "outputs": [
        {
          "output_type": "execute_result",
          "data": {
            "text/plain": [
              "0"
            ]
          },
          "metadata": {},
          "execution_count": 40
        }
      ]
    },
    {
      "cell_type": "code",
      "source": [
        "True + False"
      ],
      "metadata": {
        "colab": {
          "base_uri": "https://localhost:8080/"
        },
        "id": "nZQpWcpZOMzp",
        "outputId": "3d3d7f23-f05e-4326-d0df-bcb5ae689e79"
      },
      "execution_count": 41,
      "outputs": [
        {
          "output_type": "execute_result",
          "data": {
            "text/plain": [
              "1"
            ]
          },
          "metadata": {},
          "execution_count": 41
        }
      ]
    },
    {
      "cell_type": "code",
      "source": [
        "3 * True"
      ],
      "metadata": {
        "colab": {
          "base_uri": "https://localhost:8080/"
        },
        "id": "OAToqm3OLSd7",
        "outputId": "3e506338-6cd9-4e4b-b2be-31fef3824f89"
      },
      "execution_count": 42,
      "outputs": [
        {
          "output_type": "execute_result",
          "data": {
            "text/plain": [
              "3"
            ]
          },
          "metadata": {},
          "execution_count": 42
        }
      ]
    },
    {
      "cell_type": "markdown",
      "source": [
        "<a id=\"A.1.\"></a>\n",
        "## <b>B.3. <span style='color:#A0C4FF'>String</span></b>\n",
        "\n",
        "String (string) merupakan tipe data yang digunakan untuk menyimpan teks atau urutan karakter. String dapat didefinisikan dengan menggunakan tanda kutip tunggal (') atau ganda (\")."
      ],
      "metadata": {
        "id": "Oqk7wPjCLxY3"
      }
    },
    {
      "cell_type": "code",
      "source": [
        "# Nilai string diapit oleh tanda kutip\n",
        "'Hello world'"
      ],
      "metadata": {
        "id": "l-fDf8_xLFCC",
        "colab": {
          "base_uri": "https://localhost:8080/",
          "height": 36
        },
        "outputId": "358fc556-02a5-409f-dce7-293a54c46deb"
      },
      "execution_count": 43,
      "outputs": [
        {
          "output_type": "execute_result",
          "data": {
            "text/plain": [
              "'Hello world'"
            ],
            "application/vnd.google.colaboratory.intrinsic+json": {
              "type": "string"
            }
          },
          "metadata": {},
          "execution_count": 43
        }
      ]
    },
    {
      "cell_type": "code",
      "source": [
        "nama_depan = 'Elon'\n",
        "nama_belakang = 'Musk'\n",
        "\n",
        "nama_depan + ' ' + nama_belakang"
      ],
      "metadata": {
        "colab": {
          "base_uri": "https://localhost:8080/",
          "height": 36
        },
        "id": "Epb5IE2ZL1T4",
        "outputId": "b90cb067-2708-4859-9883-f59bf7b56ac9"
      },
      "execution_count": 44,
      "outputs": [
        {
          "output_type": "execute_result",
          "data": {
            "text/plain": [
              "'Elon Musk'"
            ],
            "application/vnd.google.colaboratory.intrinsic+json": {
              "type": "string"
            }
          },
          "metadata": {},
          "execution_count": 44
        }
      ]
    },
    {
      "cell_type": "code",
      "source": [
        "'Python' * 10"
      ],
      "metadata": {
        "colab": {
          "base_uri": "https://localhost:8080/",
          "height": 36
        },
        "id": "1xhDDxV9MNEp",
        "outputId": "a6813df6-b31b-470b-a41a-4a7d4bde165a"
      },
      "execution_count": 45,
      "outputs": [
        {
          "output_type": "execute_result",
          "data": {
            "text/plain": [
              "'PythonPythonPythonPythonPythonPythonPythonPythonPythonPython'"
            ],
            "application/vnd.google.colaboratory.intrinsic+json": {
              "type": "string"
            }
          },
          "metadata": {},
          "execution_count": 45
        }
      ]
    },
    {
      "cell_type": "code",
      "source": [
        "# Membuat string menjadi huruf besar (uppercase)\n",
        "'PyTHon'.upper()"
      ],
      "metadata": {
        "colab": {
          "base_uri": "https://localhost:8080/",
          "height": 36
        },
        "id": "vmUWd3P6Mkt_",
        "outputId": "5e279b23-079a-4064-f63e-c2a16f72005a"
      },
      "execution_count": 46,
      "outputs": [
        {
          "output_type": "execute_result",
          "data": {
            "text/plain": [
              "'PYTHON'"
            ],
            "application/vnd.google.colaboratory.intrinsic+json": {
              "type": "string"
            }
          },
          "metadata": {},
          "execution_count": 46
        }
      ]
    },
    {
      "cell_type": "code",
      "source": [
        "# Membuat string menjadi huruf kecil (lowercase)\n",
        "'PyThon'.lower()"
      ],
      "metadata": {
        "colab": {
          "base_uri": "https://localhost:8080/",
          "height": 36
        },
        "id": "VrawS_mWMsuI",
        "outputId": "3d0381a7-ec85-4c99-b416-dbaad3b1654c"
      },
      "execution_count": 47,
      "outputs": [
        {
          "output_type": "execute_result",
          "data": {
            "text/plain": [
              "'python'"
            ],
            "application/vnd.google.colaboratory.intrinsic+json": {
              "type": "string"
            }
          },
          "metadata": {},
          "execution_count": 47
        }
      ]
    },
    {
      "cell_type": "code",
      "source": [
        "# Membuat huruf pertama dalam string menjadi huruf besar (uppercase)\n",
        "'pyTHon'.capitalize()"
      ],
      "metadata": {
        "colab": {
          "base_uri": "https://localhost:8080/",
          "height": 36
        },
        "id": "BPUcvB0gbTvl",
        "outputId": "c869e9c0-cfff-476e-cfd6-20f0311a6ded"
      },
      "execution_count": 48,
      "outputs": [
        {
          "output_type": "execute_result",
          "data": {
            "text/plain": [
              "'Python'"
            ],
            "application/vnd.google.colaboratory.intrinsic+json": {
              "type": "string"
            }
          },
          "metadata": {},
          "execution_count": 48
        }
      ]
    },
    {
      "cell_type": "code",
      "source": [
        "# Menukar string huruf besar (uppercase) ke huruf kecil (lowercase)\n",
        "'PyThon'.swapcase()"
      ],
      "metadata": {
        "colab": {
          "base_uri": "https://localhost:8080/",
          "height": 36
        },
        "id": "5_AwzOJeMwWe",
        "outputId": "be386bf1-53cf-41b8-ce9a-7331ee40b3cd"
      },
      "execution_count": 49,
      "outputs": [
        {
          "output_type": "execute_result",
          "data": {
            "text/plain": [
              "'pYtHON'"
            ],
            "application/vnd.google.colaboratory.intrinsic+json": {
              "type": "string"
            }
          },
          "metadata": {},
          "execution_count": 49
        }
      ]
    },
    {
      "cell_type": "code",
      "source": [
        "# Menghitung jumlah huruf dalam suatu string\n",
        "'Aku suka belajar Python'.count('u')"
      ],
      "metadata": {
        "colab": {
          "base_uri": "https://localhost:8080/"
        },
        "id": "HBFnGtcsMzdg",
        "outputId": "3a732455-e60e-4d0a-b02b-91e0b84418c7"
      },
      "execution_count": 50,
      "outputs": [
        {
          "output_type": "execute_result",
          "data": {
            "text/plain": [
              "2"
            ]
          },
          "metadata": {},
          "execution_count": 50
        }
      ]
    },
    {
      "cell_type": "code",
      "source": [
        "# Mengganti suatu huruf menjadi huruf yang lain dalam suatu string\n",
        "'Aku suka belajar Python'.replace('u','i')"
      ],
      "metadata": {
        "colab": {
          "base_uri": "https://localhost:8080/",
          "height": 36
        },
        "id": "KSw4xwk9M39I",
        "outputId": "478edea5-4e7e-4939-d0e4-c384a58b8a78"
      },
      "execution_count": 51,
      "outputs": [
        {
          "output_type": "execute_result",
          "data": {
            "text/plain": [
              "'Aki sika belajar Python'"
            ],
            "application/vnd.google.colaboratory.intrinsic+json": {
              "type": "string"
            }
          },
          "metadata": {},
          "execution_count": 51
        }
      ]
    },
    {
      "cell_type": "code",
      "source": [
        "# Menghapus spasi atau karakter tertentu di awal dan akhir string\n",
        "'      Aku suka belajar Python        '.strip()"
      ],
      "metadata": {
        "colab": {
          "base_uri": "https://localhost:8080/",
          "height": 36
        },
        "id": "00XokUFRM_IW",
        "outputId": "f29e65a0-c886-4e99-bbfe-e0a1431d4f61"
      },
      "execution_count": 52,
      "outputs": [
        {
          "output_type": "execute_result",
          "data": {
            "text/plain": [
              "'Aku suka belajar Python'"
            ],
            "application/vnd.google.colaboratory.intrinsic+json": {
              "type": "string"
            }
          },
          "metadata": {},
          "execution_count": 52
        }
      ]
    },
    {
      "cell_type": "code",
      "source": [
        "# Mengakses suatu karakter dalam suatu string\n",
        "#    0123456 8910  (index)\n",
        "z = 'Python. Sql'\n",
        "print(z[8])\n",
        "print(z[0:6])"
      ],
      "metadata": {
        "colab": {
          "base_uri": "https://localhost:8080/"
        },
        "id": "W87rSCyqcHLz",
        "outputId": "af9297d4-3493-4272-e515-d2e2c4e402fc"
      },
      "execution_count": 53,
      "outputs": [
        {
          "output_type": "stream",
          "name": "stdout",
          "text": [
            "S\n",
            "Python\n"
          ]
        }
      ]
    },
    {
      "cell_type": "markdown",
      "source": [
        "# <b>C. <span style='color:#0B2F9F'><code>OPERATOR</code></span></b>"
      ],
      "metadata": {
        "id": "G7m6HJ193aYe"
      }
    },
    {
      "cell_type": "markdown",
      "source": [
        "<a id=\"A.1.\"></a>\n",
        "## <b>C.1. <span style='color:#A0C4FF'>Operasi Dasar Matematika</span></b>\n",
        "\n",
        "Operasi matematika dasar dapat dilakukan dengan menggunakan operator-operator berikut:\n",
        "<br><br>\n",
        "<table border=\"1\">\n",
        "    <tr>\n",
        "        <th>Simbol</th>\n",
        "        <th>Operasi</th>\n",
        "    </tr>\n",
        "    <tr>\n",
        "        <td>+</td>\n",
        "        <td>Penjumlahan</td>\n",
        "    </tr>\n",
        "    <tr>\n",
        "        <td>-</td>\n",
        "        <td>Pengurangan</td>\n",
        "    </tr>\n",
        "    <tr>\n",
        "        <td>*</td>\n",
        "        <td>Perkalian</td>\n",
        "    </tr>\n",
        "    <tr>\n",
        "        <td>/</td>\n",
        "        <td>Pembagian</td>\n",
        "    </tr>\n",
        "    <tr>\n",
        "        <td>//</td>\n",
        "        <td>Pembagian (dibulatkan ke bawah)</td>\n",
        "    </tr>\n",
        "    <tr>\n",
        "        <td>%</td>\n",
        "        <td>Modulo (sisa hasil bagi)</td>\n",
        "    </tr>\n",
        "     <tr>\n",
        "        <td>-</td>\n",
        "        <td>Negasi (mengubah simbol)</td>\n",
        "    </tr>\n",
        "     <tr>\n",
        "        <td>**</td>\n",
        "        <td>Pangkat</td>\n",
        "    </tr>\n",
        "</table>"
      ],
      "metadata": {
        "id": "yrguYJ3-JtjD"
      }
    },
    {
      "cell_type": "code",
      "source": [
        "a = 10\n",
        "b = 3\n",
        "c = 4"
      ],
      "metadata": {
        "id": "JfsOeYimGl4a"
      },
      "execution_count": 54,
      "outputs": []
    },
    {
      "cell_type": "code",
      "source": [
        "a + b"
      ],
      "metadata": {
        "colab": {
          "base_uri": "https://localhost:8080/"
        },
        "id": "NVg4-6eFGc6j",
        "outputId": "7c2bac98-1555-4136-96f1-e7c03e396965"
      },
      "execution_count": 55,
      "outputs": [
        {
          "output_type": "execute_result",
          "data": {
            "text/plain": [
              "13"
            ]
          },
          "metadata": {},
          "execution_count": 55
        }
      ]
    },
    {
      "cell_type": "code",
      "source": [
        "a - b"
      ],
      "metadata": {
        "colab": {
          "base_uri": "https://localhost:8080/"
        },
        "id": "G4hHBedpGh7f",
        "outputId": "53d01f03-3024-4c65-b48e-6f7147a1ca10"
      },
      "execution_count": 56,
      "outputs": [
        {
          "output_type": "execute_result",
          "data": {
            "text/plain": [
              "7"
            ]
          },
          "metadata": {},
          "execution_count": 56
        }
      ]
    },
    {
      "cell_type": "code",
      "source": [
        "a * b"
      ],
      "metadata": {
        "colab": {
          "base_uri": "https://localhost:8080/"
        },
        "id": "O_Y2SezVGkkt",
        "outputId": "353a32ac-2c64-44e1-b41c-d57d2da370d2"
      },
      "execution_count": 57,
      "outputs": [
        {
          "output_type": "execute_result",
          "data": {
            "text/plain": [
              "30"
            ]
          },
          "metadata": {},
          "execution_count": 57
        }
      ]
    },
    {
      "cell_type": "code",
      "source": [
        "a / b"
      ],
      "metadata": {
        "colab": {
          "base_uri": "https://localhost:8080/"
        },
        "id": "0QafaK3mGw-M",
        "outputId": "d05521b5-7478-483c-fc62-acf1c9dddfcc"
      },
      "execution_count": 58,
      "outputs": [
        {
          "output_type": "execute_result",
          "data": {
            "text/plain": [
              "3.3333333333333335"
            ]
          },
          "metadata": {},
          "execution_count": 58
        }
      ]
    },
    {
      "cell_type": "code",
      "source": [
        "a // b"
      ],
      "metadata": {
        "colab": {
          "base_uri": "https://localhost:8080/"
        },
        "id": "SqByomU2Gx2_",
        "outputId": "972456db-9202-48e2-ea0e-eb60dd7fc986"
      },
      "execution_count": 59,
      "outputs": [
        {
          "output_type": "execute_result",
          "data": {
            "text/plain": [
              "3"
            ]
          },
          "metadata": {},
          "execution_count": 59
        }
      ]
    },
    {
      "cell_type": "code",
      "source": [
        "# Cara lain pembagian disertai pembulatan ke bawah\n",
        "import math\n",
        "print(math.floor(a/b))"
      ],
      "metadata": {
        "colab": {
          "base_uri": "https://localhost:8080/"
        },
        "id": "UQHhpzglNTNJ",
        "outputId": "8b5aad57-e222-4278-aa98-7ee66fd1a239"
      },
      "execution_count": 60,
      "outputs": [
        {
          "output_type": "stream",
          "name": "stdout",
          "text": [
            "3\n"
          ]
        }
      ]
    },
    {
      "cell_type": "code",
      "source": [
        "# Pembagian disertai pembulatan ke atas\n",
        "import math\n",
        "print(math.ceil(a/b))"
      ],
      "metadata": {
        "colab": {
          "base_uri": "https://localhost:8080/"
        },
        "id": "JmL_-lD6MaPq",
        "outputId": "9a853da5-e88d-459d-cede-bfd9bfcc3539"
      },
      "execution_count": 61,
      "outputs": [
        {
          "output_type": "stream",
          "name": "stdout",
          "text": [
            "4\n"
          ]
        }
      ]
    },
    {
      "cell_type": "code",
      "source": [
        "a % b"
      ],
      "metadata": {
        "colab": {
          "base_uri": "https://localhost:8080/"
        },
        "id": "lkGGdugeGy1o",
        "outputId": "94f8fa6b-efbb-45d7-8a47-ae7222618ab3"
      },
      "execution_count": 62,
      "outputs": [
        {
          "output_type": "execute_result",
          "data": {
            "text/plain": [
              "1"
            ]
          },
          "metadata": {},
          "execution_count": 62
        }
      ]
    },
    {
      "cell_type": "code",
      "source": [
        "-a"
      ],
      "metadata": {
        "colab": {
          "base_uri": "https://localhost:8080/"
        },
        "id": "s7TU0DCkG0qk",
        "outputId": "c31a28c9-463a-40b7-b156-cdd57cb4942f"
      },
      "execution_count": 63,
      "outputs": [
        {
          "output_type": "execute_result",
          "data": {
            "text/plain": [
              "-10"
            ]
          },
          "metadata": {},
          "execution_count": 63
        }
      ]
    },
    {
      "cell_type": "code",
      "source": [
        "a ** b"
      ],
      "metadata": {
        "colab": {
          "base_uri": "https://localhost:8080/"
        },
        "id": "kmNynqbbG2UW",
        "outputId": "08ab0e85-c753-4dec-8f85-1c094dbb0873"
      },
      "execution_count": 64,
      "outputs": [
        {
          "output_type": "execute_result",
          "data": {
            "text/plain": [
              "1000"
            ]
          },
          "metadata": {},
          "execution_count": 64
        }
      ]
    },
    {
      "cell_type": "code",
      "source": [
        "# Akar kuadrat\n",
        "c**(1/2)"
      ],
      "metadata": {
        "colab": {
          "base_uri": "https://localhost:8080/"
        },
        "id": "zo8W7kilN20r",
        "outputId": "492d3161-92a9-4f3a-9bcb-80482e14c2dc"
      },
      "execution_count": 65,
      "outputs": [
        {
          "output_type": "execute_result",
          "data": {
            "text/plain": [
              "2.0"
            ]
          },
          "metadata": {},
          "execution_count": 65
        }
      ]
    },
    {
      "cell_type": "markdown",
      "source": [
        "<a id=\"A.1.\"></a>\n",
        "## <b>C.2. <span style='color:#A0C4FF'>Operasi Perbandingan</span></b>\n",
        "\n",
        "Operasi perbandingan digunakan untuk membandingkan dua nilai dan mengembalikan True atau False.\n",
        "<br><br>\n",
        "<table border=\"1\">\n",
        "    <tr>\n",
        "        <th>Simbol</th>\n",
        "        <th>Operasi</th>\n",
        "    </tr>\n",
        "    <tr>\n",
        "        <td><</td>\n",
        "        <td>Kurang dari</td>\n",
        "    </tr>\n",
        "    <tr>\n",
        "        <td>></td>\n",
        "        <td>Lebih dari</td>\n",
        "    </tr>\n",
        "    <tr>\n",
        "        <td><=</td>\n",
        "        <td>Kurang dari atau sama dengan</td>\n",
        "    </tr>\n",
        "    <tr>\n",
        "        <td>>=</td>\n",
        "        <td>Lebih dari atau sama dengan</td>\n",
        "    </tr>\n",
        "    <tr>\n",
        "        <td>==</td>\n",
        "        <td>Sama dengan</td>\n",
        "    </tr>\n",
        "    <tr>\n",
        "        <td>!=</td>\n",
        "        <td>Tidak sama dengan</td>\n",
        "    </tr>\n",
        "</table>"
      ],
      "metadata": {
        "id": "_XdG6oXhKmcc"
      }
    },
    {
      "cell_type": "code",
      "source": [
        "a = 3\n",
        "b = 4"
      ],
      "metadata": {
        "id": "sr15SQneKp3u"
      },
      "execution_count": 66,
      "outputs": []
    },
    {
      "cell_type": "code",
      "source": [
        "a > b"
      ],
      "metadata": {
        "colab": {
          "base_uri": "https://localhost:8080/"
        },
        "id": "R1udm4zmK-yw",
        "outputId": "ece715a9-4eb9-4741-fef7-c869767e978b"
      },
      "execution_count": 67,
      "outputs": [
        {
          "output_type": "execute_result",
          "data": {
            "text/plain": [
              "False"
            ]
          },
          "metadata": {},
          "execution_count": 67
        }
      ]
    },
    {
      "cell_type": "code",
      "source": [
        "a < b"
      ],
      "metadata": {
        "colab": {
          "base_uri": "https://localhost:8080/"
        },
        "id": "sIJozRMmK_5O",
        "outputId": "62c2d797-9b36-4884-9975-ca9adee7104d"
      },
      "execution_count": 68,
      "outputs": [
        {
          "output_type": "execute_result",
          "data": {
            "text/plain": [
              "True"
            ]
          },
          "metadata": {},
          "execution_count": 68
        }
      ]
    },
    {
      "cell_type": "code",
      "source": [
        "a == 5"
      ],
      "metadata": {
        "colab": {
          "base_uri": "https://localhost:8080/"
        },
        "id": "iRD-OX9dLA9z",
        "outputId": "4a19c852-1326-4827-ef11-dabf7d13e484"
      },
      "execution_count": 69,
      "outputs": [
        {
          "output_type": "execute_result",
          "data": {
            "text/plain": [
              "False"
            ]
          },
          "metadata": {},
          "execution_count": 69
        }
      ]
    },
    {
      "cell_type": "code",
      "source": [
        "a != b"
      ],
      "metadata": {
        "colab": {
          "base_uri": "https://localhost:8080/"
        },
        "id": "v2ValuEeLC8P",
        "outputId": "698b0233-5995-42c2-867f-42252ec52577"
      },
      "execution_count": 70,
      "outputs": [
        {
          "output_type": "execute_result",
          "data": {
            "text/plain": [
              "True"
            ]
          },
          "metadata": {},
          "execution_count": 70
        }
      ]
    },
    {
      "cell_type": "markdown",
      "source": [
        "# <b>D. <span style='color:#0B2F9F'><code>LATIHAN</code></span></b>"
      ],
      "metadata": {
        "id": "K2d5v3WCpYz7"
      }
    },
    {
      "cell_type": "code",
      "source": [
        "# 1\n",
        "\n",
        "x = int(input(\"Masukan nilai x: \"))\n",
        "if x > 4:\n",
        "  print(\"Nilai x lebih dari 4\")\n",
        "elif x == 4:\n",
        "  print(\"Nilai x sama dengan 4\")\n",
        "else:\n",
        "  print(\"Nilai x kurang dari 4\")"
      ],
      "metadata": {
        "colab": {
          "base_uri": "https://localhost:8080/"
        },
        "id": "4Mnps6-8RYb_",
        "outputId": "aad6a04f-b908-4b6a-84c1-489349c2ec2c"
      },
      "execution_count": 71,
      "outputs": [
        {
          "output_type": "stream",
          "name": "stdout",
          "text": [
            "Masukan nilai x: 9\n",
            "Nilai x lebih dari 4\n"
          ]
        }
      ]
    },
    {
      "cell_type": "code",
      "source": [
        "# 2\n",
        "\n",
        "x = int(input(\"Masukan nilai x: \"))\n",
        "if x % 2 == 0:\n",
        "  print(\"x bilangan genap\")\n",
        "else:\n",
        "  print(\"x bilangan ganjil\")"
      ],
      "metadata": {
        "colab": {
          "base_uri": "https://localhost:8080/"
        },
        "id": "rYMeuu0eRjcV",
        "outputId": "53f3a724-0144-4920-aa55-a91a343b65bb"
      },
      "execution_count": 72,
      "outputs": [
        {
          "output_type": "stream",
          "name": "stdout",
          "text": [
            "Masukan nilai x: 2\n",
            "x bilangan genap\n"
          ]
        }
      ]
    },
    {
      "cell_type": "code",
      "source": [
        "# 3\n",
        "\n",
        "x = int(input(\"Masukan nilai x: \"))\n",
        "y = int(input(\"Masukan nilai y: \"))\n",
        "if (x % 2 == 0) and (y % 3 == 0):\n",
        "  print(\"x dan y bilangan yang habis dibagi 2 dan 3\")\n",
        "else:\n",
        "  print(\"Salah satu dari x atau y adalah bilangan yang tidak habis dibagi 2 dan 3\")"
      ],
      "metadata": {
        "colab": {
          "base_uri": "https://localhost:8080/"
        },
        "id": "_VRBjiuzRkAl",
        "outputId": "05faa806-e01d-45d4-b7b9-b2b5768514f0"
      },
      "execution_count": 73,
      "outputs": [
        {
          "output_type": "stream",
          "name": "stdout",
          "text": [
            "Masukan nilai x: 6\n",
            "Masukan nilai y: 9\n",
            "x dan y bilangan yang habis dibagi 2 dan 3\n"
          ]
        }
      ]
    },
    {
      "cell_type": "code",
      "source": [
        "# 4\n",
        "\n",
        "w = float(input(\"Masukan berat badan anda (kg): \"))\n",
        "h = float(input(\"Masukan tinggi badan anda (cm): \"))\n",
        "bmi = (w/((h/100)**2))\n",
        "if bmi < 18.5:\n",
        "  print(f\"Nilai BMI Anda: {bmi:.2f}, maka Anda underweight\")\n",
        "elif bmi >= 18.5 and bmi < 24.9 :\n",
        "  print(f\"Nilai BMI Anda: {bmi:.2f}, maka Anda healthy\")\n",
        "elif bmi >= 24.9 and bmi < 29.9:\n",
        "  print(f\"Nilai BMI Anda: {bmi:.2f}, maka Anda overweight\")\n",
        "else:\n",
        "  print(f\"Nilai BMI Anda: {bmi:.2f}, maka Anda obesitas\")"
      ],
      "metadata": {
        "colab": {
          "base_uri": "https://localhost:8080/"
        },
        "id": "62NvmZzOVkys",
        "outputId": "cb173daa-212c-4956-f3eb-d5b1121a390b"
      },
      "execution_count": 74,
      "outputs": [
        {
          "output_type": "stream",
          "name": "stdout",
          "text": [
            "Masukan berat badan anda (kg): 53.2\n",
            "Masukan tinggi badan anda (cm): 164.7\n",
            "Nilai BMI Anda: 19.61, maka Anda healthy\n"
          ]
        }
      ]
    },
    {
      "cell_type": "code",
      "source": [
        "# 5 (membuat segitiga siku-siku)\n",
        "\n",
        "for i in range(1,6):\n",
        "  print('*' * i)"
      ],
      "metadata": {
        "id": "_Qv4k3HwWyk3",
        "colab": {
          "base_uri": "https://localhost:8080/"
        },
        "outputId": "0d91d3d0-534f-446c-9d4c-8ddfce922238"
      },
      "execution_count": 75,
      "outputs": [
        {
          "output_type": "stream",
          "name": "stdout",
          "text": [
            "*\n",
            "**\n",
            "***\n",
            "****\n",
            "*****\n"
          ]
        }
      ]
    },
    {
      "cell_type": "markdown",
      "source": [
        "\n",
        "---\n",
        "Powered by : <br>\n",
        "<img src=\"https://lh3.googleusercontent.com/ayfbbgvQolM_Ys9VYRVFD6FjDJXSebI9sN1VtY4ppp65dXepA6JCKgKMM_porWAErGQmc8l-L_RXq080SJ3FbYTIsyxYqWWTuAX8A3VtafWLUwAnnxNnjR1s-3BMCUlF34fYnViLuutxrLm3nEpoix0\" width=\"20%\">\n",
        "<br><br>\n",
        "<a href=\"https://www.linkedin.com/in/kiranafara/\"><img src=\"https://img.shields.io/badge/-© 2025 Kirana Fara L-417DAC?style=for-the-badge&logoColor=white\"/></a>"
      ],
      "metadata": {
        "id": "xhdC7RnsKs3m"
      }
    }
  ]
}