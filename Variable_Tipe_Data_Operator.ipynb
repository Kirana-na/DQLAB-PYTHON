{
  "nbformat": 4,
  "nbformat_minor": 0,
  "metadata": {
    "colab": {
      "provenance": []
    },
    "kernelspec": {
      "name": "python3",
      "display_name": "Python 3"
    },
    "language_info": {
      "name": "python"
    }
  },
  "cells": [
    {
      "cell_type": "markdown",
      "source": [
        "# <b>A. <span style='color:#0B2F9F'><code>VARIABEL</code></span></b>\n",
        "Variabel pada bahasa pemrograman adalah tempat penyimpanan untuk data atau informasi. Variabel digunakan untuk menyimpan nilai, yang kemudian bisa diakses atau dimanipulasi dalam program.\n",
        "\n",
        "Aturan penamaan variabel (pada Python):\n",
        "- Hanya huruf, angka, dan underscore\n",
        "- Nama variabel tidak dapat diawali dengan angka\n",
        "- Usahakan nama variabel sesuai dengan kegunaannya\n",
        "- Lowercase preferred"
      ],
      "metadata": {
        "id": "KN0flVG_gSFN"
      }
    },
    {
      "cell_type": "code",
      "execution_count": 2,
      "metadata": {
        "id": "Mh_MEJXjGZQn"
      },
      "outputs": [],
      "source": [
        "# Mengisi nilai 5 pada variable x\n",
        "\n",
        "x = 5"
      ]
    },
    {
      "cell_type": "code",
      "source": [
        "# Mengisi nilai 3.14 pada variable y\n",
        "\n",
        "y = 3.14"
      ],
      "metadata": {
        "id": "oCqJji34GZLx"
      },
      "execution_count": 5,
      "outputs": []
    },
    {
      "cell_type": "markdown",
      "source": [
        "### <b>Menampilkan variabel/hasil</b></li>\n",
        "\n",
        "Dalam python, jika ingin menampilkan sesuatu, dapat langsung memanggil variabel nya atau dengan menggunakan print()."
      ],
      "metadata": {
        "id": "6rrSM36R1Nue"
      }
    },
    {
      "cell_type": "code",
      "source": [
        "# Menampilkan nilai x\n",
        "\n",
        "x"
      ],
      "metadata": {
        "colab": {
          "base_uri": "https://localhost:8080/"
        },
        "id": "9HwgwgEt1hHz",
        "outputId": "8faa53ee-09fb-4f05-827f-596028303a77"
      },
      "execution_count": 3,
      "outputs": [
        {
          "output_type": "execute_result",
          "data": {
            "text/plain": [
              "5"
            ]
          },
          "metadata": {},
          "execution_count": 3
        }
      ]
    },
    {
      "cell_type": "code",
      "source": [
        "# Menampilkan nilai y\n",
        "\n",
        "print(y)"
      ],
      "metadata": {
        "colab": {
          "base_uri": "https://localhost:8080/"
        },
        "id": "HLwjW85C1sqP",
        "outputId": "3aacef42-8662-4a6e-a6af-038fd262effc"
      },
      "execution_count": 6,
      "outputs": [
        {
          "output_type": "stream",
          "name": "stdout",
          "text": [
            "3.14\n"
          ]
        }
      ]
    },
    {
      "cell_type": "markdown",
      "source": [
        "# <b>B. <span style='color:#0B2F9F'><code>TIPE DATA</code></span></b>"
      ],
      "metadata": {
        "id": "pH-e5ieC3CSK"
      }
    },
    {
      "cell_type": "markdown",
      "source": [
        "<a id=\"A.1.\"></a>\n",
        "## <b>B.1. <span style='color:#A0C4FF'>Numerik : Integer & Float</span></b>\n",
        "\n",
        "Integer (int) merupakan tipe data untuk menyimpan bilangan bulat. Integer tidak memiliki bagian desimal dan dapat berupa bilangan positif, negatif, atau nol.\n",
        "\n",
        "Float (float) merupakan tipe data untuk menyimpan bilangan desimal. Float digunakan untuk operasi matematika yang melibatkan angka pecahan."
      ],
      "metadata": {
        "id": "owoJn72dGP6v"
      }
    },
    {
      "cell_type": "code",
      "source": [
        "# Tipe data dari x adalah integer\n",
        "print(x)\n",
        "type(x)"
      ],
      "metadata": {
        "id": "pdsceARNGndX",
        "colab": {
          "base_uri": "https://localhost:8080/"
        },
        "outputId": "3e0891ea-f496-4bb3-82be-23f3e4be63e9"
      },
      "execution_count": 8,
      "outputs": [
        {
          "output_type": "stream",
          "name": "stdout",
          "text": [
            "5\n"
          ]
        },
        {
          "output_type": "execute_result",
          "data": {
            "text/plain": [
              "int"
            ]
          },
          "metadata": {},
          "execution_count": 8
        }
      ]
    },
    {
      "cell_type": "code",
      "source": [
        "# Tipe data dari y adalah float\n",
        "print(y)\n",
        "type(y)"
      ],
      "metadata": {
        "colab": {
          "base_uri": "https://localhost:8080/"
        },
        "id": "F-jdt-V8GcAh",
        "outputId": "855fc1cd-dabf-4cb7-a2a8-ef2e7a6ad6e5"
      },
      "execution_count": 9,
      "outputs": [
        {
          "output_type": "stream",
          "name": "stdout",
          "text": [
            "3.14\n"
          ]
        },
        {
          "output_type": "execute_result",
          "data": {
            "text/plain": [
              "float"
            ]
          },
          "metadata": {},
          "execution_count": 9
        }
      ]
    },
    {
      "cell_type": "markdown",
      "source": [
        "<a id=\"A.1.\"></a>\n",
        "## <b>B.2. <span style='color:#A0C4FF'>Boolean</span></b>\n",
        "\n",
        "\n",
        "Boolean (bool) merupakan tipe data yang hanya memiliki dua nilai: True (1) atau False (0). Tipe ini sering digunakan untuk operasi logika dan pengkondisian."
      ],
      "metadata": {
        "id": "lI_d6EQWHQN-"
      }
    },
    {
      "cell_type": "code",
      "source": [
        "# Cara penulisan nilai True yang benar\n",
        "True"
      ],
      "metadata": {
        "colab": {
          "base_uri": "https://localhost:8080/"
        },
        "id": "F5I2uZtCG4my",
        "outputId": "a66db4a5-db39-4493-a641-ec3c397b63b1"
      },
      "execution_count": null,
      "outputs": [
        {
          "output_type": "execute_result",
          "data": {
            "text/plain": [
              "True"
            ]
          },
          "metadata": {},
          "execution_count": 24
        }
      ]
    },
    {
      "cell_type": "code",
      "source": [
        "# Cara penulisan nilai False yang benar\n",
        "False"
      ],
      "metadata": {
        "colab": {
          "base_uri": "https://localhost:8080/"
        },
        "id": "fGqLEQWgHUV3",
        "outputId": "12efec74-4d89-49dd-fee4-1f2b38fbdd96"
      },
      "execution_count": null,
      "outputs": [
        {
          "output_type": "execute_result",
          "data": {
            "text/plain": [
              "False"
            ]
          },
          "metadata": {},
          "execution_count": 25
        }
      ]
    },
    {
      "cell_type": "code",
      "source": [
        "# Penulisan true yang salah, colab akan menganggap 'true' sebagai nama variabel\n",
        "true"
      ],
      "metadata": {
        "colab": {
          "base_uri": "https://localhost:8080/",
          "height": 166
        },
        "id": "qOWemTWVHVCv",
        "outputId": "1ae47618-c46a-4b42-830b-f4fb0176ca24"
      },
      "execution_count": null,
      "outputs": [
        {
          "output_type": "error",
          "ename": "NameError",
          "evalue": "ignored",
          "traceback": [
            "\u001b[0;31m---------------------------------------------------------------------------\u001b[0m",
            "\u001b[0;31mNameError\u001b[0m                                 Traceback (most recent call last)",
            "\u001b[0;32m<ipython-input-26-724ba28f4a9a>\u001b[0m in \u001b[0;36m<cell line: 1>\u001b[0;34m()\u001b[0m\n\u001b[0;32m----> 1\u001b[0;31m \u001b[0mtrue\u001b[0m\u001b[0;34m\u001b[0m\u001b[0;34m\u001b[0m\u001b[0m\n\u001b[0m",
            "\u001b[0;31mNameError\u001b[0m: name 'true' is not defined"
          ]
        }
      ]
    },
    {
      "cell_type": "code",
      "source": [
        "# Kondisi yang dihubungkan dengan operator and akan bernilai benar jika semua kondisi benar\n",
        "True and True"
      ],
      "metadata": {
        "colab": {
          "base_uri": "https://localhost:8080/"
        },
        "id": "7s8uP4fRHVwK",
        "outputId": "cc975d32-c9db-484b-e8e0-567eecb6dd13"
      },
      "execution_count": null,
      "outputs": [
        {
          "output_type": "execute_result",
          "data": {
            "text/plain": [
              "True"
            ]
          },
          "metadata": {},
          "execution_count": 27
        }
      ]
    },
    {
      "cell_type": "code",
      "source": [
        "# Kondisi yang dihubungkan dengan operator and akan bernilai salah jika ada atau semua kondisi salah\n",
        "True and False"
      ],
      "metadata": {
        "colab": {
          "base_uri": "https://localhost:8080/"
        },
        "id": "ad0i85PVHoxX",
        "outputId": "06af20bb-0022-4352-ff4e-ae2537c8e89a"
      },
      "execution_count": null,
      "outputs": [
        {
          "output_type": "execute_result",
          "data": {
            "text/plain": [
              "False"
            ]
          },
          "metadata": {},
          "execution_count": 28
        }
      ]
    },
    {
      "cell_type": "code",
      "source": [
        "False and False"
      ],
      "metadata": {
        "colab": {
          "base_uri": "https://localhost:8080/"
        },
        "id": "ZhrMXk5NHqvm",
        "outputId": "778be438-5fcf-45b4-e2d2-7186dc640270"
      },
      "execution_count": null,
      "outputs": [
        {
          "output_type": "execute_result",
          "data": {
            "text/plain": [
              "False"
            ]
          },
          "metadata": {},
          "execution_count": 29
        }
      ]
    },
    {
      "cell_type": "code",
      "source": [
        "# Contoh: seseorang akan mendapatkan pekerjaan jika rajin dan upgrade skill\n",
        "is_rajin = True\n",
        "is_upgrade_skill = True\n",
        "\n",
        "get_job = is_rajin and is_upgrade_skill\n",
        "\n",
        "get_job"
      ],
      "metadata": {
        "colab": {
          "base_uri": "https://localhost:8080/"
        },
        "id": "lM2b5IqbHuYh",
        "outputId": "ad008f32-362d-4469-d3d5-2e7d3fe120c5"
      },
      "execution_count": null,
      "outputs": [
        {
          "output_type": "execute_result",
          "data": {
            "text/plain": [
              "True"
            ]
          },
          "metadata": {},
          "execution_count": 31
        }
      ]
    },
    {
      "cell_type": "code",
      "source": [
        "# Kondisi yang dihubungkan dengan operator or akan bernilai benar jika salah satu kondisi benar\n",
        "True or True"
      ],
      "metadata": {
        "colab": {
          "base_uri": "https://localhost:8080/"
        },
        "id": "fXFmyC35IFu8",
        "outputId": "c8601cdd-d19d-4e88-febe-8886b11973fa"
      },
      "execution_count": null,
      "outputs": [
        {
          "output_type": "execute_result",
          "data": {
            "text/plain": [
              "True"
            ]
          },
          "metadata": {},
          "execution_count": 32
        }
      ]
    },
    {
      "cell_type": "code",
      "source": [
        "True or False"
      ],
      "metadata": {
        "colab": {
          "base_uri": "https://localhost:8080/"
        },
        "id": "g3tVyz5YIOuv",
        "outputId": "24b64409-52c7-45bf-b5d2-25924661099e"
      },
      "execution_count": null,
      "outputs": [
        {
          "output_type": "execute_result",
          "data": {
            "text/plain": [
              "True"
            ]
          },
          "metadata": {},
          "execution_count": 33
        }
      ]
    },
    {
      "cell_type": "code",
      "source": [
        "# Kondisi yang dihubungkan dengan operator or akan bernilai salah jika semua kondisi salah\n",
        "False or False"
      ],
      "metadata": {
        "colab": {
          "base_uri": "https://localhost:8080/"
        },
        "id": "SOs9oXZ1IPxs",
        "outputId": "f29a301c-626b-4bd3-c8c2-0cd16b5f67c6"
      },
      "execution_count": null,
      "outputs": [
        {
          "output_type": "execute_result",
          "data": {
            "text/plain": [
              "False"
            ]
          },
          "metadata": {},
          "execution_count": 34
        }
      ]
    },
    {
      "cell_type": "code",
      "source": [
        "# Seseorang dikatakan dari fakultas mipa jika dia dari jurusan matematika atau dari jurusan IPA\n",
        "is_matematika = True\n",
        "is_ipa = False\n",
        "\n",
        "is_mipa = is_matematika or is_ipa\n",
        "\n",
        "is_mipa"
      ],
      "metadata": {
        "colab": {
          "base_uri": "https://localhost:8080/"
        },
        "id": "liq7SYsiIRGj",
        "outputId": "9390f775-1870-489e-dd57-bda0772a3f8e"
      },
      "execution_count": null,
      "outputs": [
        {
          "output_type": "execute_result",
          "data": {
            "text/plain": [
              "True"
            ]
          },
          "metadata": {},
          "execution_count": 36
        }
      ]
    },
    {
      "cell_type": "code",
      "source": [
        "int(True)"
      ],
      "metadata": {
        "colab": {
          "base_uri": "https://localhost:8080/"
        },
        "id": "aJir-PJVLeqW",
        "outputId": "429107eb-2a4c-43a1-de6e-0ee9e1360d92"
      },
      "execution_count": null,
      "outputs": [
        {
          "output_type": "execute_result",
          "data": {
            "text/plain": [
              "1"
            ]
          },
          "metadata": {},
          "execution_count": 51
        }
      ]
    },
    {
      "cell_type": "code",
      "source": [
        "int(False)"
      ],
      "metadata": {
        "colab": {
          "base_uri": "https://localhost:8080/"
        },
        "id": "_0F9wIOgLgdm",
        "outputId": "3bf1947a-39ff-4088-f60a-216e6b3f2e94"
      },
      "execution_count": null,
      "outputs": [
        {
          "output_type": "execute_result",
          "data": {
            "text/plain": [
              "0"
            ]
          },
          "metadata": {},
          "execution_count": 52
        }
      ]
    },
    {
      "cell_type": "code",
      "source": [
        "True + True"
      ],
      "metadata": {
        "colab": {
          "base_uri": "https://localhost:8080/"
        },
        "id": "FbWAT8KcLN1C",
        "outputId": "b2c5cbeb-8eb2-42c6-b7cf-71110d5af13e"
      },
      "execution_count": null,
      "outputs": [
        {
          "output_type": "execute_result",
          "data": {
            "text/plain": [
              "2"
            ]
          },
          "metadata": {},
          "execution_count": 47
        }
      ]
    },
    {
      "cell_type": "code",
      "source": [
        "False + False"
      ],
      "metadata": {
        "colab": {
          "base_uri": "https://localhost:8080/"
        },
        "id": "B75xGNHILP9f",
        "outputId": "f7ce1d42-3ec8-41d4-a558-a1d576114599"
      },
      "execution_count": null,
      "outputs": [
        {
          "output_type": "execute_result",
          "data": {
            "text/plain": [
              "0"
            ]
          },
          "metadata": {},
          "execution_count": 48
        }
      ]
    },
    {
      "cell_type": "code",
      "source": [
        "True + False"
      ],
      "metadata": {
        "colab": {
          "base_uri": "https://localhost:8080/"
        },
        "id": "nZQpWcpZOMzp",
        "outputId": "95a751cc-e2fe-4349-94c2-84bebaff0aed"
      },
      "execution_count": null,
      "outputs": [
        {
          "output_type": "execute_result",
          "data": {
            "text/plain": [
              "1"
            ]
          },
          "metadata": {},
          "execution_count": 21
        }
      ]
    },
    {
      "cell_type": "code",
      "source": [
        "3 * True"
      ],
      "metadata": {
        "colab": {
          "base_uri": "https://localhost:8080/"
        },
        "id": "OAToqm3OLSd7",
        "outputId": "05a4e285-2cd1-486d-f1fd-1809b7c0c534"
      },
      "execution_count": null,
      "outputs": [
        {
          "output_type": "execute_result",
          "data": {
            "text/plain": [
              "3"
            ]
          },
          "metadata": {},
          "execution_count": 49
        }
      ]
    },
    {
      "cell_type": "markdown",
      "source": [
        "<a id=\"A.1.\"></a>\n",
        "## <b>B.3. <span style='color:#A0C4FF'>String</span></b>\n",
        "\n",
        "String (string) merupakan tipe data yang digunakan untuk menyimpan teks atau urutan karakter. String dapat didefinisikan dengan menggunakan tanda kutip tunggal (') atau ganda (\")."
      ],
      "metadata": {
        "id": "Oqk7wPjCLxY3"
      }
    },
    {
      "cell_type": "code",
      "source": [
        "# Nilai string diapit oleh tanda kutip\n",
        "'Hello world'"
      ],
      "metadata": {
        "id": "l-fDf8_xLFCC",
        "colab": {
          "base_uri": "https://localhost:8080/",
          "height": 36
        },
        "outputId": "dc749ba9-930b-4490-dccc-4f6bc4e31553"
      },
      "execution_count": null,
      "outputs": [
        {
          "output_type": "execute_result",
          "data": {
            "text/plain": [
              "'Hello world'"
            ],
            "application/vnd.google.colaboratory.intrinsic+json": {
              "type": "string"
            }
          },
          "metadata": {},
          "execution_count": 51
        }
      ]
    },
    {
      "cell_type": "code",
      "source": [
        "nama_depan = 'Elon'\n",
        "nama_belakang = 'Musk'\n",
        "\n",
        "nama_depan + ' ' + nama_belakang"
      ],
      "metadata": {
        "colab": {
          "base_uri": "https://localhost:8080/",
          "height": 36
        },
        "id": "Epb5IE2ZL1T4",
        "outputId": "d0465244-bd6a-4924-9a2f-eb0c4dc29876"
      },
      "execution_count": null,
      "outputs": [
        {
          "output_type": "execute_result",
          "data": {
            "text/plain": [
              "'Elon Musk'"
            ],
            "application/vnd.google.colaboratory.intrinsic+json": {
              "type": "string"
            }
          },
          "metadata": {},
          "execution_count": 52
        }
      ]
    },
    {
      "cell_type": "code",
      "source": [
        "'Python' * 10"
      ],
      "metadata": {
        "colab": {
          "base_uri": "https://localhost:8080/",
          "height": 36
        },
        "id": "1xhDDxV9MNEp",
        "outputId": "b3bf5f20-e12b-4cef-9fb3-f91ff4c14a97"
      },
      "execution_count": null,
      "outputs": [
        {
          "output_type": "execute_result",
          "data": {
            "text/plain": [
              "'PythonPythonPythonPythonPythonPythonPythonPythonPythonPython'"
            ],
            "application/vnd.google.colaboratory.intrinsic+json": {
              "type": "string"
            }
          },
          "metadata": {},
          "execution_count": 53
        }
      ]
    },
    {
      "cell_type": "code",
      "source": [
        "# Membuat string menjadi huruf besar (uppercase)\n",
        "'PyTHon'.upper()"
      ],
      "metadata": {
        "colab": {
          "base_uri": "https://localhost:8080/",
          "height": 36
        },
        "id": "vmUWd3P6Mkt_",
        "outputId": "bf5f7133-d637-454c-d4b2-d942e79b510c"
      },
      "execution_count": null,
      "outputs": [
        {
          "output_type": "execute_result",
          "data": {
            "text/plain": [
              "'PYTHON'"
            ],
            "application/vnd.google.colaboratory.intrinsic+json": {
              "type": "string"
            }
          },
          "metadata": {},
          "execution_count": 48
        }
      ]
    },
    {
      "cell_type": "code",
      "source": [
        "# Membuat string menjadi huruf kecil (lowercase)\n",
        "'PyThon'.lower()"
      ],
      "metadata": {
        "colab": {
          "base_uri": "https://localhost:8080/",
          "height": 36
        },
        "id": "VrawS_mWMsuI",
        "outputId": "2e498ade-b6ba-417f-ba75-e7da3918524e"
      },
      "execution_count": null,
      "outputs": [
        {
          "output_type": "execute_result",
          "data": {
            "text/plain": [
              "'python'"
            ],
            "application/vnd.google.colaboratory.intrinsic+json": {
              "type": "string"
            }
          },
          "metadata": {},
          "execution_count": 49
        }
      ]
    },
    {
      "cell_type": "code",
      "source": [
        "# Membuat huruf pertama dalam string menjadi huruf besar (uppercase)\n",
        "'pyTHon'.capitalize()"
      ],
      "metadata": {
        "colab": {
          "base_uri": "https://localhost:8080/",
          "height": 36
        },
        "id": "BPUcvB0gbTvl",
        "outputId": "52a36811-7a44-417a-f0a4-f9d8f1329f9e"
      },
      "execution_count": null,
      "outputs": [
        {
          "output_type": "execute_result",
          "data": {
            "text/plain": [
              "'Python'"
            ],
            "application/vnd.google.colaboratory.intrinsic+json": {
              "type": "string"
            }
          },
          "metadata": {},
          "execution_count": 50
        }
      ]
    },
    {
      "cell_type": "code",
      "source": [
        "# Menukar string huruf besar (uppercase) ke huruf kecil (lowercase)\n",
        "'PyThon'.swapcase()"
      ],
      "metadata": {
        "colab": {
          "base_uri": "https://localhost:8080/",
          "height": 36
        },
        "id": "5_AwzOJeMwWe",
        "outputId": "6ec42d89-c25f-43f3-fa50-7cd7c128c98f"
      },
      "execution_count": null,
      "outputs": [
        {
          "output_type": "execute_result",
          "data": {
            "text/plain": [
              "'pYtHON'"
            ],
            "application/vnd.google.colaboratory.intrinsic+json": {
              "type": "string"
            }
          },
          "metadata": {},
          "execution_count": 54
        }
      ]
    },
    {
      "cell_type": "code",
      "source": [
        "# Menghitung jumlah huruf dalam suatu string\n",
        "'Aku suka belajar Python'.count('u')"
      ],
      "metadata": {
        "colab": {
          "base_uri": "https://localhost:8080/"
        },
        "id": "HBFnGtcsMzdg",
        "outputId": "d5092870-3a0a-4bf7-f8d4-bdc530f5c235"
      },
      "execution_count": null,
      "outputs": [
        {
          "output_type": "execute_result",
          "data": {
            "text/plain": [
              "2"
            ]
          },
          "metadata": {},
          "execution_count": 55
        }
      ]
    },
    {
      "cell_type": "code",
      "source": [
        "# Mengganti suatu huruf menjadi huruf yang lain dalam suatu string\n",
        "'Aku suka belajar Python'.replace('u','i')"
      ],
      "metadata": {
        "colab": {
          "base_uri": "https://localhost:8080/",
          "height": 36
        },
        "id": "KSw4xwk9M39I",
        "outputId": "357a4d78-9431-4b35-cffa-b41b4f879cab"
      },
      "execution_count": null,
      "outputs": [
        {
          "output_type": "execute_result",
          "data": {
            "text/plain": [
              "'Aki sika belajar Python'"
            ],
            "application/vnd.google.colaboratory.intrinsic+json": {
              "type": "string"
            }
          },
          "metadata": {},
          "execution_count": 56
        }
      ]
    },
    {
      "cell_type": "code",
      "source": [
        "# Menghapus spasi atau karakter tertentu di awal dan akhir string\n",
        "'      Aku suka belajar Python        '.strip()"
      ],
      "metadata": {
        "colab": {
          "base_uri": "https://localhost:8080/",
          "height": 36
        },
        "id": "00XokUFRM_IW",
        "outputId": "28d4ba46-5c6e-4b78-f8e0-47701f09b61f"
      },
      "execution_count": null,
      "outputs": [
        {
          "output_type": "execute_result",
          "data": {
            "text/plain": [
              "'Aku suka belajar Python'"
            ],
            "application/vnd.google.colaboratory.intrinsic+json": {
              "type": "string"
            }
          },
          "metadata": {},
          "execution_count": 57
        }
      ]
    },
    {
      "cell_type": "code",
      "source": [
        "# Mengakses suatu karakter dalam suatu string\n",
        "#    0123456 8910  (index)\n",
        "z = 'Python. Sql'\n",
        "print(z[8])\n",
        "print(z[0:6])"
      ],
      "metadata": {
        "colab": {
          "base_uri": "https://localhost:8080/"
        },
        "id": "W87rSCyqcHLz",
        "outputId": "7430b5ec-60ed-4a49-cb44-71127e400123"
      },
      "execution_count": null,
      "outputs": [
        {
          "output_type": "stream",
          "name": "stdout",
          "text": [
            "S\n",
            "Python\n"
          ]
        }
      ]
    },
    {
      "cell_type": "markdown",
      "source": [
        "# <b>C. <span style='color:#0B2F9F'><code>OPERATOR</code></span></b>"
      ],
      "metadata": {
        "id": "G7m6HJ193aYe"
      }
    },
    {
      "cell_type": "markdown",
      "source": [
        "<a id=\"A.1.\"></a>\n",
        "## <b>C.1. <span style='color:#A0C4FF'>Operasi Dasar Matematika</span></b>\n",
        "\n",
        "Operasi matematika dasar dapat dilakukan dengan menggunakan operator-operator berikut:\n",
        "<br><br>\n",
        "<table border=\"1\">\n",
        "    <tr>\n",
        "        <th>Simbol</th>\n",
        "        <th>Operasi</th>\n",
        "    </tr>\n",
        "    <tr>\n",
        "        <td>+</td>\n",
        "        <td>Penjumlahan</td>\n",
        "    </tr>\n",
        "    <tr>\n",
        "        <td>-</td>\n",
        "        <td>Pengurangan</td>\n",
        "    </tr>\n",
        "    <tr>\n",
        "        <td>*</td>\n",
        "        <td>Perkalian</td>\n",
        "    </tr>\n",
        "    <tr>\n",
        "        <td>/</td>\n",
        "        <td>Pembagian</td>\n",
        "    </tr>\n",
        "    <tr>\n",
        "        <td>//</td>\n",
        "        <td>Pembagian (dibulatkan ke bawah)</td>\n",
        "    </tr>\n",
        "    <tr>\n",
        "        <td>%</td>\n",
        "        <td>Modulo (sisa hasil bagi)</td>\n",
        "    </tr>\n",
        "     <tr>\n",
        "        <td>-</td>\n",
        "        <td>Negasi (mengubah simbol)</td>\n",
        "    </tr>\n",
        "     <tr>\n",
        "        <td>**</td>\n",
        "        <td>Pangkat</td>\n",
        "    </tr>\n",
        "</table>"
      ],
      "metadata": {
        "id": "yrguYJ3-JtjD"
      }
    },
    {
      "cell_type": "code",
      "source": [
        "a = 10\n",
        "b = 3\n",
        "c = 4"
      ],
      "metadata": {
        "id": "JfsOeYimGl4a"
      },
      "execution_count": 11,
      "outputs": []
    },
    {
      "cell_type": "code",
      "source": [
        "a + b"
      ],
      "metadata": {
        "colab": {
          "base_uri": "https://localhost:8080/"
        },
        "id": "NVg4-6eFGc6j",
        "outputId": "c5291a9a-a0df-464c-8a3f-492a3a87fcb7"
      },
      "execution_count": 12,
      "outputs": [
        {
          "output_type": "execute_result",
          "data": {
            "text/plain": [
              "13"
            ]
          },
          "metadata": {},
          "execution_count": 12
        }
      ]
    },
    {
      "cell_type": "code",
      "source": [
        "a - b"
      ],
      "metadata": {
        "colab": {
          "base_uri": "https://localhost:8080/"
        },
        "id": "G4hHBedpGh7f",
        "outputId": "63f2faba-ba61-4564-ee49-bb2106695a54"
      },
      "execution_count": 13,
      "outputs": [
        {
          "output_type": "execute_result",
          "data": {
            "text/plain": [
              "7"
            ]
          },
          "metadata": {},
          "execution_count": 13
        }
      ]
    },
    {
      "cell_type": "code",
      "source": [
        "a * b"
      ],
      "metadata": {
        "colab": {
          "base_uri": "https://localhost:8080/"
        },
        "id": "O_Y2SezVGkkt",
        "outputId": "a85442ff-3c75-4731-a0ef-a627a81d0e7f"
      },
      "execution_count": 14,
      "outputs": [
        {
          "output_type": "execute_result",
          "data": {
            "text/plain": [
              "30"
            ]
          },
          "metadata": {},
          "execution_count": 14
        }
      ]
    },
    {
      "cell_type": "code",
      "source": [
        "a / b"
      ],
      "metadata": {
        "colab": {
          "base_uri": "https://localhost:8080/"
        },
        "id": "0QafaK3mGw-M",
        "outputId": "8588bbfe-727e-4c75-c465-336b6c3ff525"
      },
      "execution_count": 15,
      "outputs": [
        {
          "output_type": "execute_result",
          "data": {
            "text/plain": [
              "3.3333333333333335"
            ]
          },
          "metadata": {},
          "execution_count": 15
        }
      ]
    },
    {
      "cell_type": "code",
      "source": [
        "a // b"
      ],
      "metadata": {
        "colab": {
          "base_uri": "https://localhost:8080/"
        },
        "id": "SqByomU2Gx2_",
        "outputId": "56b12c95-af11-414c-d2fe-55ef0cb6b14c"
      },
      "execution_count": 16,
      "outputs": [
        {
          "output_type": "execute_result",
          "data": {
            "text/plain": [
              "3"
            ]
          },
          "metadata": {},
          "execution_count": 16
        }
      ]
    },
    {
      "cell_type": "code",
      "source": [
        "# Cara lain pembagian disertai pembulatan ke bawah\n",
        "import math\n",
        "print(math.floor(a/b))"
      ],
      "metadata": {
        "colab": {
          "base_uri": "https://localhost:8080/"
        },
        "id": "UQHhpzglNTNJ",
        "outputId": "e621c4e4-42af-4423-8b67-f3a4e3fd6b0f"
      },
      "execution_count": 17,
      "outputs": [
        {
          "output_type": "stream",
          "name": "stdout",
          "text": [
            "3\n"
          ]
        }
      ]
    },
    {
      "cell_type": "code",
      "source": [
        "# Pembagian disertai pembulatan ke atas\n",
        "import math\n",
        "print(math.ceil(a/b))"
      ],
      "metadata": {
        "colab": {
          "base_uri": "https://localhost:8080/"
        },
        "id": "JmL_-lD6MaPq",
        "outputId": "ed0cee2d-fde1-46f9-d979-bd21e05c0054"
      },
      "execution_count": 18,
      "outputs": [
        {
          "output_type": "stream",
          "name": "stdout",
          "text": [
            "4\n"
          ]
        }
      ]
    },
    {
      "cell_type": "code",
      "source": [
        "a % b"
      ],
      "metadata": {
        "colab": {
          "base_uri": "https://localhost:8080/"
        },
        "id": "lkGGdugeGy1o",
        "outputId": "eee3c58e-11f9-4dfb-8a25-0a85ae0ecd93"
      },
      "execution_count": null,
      "outputs": [
        {
          "output_type": "execute_result",
          "data": {
            "text/plain": [
              "1"
            ]
          },
          "metadata": {},
          "execution_count": 12
        }
      ]
    },
    {
      "cell_type": "code",
      "source": [
        "-a"
      ],
      "metadata": {
        "colab": {
          "base_uri": "https://localhost:8080/"
        },
        "id": "s7TU0DCkG0qk",
        "outputId": "2715254e-21d1-443b-a70d-70cc62ec95e0"
      },
      "execution_count": null,
      "outputs": [
        {
          "output_type": "execute_result",
          "data": {
            "text/plain": [
              "-10"
            ]
          },
          "metadata": {},
          "execution_count": 13
        }
      ]
    },
    {
      "cell_type": "code",
      "source": [
        "a ** b"
      ],
      "metadata": {
        "colab": {
          "base_uri": "https://localhost:8080/"
        },
        "id": "kmNynqbbG2UW",
        "outputId": "9183a746-09a7-4410-e47f-78a1f099ed24"
      },
      "execution_count": null,
      "outputs": [
        {
          "output_type": "execute_result",
          "data": {
            "text/plain": [
              "1000"
            ]
          },
          "metadata": {},
          "execution_count": 14
        }
      ]
    },
    {
      "cell_type": "code",
      "source": [
        "# Akar kuadrat\n",
        "c**(1/2)"
      ],
      "metadata": {
        "colab": {
          "base_uri": "https://localhost:8080/"
        },
        "id": "zo8W7kilN20r",
        "outputId": "31f1b04a-6b04-4030-d2fb-1862aa57f4e6"
      },
      "execution_count": null,
      "outputs": [
        {
          "output_type": "execute_result",
          "data": {
            "text/plain": [
              "2.0"
            ]
          },
          "metadata": {},
          "execution_count": 20
        }
      ]
    },
    {
      "cell_type": "markdown",
      "source": [
        "<a id=\"A.1.\"></a>\n",
        "## <b>C.2. <span style='color:#A0C4FF'>Operasi Perbandingan</span></b>\n",
        "\n",
        "Operasi perbandingan digunakan untuk membandingkan dua nilai dan mengembalikan True atau False.\n",
        "<br><br>\n",
        "<table border=\"1\">\n",
        "    <tr>\n",
        "        <th>Simbol</th>\n",
        "        <th>Operasi</th>\n",
        "    </tr>\n",
        "    <tr>\n",
        "        <td><</td>\n",
        "        <td>Kurang dari</td>\n",
        "    </tr>\n",
        "    <tr>\n",
        "        <td>></td>\n",
        "        <td>Lebih dari</td>\n",
        "    </tr>\n",
        "    <tr>\n",
        "        <td><=</td>\n",
        "        <td>Kurang dari atau sama dengan</td>\n",
        "    </tr>\n",
        "    <tr>\n",
        "        <td>>=</td>\n",
        "        <td>Lebih dari atau sama dengan</td>\n",
        "    </tr>\n",
        "    <tr>\n",
        "        <td>==</td>\n",
        "        <td>Sama dengan</td>\n",
        "    </tr>\n",
        "    <tr>\n",
        "        <td>!=</td>\n",
        "        <td>Tidak sama dengan</td>\n",
        "    </tr>\n",
        "</table>"
      ],
      "metadata": {
        "id": "_XdG6oXhKmcc"
      }
    },
    {
      "cell_type": "code",
      "source": [
        "a = 3\n",
        "b = 4"
      ],
      "metadata": {
        "id": "sr15SQneKp3u"
      },
      "execution_count": null,
      "outputs": []
    },
    {
      "cell_type": "code",
      "source": [
        "a > b"
      ],
      "metadata": {
        "colab": {
          "base_uri": "https://localhost:8080/"
        },
        "id": "R1udm4zmK-yw",
        "outputId": "03d0d8cc-7c49-4488-dfe7-e1e7276d1767"
      },
      "execution_count": null,
      "outputs": [
        {
          "output_type": "execute_result",
          "data": {
            "text/plain": [
              "False"
            ]
          },
          "metadata": {},
          "execution_count": 41
        }
      ]
    },
    {
      "cell_type": "code",
      "source": [
        "a < b"
      ],
      "metadata": {
        "colab": {
          "base_uri": "https://localhost:8080/"
        },
        "id": "sIJozRMmK_5O",
        "outputId": "4fa5a4ea-b0ba-407c-9243-873243a9c475"
      },
      "execution_count": null,
      "outputs": [
        {
          "output_type": "execute_result",
          "data": {
            "text/plain": [
              "True"
            ]
          },
          "metadata": {},
          "execution_count": 42
        }
      ]
    },
    {
      "cell_type": "code",
      "source": [
        "a == 5"
      ],
      "metadata": {
        "colab": {
          "base_uri": "https://localhost:8080/"
        },
        "id": "iRD-OX9dLA9z",
        "outputId": "128b4d56-3ff2-4569-a51c-8f04a4a49ef6"
      },
      "execution_count": null,
      "outputs": [
        {
          "output_type": "execute_result",
          "data": {
            "text/plain": [
              "False"
            ]
          },
          "metadata": {},
          "execution_count": 43
        }
      ]
    },
    {
      "cell_type": "code",
      "source": [
        "a != b"
      ],
      "metadata": {
        "colab": {
          "base_uri": "https://localhost:8080/"
        },
        "id": "v2ValuEeLC8P",
        "outputId": "b9b90069-892a-43df-e2e8-357557fe2cc0"
      },
      "execution_count": null,
      "outputs": [
        {
          "output_type": "execute_result",
          "data": {
            "text/plain": [
              "True"
            ]
          },
          "metadata": {},
          "execution_count": 45
        }
      ]
    },
    {
      "cell_type": "markdown",
      "source": [
        "# <b>D. <span style='color:#0B2F9F'><code>LATIHAN</code></span></b>"
      ],
      "metadata": {
        "id": "K2d5v3WCpYz7"
      }
    },
    {
      "cell_type": "code",
      "source": [
        "# 1\n",
        "\n",
        "x = int(input(\"Masukan nilai x: \"))\n",
        "if x > 4:\n",
        "  print(\"Nilai x lebih dari 4\")\n",
        "elif x == 4:\n",
        "  print(\"Nilai x sama dengan 4\")\n",
        "else:\n",
        "  print(\"Nilai x kurang dari 4\")"
      ],
      "metadata": {
        "colab": {
          "base_uri": "https://localhost:8080/"
        },
        "id": "4Mnps6-8RYb_",
        "outputId": "69185c9c-67b5-4737-c055-6a77b1741de0"
      },
      "execution_count": null,
      "outputs": [
        {
          "output_type": "stream",
          "name": "stdout",
          "text": [
            "Masukan nilai x: 9\n",
            "Nilai x lebih dari 4\n"
          ]
        }
      ]
    },
    {
      "cell_type": "code",
      "source": [
        "# 2\n",
        "\n",
        "x = int(input(\"Masukan nilai x: \"))\n",
        "if x % 2 == 0:\n",
        "  print(\"x bilangan genap\")\n",
        "else:\n",
        "  print(\"x bilangan ganjil\")"
      ],
      "metadata": {
        "colab": {
          "base_uri": "https://localhost:8080/"
        },
        "id": "rYMeuu0eRjcV",
        "outputId": "223220c9-a160-4b40-8d30-e2141fd86cc8"
      },
      "execution_count": null,
      "outputs": [
        {
          "output_type": "stream",
          "name": "stdout",
          "text": [
            "Masukan nilai x: 2\n",
            "x bilangan genap\n"
          ]
        }
      ]
    },
    {
      "cell_type": "code",
      "source": [
        "# 3\n",
        "\n",
        "x = int(input(\"Masukan nilai x: \"))\n",
        "y = int(input(\"Masukan nilai y: \"))\n",
        "if (x % 2 == 0) and (y % 3 == 0):\n",
        "  print(\"x dan y bilangan yang habis dibagi 2 dan 3\")\n",
        "else:\n",
        "  print(\"Salah satu dari x atau y adalah bilangan yang tidak habis dibagi 2 dan 3\")"
      ],
      "metadata": {
        "colab": {
          "base_uri": "https://localhost:8080/"
        },
        "id": "_VRBjiuzRkAl",
        "outputId": "422a98bb-7802-4ec3-919c-1eec90b78c8a"
      },
      "execution_count": null,
      "outputs": [
        {
          "output_type": "stream",
          "name": "stdout",
          "text": [
            "Masukan nilai x: 4\n",
            "Masukan nilai y: 5\n",
            "Salah satu dari x atau y adalah bilangan yang tidak habis dibagi 2 dan 3\n"
          ]
        }
      ]
    },
    {
      "cell_type": "code",
      "source": [
        "# 4\n",
        "\n",
        "w = float(input(\"Masukan berat badan anda (kg): \"))\n",
        "h = float(input(\"Masukan tinggi badan anda (cm): \"))\n",
        "bmi = (w/((h/100)**2))\n",
        "if bmi < 18.5:\n",
        "  print(f\"Nilai BMI Anda: {bmi:.2f}, maka Anda underweight\")\n",
        "elif bmi >= 18.5 and bmi < 24.9 :\n",
        "  print(f\"Nilai BMI Anda: {bmi:.2f}, maka Anda healthy\")\n",
        "elif bmi >= 24.9 and bmi < 29.9:\n",
        "  print(f\"Nilai BMI Anda: {bmi:.2f}, maka Anda overweight\")\n",
        "else:\n",
        "  print(f\"Nilai BMI Anda: {bmi:.2f}, maka Anda obesitas\")"
      ],
      "metadata": {
        "colab": {
          "base_uri": "https://localhost:8080/"
        },
        "id": "62NvmZzOVkys",
        "outputId": "07c669fd-b95e-4188-926d-fad9a9a1e69a"
      },
      "execution_count": null,
      "outputs": [
        {
          "output_type": "stream",
          "name": "stdout",
          "text": [
            "Masukan berat badan anda (kg): 53.4\n",
            "Masukan tinggi badan anda (cm): 164.7\n",
            "Nilai BMI Anda: 19.69, maka Anda healthy\n"
          ]
        }
      ]
    },
    {
      "cell_type": "code",
      "source": [
        "# 5 (membuat segitiga siku-siku)\n",
        "\n",
        "for i in range(1,6):\n",
        "  print('*' * i)"
      ],
      "metadata": {
        "id": "_Qv4k3HwWyk3",
        "colab": {
          "base_uri": "https://localhost:8080/"
        },
        "outputId": "7b3f33be-330f-43ea-e80e-a039ffc645be"
      },
      "execution_count": 1,
      "outputs": [
        {
          "output_type": "stream",
          "name": "stdout",
          "text": [
            "*\n",
            "**\n",
            "***\n",
            "****\n",
            "*****\n"
          ]
        }
      ]
    },
    {
      "cell_type": "markdown",
      "source": [
        "\n",
        "---\n",
        "Powered by : <br>\n",
        "<img src=\"https://lh3.googleusercontent.com/ayfbbgvQolM_Ys9VYRVFD6FjDJXSebI9sN1VtY4ppp65dXepA6JCKgKMM_porWAErGQmc8l-L_RXq080SJ3FbYTIsyxYqWWTuAX8A3VtafWLUwAnnxNnjR1s-3BMCUlF34fYnViLuutxrLm3nEpoix0\" width=\"20%\">\n",
        "<br><br>\n",
        "<a href=\"https://www.linkedin.com/in/kiranafara/\"><img src=\"https://img.shields.io/badge/-© 2025 Kirana Fara L-417DAC?style=for-the-badge&logoColor=white\"/></a>"
      ],
      "metadata": {
        "id": "xhdC7RnsKs3m"
      }
    }
  ]
}